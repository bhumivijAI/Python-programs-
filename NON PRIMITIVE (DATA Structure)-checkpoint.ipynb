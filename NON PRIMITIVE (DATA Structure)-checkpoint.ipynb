{
 "cells": [
  {
   "cell_type": "markdown",
   "id": "29494ad9",
   "metadata": {},
   "source": [
    "# NON PRIMITIVE DATA TYPES( DATA STructure)\n",
    "\n",
    "* It is also known as data structure \n",
    "\n",
    "* In Data structure primitive and non primitive data types can both be stored in a sequence or structure"
   ]
  },
  {
   "cell_type": "markdown",
   "id": "9c1f4f35",
   "metadata": {},
   "source": [
    "# *LIST*\n",
    "* Lists are used to store multiple items in a single variable. Lists are one of 4 built-in data types in Python used to store collections of data, the other 3 are Tuple, Set, and Dictionary, all with different qualities and usage. Lists are created using square brackets."
   ]
  },
  {
   "cell_type": "code",
   "execution_count": 1,
   "id": "5253f538",
   "metadata": {},
   "outputs": [
    {
     "data": {
      "text/plain": [
       "([6, 7], 'hello')"
      ]
     },
     "execution_count": 1,
     "metadata": {},
     "output_type": "execute_result"
    }
   ],
   "source": [
    "x = [\"str\",\"hello\",1,7,67,True,[1,2,3,[6,7]]]\n",
    "x[6][3],x[1]"
   ]
  },
  {
   "cell_type": "code",
   "execution_count": 4,
   "id": "b0e6b75c",
   "metadata": {},
   "outputs": [
    {
     "name": "stdout",
     "output_type": "stream",
     "text": [
      "['5867', '857', '937']\n",
      "['000', '857', '666']\n"
     ]
    }
   ],
   "source": [
    "x = ['5867','857','937']\n",
    "print(x)\n",
    "\n",
    "x[0] = '000'\n",
    "x[-1] = '666'\n",
    "print(x)"
   ]
  },
  {
   "cell_type": "code",
   "execution_count": 19,
   "id": "28a5843b",
   "metadata": {},
   "outputs": [
    {
     "name": "stdout",
     "output_type": "stream",
     "text": [
      "['000', '857', '666']\n"
     ]
    }
   ],
   "source": [
    "x = ['5867','857','937']\n",
    "x[0]='000'\n",
    "x[-1]='666'\n",
    "print(x)"
   ]
  },
  {
   "cell_type": "code",
   "execution_count": 2,
   "id": "93a702f3",
   "metadata": {},
   "outputs": [
    {
     "name": "stdout",
     "output_type": "stream",
     "text": [
      "using.append ,method = [1, 2, [1, 4, '3214']]\n",
      "using ,extend method= [1, 2, 3, 't', 'r', 'u', 'e']\n",
      "[1, 2, 3, 't', 'r', 'u', 'e', 'hello']\n"
     ]
    }
   ],
   "source": [
    "# list methods \n",
    "\n",
    "# list.append(item) - add a single item at the end of the list .\n",
    "\n",
    "x = [1,2]\n",
    "x.append([1,4,'3214'])# only one argument, can take any data type\n",
    "print('using.append ,method =',x)\n",
    "\n",
    "# .extend(iterable)\n",
    "# iterable - strings,lists,tuples ,set , dictionary,range\n",
    "\n",
    "lst=[1,2,3]\n",
    "lst.extend('true')# only one argument , will only take iterable data type\n",
    "print('using ,extend method=',lst)\n",
    "lst.extend(['hello'])\n",
    "print(lst)\n",
    "\n",
    "\n",
    "# .remove()\n",
    "\n",
    "\n",
    "# .count()"
   ]
  },
  {
   "cell_type": "code",
   "execution_count": 6,
   "id": "ac8000d2",
   "metadata": {},
   "outputs": [
    {
     "name": "stdout",
     "output_type": "stream",
     "text": [
      "hello\n"
     ]
    }
   ],
   "source": [
    "x = [\"gaurav\",1,2,2,3,5,6,[1,2,3,4,5,6,[\"hello\",9,3,4]]]\n",
    "a = x[7][6][0]\n",
    "print(a)\n"
   ]
  },
  {
   "cell_type": "code",
   "execution_count": 2,
   "id": "8a4c2741",
   "metadata": {},
   "outputs": [
    {
     "ename": "IndexError",
     "evalue": "list index out of range",
     "output_type": "error",
     "traceback": [
      "\u001b[1;31m---------------------------------------------------------------------------\u001b[0m",
      "\u001b[1;31mIndexError\u001b[0m                                Traceback (most recent call last)",
      "Cell \u001b[1;32mIn[2], line 1\u001b[0m\n\u001b[1;32m----> 1\u001b[0m \u001b[38;5;28;01mdel\u001b[39;00m\u001b[43m[\u001b[49m\u001b[38;5;241;43m7\u001b[39;49m\u001b[43m]\u001b[49m\u001b[43m[\u001b[49m\u001b[38;5;241;43m6\u001b[39;49m\u001b[43m]\u001b[49m[\u001b[38;5;241m0\u001b[39m]\n",
      "\u001b[1;31mIndexError\u001b[0m: list index out of range"
     ]
    }
   ],
   "source": [
    "del[7][6][0]"
   ]
  },
  {
   "cell_type": "code",
   "execution_count": 10,
   "id": "9043238c",
   "metadata": {},
   "outputs": [
    {
     "name": "stdout",
     "output_type": "stream",
     "text": [
      "hello\n"
     ]
    },
    {
     "ename": "NameError",
     "evalue": "name '_str' is not defined",
     "output_type": "error",
     "traceback": [
      "\u001b[1;31m---------------------------------------------------------------------------\u001b[0m",
      "\u001b[1;31mNameError\u001b[0m                                 Traceback (most recent call last)",
      "Cell \u001b[1;32mIn[10], line 6\u001b[0m\n\u001b[0;32m      3\u001b[0m \u001b[38;5;28mprint\u001b[39m(_str)\n\u001b[0;32m      5\u001b[0m \u001b[38;5;28;01mdel\u001b[39;00m _str\n\u001b[1;32m----> 6\u001b[0m \u001b[38;5;28mprint\u001b[39m(\u001b[43m_str\u001b[49m)\n",
      "\u001b[1;31mNameError\u001b[0m: name '_str' is not defined"
     ]
    }
   ],
   "source": [
    "x = [\"gaurav\",1,2,2,3,5,6,[1,2,3,4,5,6,[\"hello\",9,3,4]]]\n",
    "_str = x[7][6][0] \n",
    "print(_str)\n",
    "\n",
    "del _str\n",
    "print(_str)\n"
   ]
  },
  {
   "cell_type": "code",
   "execution_count": 17,
   "id": "97d3f7d7",
   "metadata": {},
   "outputs": [
    {
     "ename": "TypeError",
     "evalue": "list indices must be integers or slices, not str",
     "output_type": "error",
     "traceback": [
      "\u001b[1;31m---------------------------------------------------------------------------\u001b[0m",
      "\u001b[1;31mTypeError\u001b[0m                                 Traceback (most recent call last)",
      "Cell \u001b[1;32mIn[17], line 2\u001b[0m\n\u001b[0;32m      1\u001b[0m x \u001b[38;5;241m=\u001b[39m [\u001b[38;5;124m\"\u001b[39m\u001b[38;5;124mgaurav\u001b[39m\u001b[38;5;124m\"\u001b[39m,\u001b[38;5;241m1\u001b[39m,\u001b[38;5;241m2\u001b[39m,\u001b[38;5;241m2\u001b[39m,\u001b[38;5;241m3\u001b[39m,\u001b[38;5;241m5\u001b[39m,\u001b[38;5;241m6\u001b[39m,[\u001b[38;5;241m1\u001b[39m,\u001b[38;5;241m2\u001b[39m,\u001b[38;5;241m3\u001b[39m,\u001b[38;5;241m4\u001b[39m,\u001b[38;5;241m5\u001b[39m,\u001b[38;5;241m6\u001b[39m,[\u001b[38;5;124m\"\u001b[39m\u001b[38;5;124mhello\u001b[39m\u001b[38;5;124m\"\u001b[39m,\u001b[38;5;241m9\u001b[39m,\u001b[38;5;241m3\u001b[39m,\u001b[38;5;241m4\u001b[39m]]]\n\u001b[1;32m----> 2\u001b[0m \u001b[38;5;28;01mdel\u001b[39;00m x[\u001b[38;5;124m\"\u001b[39m\u001b[38;5;124mhello\u001b[39m\u001b[38;5;124m\"\u001b[39m]\n\u001b[0;32m      3\u001b[0m \u001b[38;5;28mprint\u001b[39m(x)\n",
      "\u001b[1;31mTypeError\u001b[0m: list indices must be integers or slices, not str"
     ]
    }
   ],
   "source": [
    "x = [\"gaurav\",1,2,2,3,5,6,[1,2,3,4,5,6,[\"hello\",9,3,4]]]\n",
    "del x[\"hello\"]\n",
    "print(x)\n"
   ]
  },
  {
   "cell_type": "code",
   "execution_count": 19,
   "id": "c160970a",
   "metadata": {},
   "outputs": [
    {
     "name": "stdout",
     "output_type": "stream",
     "text": [
      "['gaurav', 1, 2, 2, 3, 5, 6, [1, 2, 3, 4, 5, 6]]\n"
     ]
    }
   ],
   "source": [
    "x = [\"gaurav\",1,2,2,3,5,6,[1,2,3,4,5,6,[\"hello\",9,3,4]]]\n",
    "del x[7][6]\n",
    "print(x)\n"
   ]
  },
  {
   "cell_type": "code",
   "execution_count": 30,
   "id": "15231948",
   "metadata": {},
   "outputs": [
    {
     "name": "stdout",
     "output_type": "stream",
     "text": [
      "['gaurav', 1, 2, 2, 3, 5, 6, [1, 2, 3, 4, 5, 6, [9, 3, 4]]]\n"
     ]
    }
   ],
   "source": [
    "x = [\"gaurav\",1,2,2,3,5,6,[1,2,3,4,5,6,[\"hello\",9,3,4]]]  # answer \n",
    "del x[7][6][0]\n",
    "print(x)\n"
   ]
  },
  {
   "cell_type": "code",
   "execution_count": null,
   "id": "c32bc9fd",
   "metadata": {},
   "outputs": [],
   "source": []
  },
  {
   "cell_type": "code",
   "execution_count": 20,
   "id": "ace29458",
   "metadata": {},
   "outputs": [
    {
     "name": "stdout",
     "output_type": "stream",
     "text": [
      "[1, 3]\n"
     ]
    }
   ],
   "source": [
    "# .remove\n",
    "lst = [1,2,3]\n",
    "lst.remove(2)\n",
    "print(lst)"
   ]
  },
  {
   "cell_type": "code",
   "execution_count": 21,
   "id": "59e6fd81",
   "metadata": {},
   "outputs": [
    {
     "data": {
      "text/plain": [
       "4"
      ]
     },
     "execution_count": 21,
     "metadata": {},
     "output_type": "execute_result"
    }
   ],
   "source": [
    "# .count\n",
    "s = [1,1,2,3,3,3,5,5,5,5]\n",
    "s.count(5)"
   ]
  },
  {
   "cell_type": "code",
   "execution_count": 22,
   "id": "ab3f9147",
   "metadata": {},
   "outputs": [
    {
     "name": "stdout",
     "output_type": "stream",
     "text": [
      "[1, 1, 2, 3, 3, 3, 5, 5, 5, 5]\n"
     ]
    }
   ],
   "source": [
    "# . sort - only works with integers . \n",
    "s = [1,1,2,3,3,3,5,5,5,5]\n",
    "s.sort()\n",
    "print(s)  # it will give the output in the asending order"
   ]
  },
  {
   "cell_type": "code",
   "execution_count": 23,
   "id": "f50a36c1",
   "metadata": {},
   "outputs": [
    {
     "data": {
      "text/plain": [
       "[5, 5, 5, 5, 3, 3, 3, 2, 1, 1]"
      ]
     },
     "execution_count": 23,
     "metadata": {},
     "output_type": "execute_result"
    }
   ],
   "source": [
    "s.sort(reverse=True)# gives in desending order\n",
    "s"
   ]
  },
  {
   "cell_type": "code",
   "execution_count": 24,
   "id": "f970c0bd",
   "metadata": {},
   "outputs": [
    {
     "data": {
      "text/plain": [
       "[1, 1, 2, 3, 3, 3, 5, 5, 5, 5]"
      ]
     },
     "execution_count": 24,
     "metadata": {},
     "output_type": "execute_result"
    }
   ],
   "source": [
    "s.sort(reverse=False)\n",
    "s"
   ]
  },
  {
   "cell_type": "code",
   "execution_count": 25,
   "id": "a1859b97",
   "metadata": {},
   "outputs": [
    {
     "data": {
      "text/plain": [
       "[1, 1, 2, 3, 3, 3, 5, 5, 5, 5.7]"
      ]
     },
     "execution_count": 25,
     "metadata": {},
     "output_type": "execute_result"
    }
   ],
   "source": [
    "s = [1,1,2,3,3,3,5,5.7,5,5]\n",
    "s.sort()\n",
    "s"
   ]
  },
  {
   "cell_type": "code",
   "execution_count": 26,
   "id": "43d4af48",
   "metadata": {},
   "outputs": [
    {
     "data": {
      "text/plain": [
       "[3.6, 123, 'def', 'abc']"
      ]
     },
     "execution_count": 26,
     "metadata": {},
     "output_type": "execute_result"
    }
   ],
   "source": [
    "# .reverse()\n",
    "x = [\"abc\",\"def\",123,3.6]\n",
    "x.reverse()\n",
    "x"
   ]
  },
  {
   "cell_type": "code",
   "execution_count": 27,
   "id": "1ddec4fe",
   "metadata": {},
   "outputs": [
    {
     "ename": "TypeError",
     "evalue": "list.reverse() takes no arguments (1 given)",
     "output_type": "error",
     "traceback": [
      "\u001b[1;31m---------------------------------------------------------------------------\u001b[0m",
      "\u001b[1;31mTypeError\u001b[0m                                 Traceback (most recent call last)",
      "Cell \u001b[1;32mIn[27], line 2\u001b[0m\n\u001b[0;32m      1\u001b[0m x \u001b[38;5;241m=\u001b[39m [\u001b[38;5;124m\"\u001b[39m\u001b[38;5;124mabc\u001b[39m\u001b[38;5;124m\"\u001b[39m,\u001b[38;5;124m\"\u001b[39m\u001b[38;5;124mdef\u001b[39m\u001b[38;5;124m\"\u001b[39m,\u001b[38;5;241m123\u001b[39m,\u001b[38;5;241m3.6\u001b[39m]\n\u001b[1;32m----> 2\u001b[0m \u001b[43mx\u001b[49m\u001b[38;5;241;43m.\u001b[39;49m\u001b[43mreverse\u001b[49m\u001b[43m(\u001b[49m\u001b[38;5;241;43m2\u001b[39;49m\u001b[43m)\u001b[49m\n\u001b[0;32m      3\u001b[0m x\n",
      "\u001b[1;31mTypeError\u001b[0m: list.reverse() takes no arguments (1 given)"
     ]
    }
   ],
   "source": [
    "x = [\"abc\",\"def\",123,3.6]\n",
    "x.reverse(2)\n",
    "x"
   ]
  },
  {
   "cell_type": "code",
   "execution_count": 5,
   "id": "e3cb36a0",
   "metadata": {},
   "outputs": [
    {
     "name": "stdout",
     "output_type": "stream",
     "text": [
      "[1, 2, 3, 45, 4, 5, 6, 7, 8, 123]\n"
     ]
    }
   ],
   "source": [
    "x = [1,2,3,4,5,6,7,8]\n",
    "x.append(123)\n",
    "x.insert(3,45) # insert takes 2 argument (first index nno. and what you have to add.)\n",
    "print(x)"
   ]
  },
  {
   "cell_type": "code",
   "execution_count": 6,
   "id": "e157d314",
   "metadata": {},
   "outputs": [
    {
     "name": "stdout",
     "output_type": "stream",
     "text": [
      "[]\n"
     ]
    }
   ],
   "source": [
    "v = ['rishi', 27 , 'rahul']\n",
    "v.clear()\n",
    "print(v)"
   ]
  },
  {
   "cell_type": "code",
   "execution_count": 3,
   "id": "5f6be88d",
   "metadata": {},
   "outputs": [
    {
     "name": "stdout",
     "output_type": "stream",
     "text": [
      "[1, 2, 3, 4, 5, 3, 2, 6, 'Helloworld']\n"
     ]
    }
   ],
   "source": [
    "a = [1,2,3,4,5,3,2,6]\n",
    "a.append(\"Helloworld\")\n",
    "print(a)"
   ]
  },
  {
   "cell_type": "code",
   "execution_count": null,
   "id": "5a88d39e",
   "metadata": {},
   "outputs": [],
   "source": []
  },
  {
   "cell_type": "code",
   "execution_count": null,
   "id": "8bb28d0e",
   "metadata": {},
   "outputs": [],
   "source": []
  },
  {
   "cell_type": "code",
   "execution_count": null,
   "id": "1caeaf22",
   "metadata": {},
   "outputs": [],
   "source": []
  },
  {
   "cell_type": "code",
   "execution_count": null,
   "id": "f674e91e",
   "metadata": {},
   "outputs": [],
   "source": []
  },
  {
   "cell_type": "code",
   "execution_count": null,
   "id": "38acefc5",
   "metadata": {},
   "outputs": [],
   "source": []
  },
  {
   "cell_type": "code",
   "execution_count": null,
   "id": "d0d53123",
   "metadata": {},
   "outputs": [],
   "source": []
  },
  {
   "cell_type": "code",
   "execution_count": null,
   "id": "a860c288",
   "metadata": {},
   "outputs": [],
   "source": []
  },
  {
   "cell_type": "code",
   "execution_count": null,
   "id": "9a8d3994",
   "metadata": {},
   "outputs": [],
   "source": []
  },
  {
   "cell_type": "code",
   "execution_count": null,
   "id": "39774bb6",
   "metadata": {},
   "outputs": [],
   "source": []
  },
  {
   "cell_type": "code",
   "execution_count": null,
   "id": "f2f4c845",
   "metadata": {},
   "outputs": [],
   "source": []
  },
  {
   "cell_type": "code",
   "execution_count": null,
   "id": "112535ed",
   "metadata": {},
   "outputs": [],
   "source": []
  },
  {
   "cell_type": "markdown",
   "id": "b1432720",
   "metadata": {},
   "source": [
    "# *TUPLES*  \n",
    "* Python Tuple is a collection of objects separated by commas.( inside or outside the brackets are tuple) In some ways, a tuple is similar to a list in terms of indexing, nested objects, and repetition but a tuple is immutable, unlike lists which are mutable.\n",
    "* .count() can be use in tuple\n",
    "* .index() it will give the index number of the argument where it first occured."
   ]
  },
  {
   "cell_type": "code",
   "execution_count": 18,
   "id": "97d9509a",
   "metadata": {},
   "outputs": [
    {
     "data": {
      "text/plain": [
       "(1, 2, True, 'str')"
      ]
     },
     "execution_count": 18,
     "metadata": {},
     "output_type": "execute_result"
    }
   ],
   "source": [
    "x = (1,2,True,\"str\")\n",
    "x"
   ]
  },
  {
   "cell_type": "code",
   "execution_count": 9,
   "id": "f04be9d1",
   "metadata": {},
   "outputs": [
    {
     "name": "stdout",
     "output_type": "stream",
     "text": [
      "<class 'int'>\n"
     ]
    }
   ],
   "source": [
    "a = (1)\n",
    "print(type(a))"
   ]
  },
  {
   "cell_type": "code",
   "execution_count": 21,
   "id": "d6470cb5",
   "metadata": {},
   "outputs": [
    {
     "data": {
      "text/plain": [
       "tuple"
      ]
     },
     "execution_count": 21,
     "metadata": {},
     "output_type": "execute_result"
    }
   ],
   "source": [
    "x = (True,\"str\")\n",
    "type(x)"
   ]
  },
  {
   "cell_type": "code",
   "execution_count": 22,
   "id": "1db605ce",
   "metadata": {},
   "outputs": [
    {
     "data": {
      "text/plain": [
       "tuple"
      ]
     },
     "execution_count": 22,
     "metadata": {},
     "output_type": "execute_result"
    }
   ],
   "source": [
    "x = (\"str\",)\n",
    "type(x)"
   ]
  },
  {
   "cell_type": "code",
   "execution_count": 23,
   "id": "7a3863a5",
   "metadata": {},
   "outputs": [
    {
     "data": {
      "text/plain": [
       "(1, 2)"
      ]
     },
     "execution_count": 23,
     "metadata": {},
     "output_type": "execute_result"
    }
   ],
   "source": [
    "y = 1,2\n",
    "y       # any data type which is written with comma or seprated with comma is tuple."
   ]
  },
  {
   "cell_type": "code",
   "execution_count": 24,
   "id": "6337bdf6",
   "metadata": {},
   "outputs": [
    {
     "ename": "AttributeError",
     "evalue": "'tuple' object has no attribute 'reverse'",
     "output_type": "error",
     "traceback": [
      "\u001b[1;31m---------------------------------------------------------------------------\u001b[0m",
      "\u001b[1;31mAttributeError\u001b[0m                            Traceback (most recent call last)",
      "Cell \u001b[1;32mIn[24], line 2\u001b[0m\n\u001b[0;32m      1\u001b[0m x \u001b[38;5;241m=\u001b[39m (\u001b[38;5;241m1\u001b[39m,\u001b[38;5;241m2\u001b[39m,\u001b[38;5;28;01mTrue\u001b[39;00m,\u001b[38;5;124m\"\u001b[39m\u001b[38;5;124mstr\u001b[39m\u001b[38;5;124m\"\u001b[39m)\n\u001b[1;32m----> 2\u001b[0m \u001b[43mx\u001b[49m\u001b[38;5;241;43m.\u001b[39;49m\u001b[43mreverse\u001b[49m()\n\u001b[0;32m      3\u001b[0m x\n",
      "\u001b[1;31mAttributeError\u001b[0m: 'tuple' object has no attribute 'reverse'"
     ]
    }
   ],
   "source": [
    "x = (1,2,True,\"str\")\n",
    "x.reverse()\n",
    "x"
   ]
  },
  {
   "cell_type": "code",
   "execution_count": 26,
   "id": "e26f9269",
   "metadata": {},
   "outputs": [
    {
     "data": {
      "text/plain": [
       "3"
      ]
     },
     "execution_count": 26,
     "metadata": {},
     "output_type": "execute_result"
    }
   ],
   "source": [
    "# .count() \n",
    "tup1 = (3,4,5,5,7,8,5,6,7)\n",
    "tup1.count(5)\n"
   ]
  },
  {
   "cell_type": "code",
   "execution_count": 27,
   "id": "1c71479b",
   "metadata": {},
   "outputs": [
    {
     "data": {
      "text/plain": [
       "2"
      ]
     },
     "execution_count": 27,
     "metadata": {},
     "output_type": "execute_result"
    }
   ],
   "source": [
    "# .index()\n",
    "tup1.index(5)"
   ]
  },
  {
   "cell_type": "code",
   "execution_count": 12,
   "id": "921c2392",
   "metadata": {},
   "outputs": [
    {
     "data": {
      "text/plain": [
       "1918242358144"
      ]
     },
     "execution_count": 12,
     "metadata": {},
     "output_type": "execute_result"
    }
   ],
   "source": [
    "x = [12]\n",
    "id(x)"
   ]
  },
  {
   "cell_type": "code",
   "execution_count": 13,
   "id": "9e3a0b4e",
   "metadata": {},
   "outputs": [
    {
     "data": {
      "text/plain": [
       "1918270607168"
      ]
     },
     "execution_count": 13,
     "metadata": {},
     "output_type": "execute_result"
    }
   ],
   "source": [
    "y = [12]\n",
    "id(y)"
   ]
  },
  {
   "cell_type": "markdown",
   "id": "75166127",
   "metadata": {},
   "source": [
    "# OBJECTS\n",
    "* All data in python program is represented by objects.\n",
    "* Every object has an identity(address , memory,location), a type or a value.\n",
    "* An objects's type determines the operations that the object supports and also defines the possible \n",
    "  values for objects of that type.\n",
    "* The value of some objects can change. Object whose value can change without changing the identity \n",
    "  are said to be muatable, objects whose value is unchangeable once they are created are called \n",
    "  immutable."
   ]
  },
  {
   "cell_type": "markdown",
   "id": "f31ba8a3",
   "metadata": {},
   "source": [
    "# *IMMUTABLE OBJECTS*\n",
    "* An immutable object is a data structure that cannot be changed once it has been created. This means that all of the object’s fields are set when the object is first created.\n",
    "\n",
    "# *MUTABLE OBJECTS* \n",
    "* Objects are mutable if they can be changed after they have been created. This means that all of the object’s fields can change over time as needed."
   ]
  },
  {
   "cell_type": "markdown",
   "id": "e24489bd",
   "metadata": {},
   "source": [
    "*However, its state can be changed if it is a mutable object. To summarise the difference, mutable objects can change their state or contents and immutable objects can’t change their state or content.*"
   ]
  },
  {
   "cell_type": "markdown",
   "id": "3c9f5370",
   "metadata": {},
   "source": [
    "A variable is not an container it just points or refers to the object we created or the value we give\n",
    "to the object."
   ]
  },
  {
   "attachments": {
    "image.png": {
     "image/png": "[encoded data removed]"
    }
   },
   "cell_type": "markdown",
   "id": "b94b9542",
   "metadata": {},
   "source": [
    "![image.png](attachment:image.png)"
   ]
  },
  {
   "cell_type": "markdown",
   "id": "1f4b5ea9",
   "metadata": {},
   "source": [
    "* An objects's type determines(tay krta h) the operations that the object supports and also defines the possible values for objects of that   type.\n",
    "\n",
    "--- koi bhi object ka type ye tay krta h ki vo kis operation ko support krta h ya krega or or voii object ka type ye bhi define       krta h ki usss object ke data type ke liye kya possible values ho sakti h .\n",
    "    *jese sare datatypes alag alag operations or operators ko determine or support krta h .* "
   ]
  },
  {
   "cell_type": "code",
   "execution_count": 3,
   "id": "a96b14fc",
   "metadata": {},
   "outputs": [
    {
     "name": "stdout",
     "output_type": "stream",
     "text": [
      "myself data science\n",
      "2066147305760\n",
      "myself data science\n",
      "2066147680192\n"
     ]
    }
   ],
   "source": [
    "p = \"myself data science\"\n",
    "print(p)\n",
    "print(id(p.replace(\" \",\":\")))\n",
    "print(p)\n",
    "print(id(p))# ??(id)"
   ]
  },
  {
   "cell_type": "code",
   "execution_count": 28,
   "id": "cf219e0d",
   "metadata": {},
   "outputs": [
    {
     "data": {
      "text/plain": [
       "'myself data science'"
      ]
     },
     "execution_count": 28,
     "metadata": {},
     "output_type": "execute_result"
    }
   ],
   "source": [
    "p                              # ??"
   ]
  },
  {
   "cell_type": "code",
   "execution_count": 23,
   "id": "a075a56f",
   "metadata": {},
   "outputs": [
    {
     "name": "stdout",
     "output_type": "stream",
     "text": [
      "1918158082352\n",
      "1918270532976\n"
     ]
    }
   ],
   "source": [
    "x = \"data\"\n",
    "print(id(x))\n",
    "x = \"science\"           # x is pointing towards a location \n",
    "print(id(x))          # A variable is not an container a variable just points towards the given object."
   ]
  },
  {
   "cell_type": "code",
   "execution_count": 25,
   "id": "8b5b7332",
   "metadata": {},
   "outputs": [
    {
     "name": "stdout",
     "output_type": "stream",
     "text": [
      "science\n"
     ]
    }
   ],
   "source": [
    "print(x)"
   ]
  },
  {
   "cell_type": "code",
   "execution_count": 5,
   "id": "f48b20e0",
   "metadata": {},
   "outputs": [
    {
     "name": "stdout",
     "output_type": "stream",
     "text": [
      "1982718748352\n",
      "1982718751232\n"
     ]
    }
   ],
   "source": [
    "y = [12,34]\n",
    "print(id(y))\n",
    "y = [89,56]        # the previous value of 'y' is losted or garbaged.\n",
    "print(id(y))"
   ]
  },
  {
   "cell_type": "code",
   "execution_count": 26,
   "id": "8a45cac7",
   "metadata": {},
   "outputs": [],
   "source": [
    "z = [1,2,3,4,5]\n",
    "z.reverse()"
   ]
  },
  {
   "cell_type": "code",
   "execution_count": 27,
   "id": "2d0f0aef",
   "metadata": {},
   "outputs": [
    {
     "data": {
      "text/plain": [
       "[5, 4, 3, 2, 1]"
      ]
     },
     "execution_count": 27,
     "metadata": {},
     "output_type": "execute_result"
    }
   ],
   "source": [
    "z"
   ]
  },
  {
   "cell_type": "code",
   "execution_count": 29,
   "id": "5b54bf06",
   "metadata": {},
   "outputs": [],
   "source": [
    "# define mutable and immutable by these examples??"
   ]
  },
  {
   "cell_type": "code",
   "execution_count": null,
   "id": "c21b5404",
   "metadata": {},
   "outputs": [],
   "source": [
    "# how is list is an mutable object????\n",
    "# broken focus syndrome\n",
    "# keep moving forward"
   ]
  },
  {
   "cell_type": "code",
   "execution_count": 35,
   "id": "bfeae375",
   "metadata": {},
   "outputs": [
    {
     "name": "stdout",
     "output_type": "stream",
     "text": [
      "[8, 7, 6, 5, 4]\n"
     ]
    }
   ],
   "source": [
    "x = [1,2,3,4,5,6,7,8]\n",
    "y = x[3:]\n",
    "y.sort()\n",
    "y.reverse()\n",
    "print(y)"
   ]
  },
  {
   "cell_type": "code",
   "execution_count": 20,
   "id": "99f17018",
   "metadata": {},
   "outputs": [
    {
     "name": "stdout",
     "output_type": "stream",
     "text": [
      "[4, 5, 6, 7, 8]\n"
     ]
    }
   ],
   "source": [
    "x = [1,2,3,4,5,6,7,8]\n",
    "y = x[3:]\n",
    "y.sort()\n",
    "print(y)"
   ]
  },
  {
   "cell_type": "code",
   "execution_count": 21,
   "id": "582f014f",
   "metadata": {},
   "outputs": [
    {
     "name": "stdout",
     "output_type": "stream",
     "text": [
      "[8, 7, 6, 5, 4]\n"
     ]
    }
   ],
   "source": [
    "x = [1,2,3,4,5,6,7,8]\n",
    "y = x[3:]\n",
    "y.reverse()\n",
    "print(y)"
   ]
  },
  {
   "cell_type": "code",
   "execution_count": 4,
   "id": "2423a34c",
   "metadata": {},
   "outputs": [
    {
     "name": "stdout",
     "output_type": "stream",
     "text": [
      "2590499472000\n",
      "[12, 'abc', 67, 89, 0, 65, 5, 'hii  everyone']\n",
      "2590499472000\n"
     ]
    }
   ],
   "source": [
    "# mutable ---the id or location or address\n",
    "list = [12,\"abc\",67,89,000,65,5]\n",
    "print(id(list))\n",
    "list.append(\"hii  everyone\")\n",
    "print(list)\n",
    "print(id(list))"
   ]
  },
  {
   "cell_type": "code",
   "execution_count": 7,
   "id": "9dfb1e38",
   "metadata": {},
   "outputs": [
    {
     "name": "stdout",
     "output_type": "stream",
     "text": [
      "1982718771840\n",
      "[12, 'abc', 67, 89, 0, 65, 5, 'hii  everyone']\n",
      "None\n",
      "1982718771840\n"
     ]
    }
   ],
   "source": [
    "list = [12,\"abc\",67,89,000,65,5]\n",
    "print(id(list))\n",
    "z = list.append(\"hii  everyone\")\n",
    "print(list)\n",
    "print(z)\n",
    "print(id(list))"
   ]
  },
  {
   "cell_type": "markdown",
   "id": "58f02b8b",
   "metadata": {},
   "source": [
    "# SETS \n",
    "\n",
    "1. *UNORDERED* : The items in the sets are unordered ,i.e, it will not maintain the order in which the items are inserted.\n",
    "2. *UNINDEXED* : Set items are unindexed.\n",
    "3. *UNIQUE* : There cannot be two items with the same value in the set so we cannot repeat it .\n",
    "4. *SET ITEMS MUST BE IMMUTABLE.* : We cannot change the set items.\n",
    "5. *SETS ARE MUTABLE*\n",
    "6. *We use curly brackets {}*"
   ]
  },
  {
   "cell_type": "code",
   "execution_count": 8,
   "id": "99edf949",
   "metadata": {},
   "outputs": [
    {
     "name": "stdout",
     "output_type": "stream",
     "text": [
      "{1, 2, 'string', 45}\n",
      "{'t', 1, 2, 's', 45, 'r', 'string'}\n",
      "{'t', 1, 2, 's', 'r', 'string'}\n"
     ]
    }
   ],
   "source": [
    "# set methods \n",
    "\n",
    "set = {1, \"string\",2}\n",
    "\n",
    "# .add(item) - this is same as .append() in lists \n",
    "set.add(45)\n",
    "print(set)\n",
    "# .update(iterable) - this is same as .extend () in lists\n",
    "set.update(\"str\")\n",
    "print(set)\n",
    "# .remove()\n",
    "set.remove(45)\n",
    "print(set)\n"
   ]
  },
  {
   "cell_type": "code",
   "execution_count": 1,
   "id": "eb5b9e13",
   "metadata": {},
   "outputs": [
    {
     "data": {
      "text/plain": [
       "True"
      ]
     },
     "execution_count": 1,
     "metadata": {},
     "output_type": "execute_result"
    }
   ],
   "source": [
    "# Disjoint Sets\n",
    "p = {1,2,3,4,5}\n",
    "q = {6,7,8,9}\n",
    "p.isdisjoint(q)"
   ]
  },
  {
   "cell_type": "code",
   "execution_count": null,
   "id": "24d9e7af",
   "metadata": {},
   "outputs": [],
   "source": [
    "Functions for sets\n",
    "# finding lenght of the set --- len()\n",
    "a = {1,2,3}\n",
    "len(a)\n",
    "3\n",
    "# Minimum and maximum values\n",
    "a = {1,2,3,4,5,78}\n",
    "print(min(a))\n",
    "print(max(a))\n",
    "​\n",
    "1\n",
    "78\n",
    "min({\"a\",\"A\"})\n",
    "'A'\n",
    "max({\"A\",\"a\"})\n",
    "'a'\n",
    "max({\"apple\",\"pine\"})\n",
    "'pine'\n",
    "min({\"a\",\"b\"})\n",
    "'a'\n",
    "max({\"B\",\"b\"})\n",
    "'b'\n",
    "# Adding all the vakues inside a set \n",
    "x = {233,556,67,85,56,3}\n",
    "print(sum(x))\n",
    "1000"
   ]
  },
  {
   "cell_type": "code",
   "execution_count": null,
   "id": "e6012b14",
   "metadata": {},
   "outputs": [],
   "source": [
    "# id will only change when it will apply operation with it,\n",
    "# but id will not change when it is apply to the methods"
   ]
  },
  {
   "cell_type": "code",
   "execution_count": 5,
   "id": "2cebf1ab",
   "metadata": {},
   "outputs": [
    {
     "name": "stdout",
     "output_type": "stream",
     "text": [
      "<class 'dict'>\n"
     ]
    }
   ],
   "source": [
    "x = { }\n",
    "print(type(x))"
   ]
  },
  {
   "cell_type": "code",
   "execution_count": 13,
   "id": "9ce1b4ca",
   "metadata": {},
   "outputs": [
    {
     "name": "stdout",
     "output_type": "stream",
     "text": [
      "<class 'set'>\n"
     ]
    }
   ],
   "source": [
    "x = {''}\n",
    "print(type(x))      # make an empty set???"
   ]
  },
  {
   "cell_type": "code",
   "execution_count": 6,
   "id": "d9331da1",
   "metadata": {},
   "outputs": [
    {
     "name": "stdout",
     "output_type": "stream",
     "text": [
      "{}\n",
      "<class 'dict'>\n"
     ]
    }
   ],
   "source": [
    "x = ({})\n",
    "print(x)     \n",
    "print(type(x))"
   ]
  },
  {
   "cell_type": "code",
   "execution_count": 7,
   "id": "4e23b37d",
   "metadata": {},
   "outputs": [
    {
     "name": "stdout",
     "output_type": "stream",
     "text": [
      "[]\n",
      "<class 'list'>\n"
     ]
    }
   ],
   "source": [
    "x = []\n",
    "print(x)\n",
    "print(type(x))"
   ]
  },
  {
   "cell_type": "code",
   "execution_count": 8,
   "id": "b3f8f586",
   "metadata": {},
   "outputs": [
    {
     "name": "stdout",
     "output_type": "stream",
     "text": [
      "()\n",
      "<class 'tuple'>\n"
     ]
    }
   ],
   "source": [
    "x = ()\n",
    "print(x)\n",
    "print(type(x))"
   ]
  },
  {
   "cell_type": "code",
   "execution_count": 9,
   "id": "37637804",
   "metadata": {},
   "outputs": [
    {
     "name": "stdout",
     "output_type": "stream",
     "text": [
      "<class 'dict'>\n"
     ]
    }
   ],
   "source": [
    "x = {}\n",
    "print(type(x))"
   ]
  },
  {
   "cell_type": "code",
   "execution_count": 3,
   "id": "92fea36a",
   "metadata": {},
   "outputs": [
    {
     "name": "stdout",
     "output_type": "stream",
     "text": [
      "{()}\n",
      "<class 'set'>\n"
     ]
    }
   ],
   "source": [
    "x = {()}\n",
    "print(x)\n",
    "print(type(x))"
   ]
  },
  {
   "cell_type": "code",
   "execution_count": 9,
   "id": "7d6a0b04",
   "metadata": {},
   "outputs": [
    {
     "ename": "SyntaxError",
     "evalue": "invalid syntax (2010203310.py, line 1)",
     "output_type": "error",
     "traceback": [
      "\u001b[1;36m  Cell \u001b[1;32mIn[9], line 1\u001b[1;36m\u001b[0m\n\u001b[1;33m    y = set{}\u001b[0m\n\u001b[1;37m           ^\u001b[0m\n\u001b[1;31mSyntaxError\u001b[0m\u001b[1;31m:\u001b[0m invalid syntax\n"
     ]
    }
   ],
   "source": [
    "y = set{}\n",
    "print(y)\n",
    "print(type(y))"
   ]
  },
  {
   "cell_type": "code",
   "execution_count": 13,
   "id": "f09e156f",
   "metadata": {},
   "outputs": [
    {
     "name": "stdout",
     "output_type": "stream",
     "text": [
      "Union method has been used  {1, 2, 3, 4, 5}\n",
      "Update method has been used {1, 2, 3, 4, 5}\n",
      "{1, 2, 3}\n",
      "{'hello'}\n",
      "{2, 3, 'Hello', 'hello'}\n"
     ]
    }
   ],
   "source": [
    "# Union\n",
    "a = {1,2,3}\n",
    "b = {1,2,3,4,5}\n",
    "print(\"Union method has been used \",a.union(b))\n",
    "a.update(b)\n",
    "print(\"Update method has been used\",a)\n",
    "\n",
    "# Intersection\n",
    "a = {1,2,3}\n",
    "b = {1,2,3,4}\n",
    "a.intersection(b) # this will not apply the changes to a\n",
    "a.intersection_update(b) # this will apply changes to a \n",
    "print(a)\n",
    "\n",
    "# Difference\n",
    "x = {\"str\",\"hello\",True,1}\n",
    "y = {1,2,3,\"Hello\",\"str\"}\n",
    "x.difference(y)\n",
    "x.difference_update(y)\n",
    "print(x)\n",
    "\n",
    "# Symmetric Difference\n",
    "x = {\"str\",\"hello\",True,1}\n",
    "y = {1,2,3,\"Hello\",\"str\"}\n",
    "x.symmetric_difference(y)\n",
    "x.symmetric_difference_update(y)\n",
    "print(x)"
   ]
  },
  {
   "cell_type": "code",
   "execution_count": 19,
   "id": "8e8eb125",
   "metadata": {},
   "outputs": [
    {
     "name": "stdout",
     "output_type": "stream",
     "text": [
      "{1, 2, 3}\n"
     ]
    }
   ],
   "source": [
    "x = {1,2,3}\n",
    "_frozen_set = frozenset(x)         #unhashable type means mutable type\n",
    "_frozen_set1 = (_frozen_set,frozenset(\"bhumi\"))\n",
    "print(x)"
   ]
  },
  {
   "cell_type": "code",
   "execution_count": 5,
   "id": "2f1d344d",
   "metadata": {},
   "outputs": [
    {
     "ename": "TypeError",
     "evalue": "'int' object is not iterable",
     "output_type": "error",
     "traceback": [
      "\u001b[1;31m---------------------------------------------------------------------------\u001b[0m",
      "\u001b[1;31mTypeError\u001b[0m                                 Traceback (most recent call last)",
      "Cell \u001b[1;32mIn[5], line 3\u001b[0m\n\u001b[0;32m      1\u001b[0m x \u001b[38;5;241m=\u001b[39m {\u001b[38;5;241m1\u001b[39m,\u001b[38;5;241m2\u001b[39m,\u001b[38;5;241m3\u001b[39m}\n\u001b[0;32m      2\u001b[0m _frozen_set \u001b[38;5;241m=\u001b[39m \u001b[38;5;28mfrozenset\u001b[39m(x)                                \u001b[38;5;66;03m#unhashable type means mutable type\u001b[39;00m\n\u001b[1;32m----> 3\u001b[0m _frozen_set1 \u001b[38;5;241m=\u001b[39m {_frozen_set,\u001b[38;5;28;43mfrozenset\u001b[39;49m\u001b[43m(\u001b[49m\u001b[38;5;241;43m6\u001b[39;49m\u001b[43m)\u001b[49m}\n",
      "\u001b[1;31mTypeError\u001b[0m: 'int' object is not iterable"
     ]
    }
   ],
   "source": [
    "x = {1,2,3}\n",
    "_frozen_set = frozenset(x)                                #unhashable type means mutable type\n",
    "_frozen_set1 = {_frozen_set,frozenset(6)}"
   ]
  },
  {
   "cell_type": "code",
   "execution_count": 4,
   "id": "47667c51",
   "metadata": {},
   "outputs": [
    {
     "data": {
      "text/plain": [
       "{1, 2, 3, 4, 5}"
      ]
     },
     "execution_count": 4,
     "metadata": {},
     "output_type": "execute_result"
    }
   ],
   "source": [
    "x = {1,2,3}\n",
    "y = {3,4,5}\n",
    "x.union(y)"
   ]
  },
  {
   "cell_type": "code",
   "execution_count": 5,
   "id": "8c252040",
   "metadata": {},
   "outputs": [
    {
     "data": {
      "text/plain": [
       "'bhumII'"
      ]
     },
     "execution_count": 5,
     "metadata": {},
     "output_type": "execute_result"
    }
   ],
   "source": [
    "x = \"bhumii\"\n",
    "x.replace(\"i\",\"I\")\n",
    "\n"
   ]
  },
  {
   "cell_type": "code",
   "execution_count": 10,
   "id": "aed70f49",
   "metadata": {},
   "outputs": [
    {
     "data": {
      "text/plain": [
       "'bhumIi'"
      ]
     },
     "execution_count": 10,
     "metadata": {},
     "output_type": "execute_result"
    }
   ],
   "source": [
    "x = \"bhumii\"\n",
    "x.replace(\"ii\",\"Ii\")\n",
    "\n"
   ]
  },
  {
   "cell_type": "code",
   "execution_count": 26,
   "id": "1f215247",
   "metadata": {},
   "outputs": [
    {
     "data": {
      "text/plain": [
       "'bhumIi'"
      ]
     },
     "execution_count": 26,
     "metadata": {},
     "output_type": "execute_result"
    }
   ],
   "source": [
    "x = \"bhumii\"\n",
    "x.replace(\"i\",\"I\",1)"
   ]
  },
  {
   "cell_type": "code",
   "execution_count": 28,
   "id": "bd68e83f",
   "metadata": {},
   "outputs": [
    {
     "name": "stdout",
     "output_type": "stream",
     "text": [
      "frozenset({'8', '5', '6'})\n",
      "frozenset({'3', '1', '4'})\n"
     ]
    }
   ],
   "source": [
    "aa = (\"1\",\"3\",\"4\")\n",
    "bb = (\"5\",\"6\",\"8\")\n",
    "nested = set((frozenset(aa),frozenset(bb)))\n",
    "for cc in nested:\n",
    "    print(cc)"
   ]
  },
  {
   "cell_type": "code",
   "execution_count": 29,
   "id": "1a66f7c1",
   "metadata": {},
   "outputs": [
    {
     "name": "stdout",
     "output_type": "stream",
     "text": [
      "{frozenset({3, 4, 5, 6}), 1, 2, 3, frozenset({89, 6, 7}), frozenset({1, 2, 4, 6})}\n"
     ]
    }
   ],
   "source": [
    "a = {1,2,3,3}\n",
    "b = {6,7,89}\n",
    "c = {3,4,5,6}\n",
    "d = {2,1,4,6}\n",
    "x = frozenset(b)\n",
    "y = frozenset(c)\n",
    "z = frozenset(d)\n",
    "\n",
    "a.add(x)\n",
    "a.add(y)\n",
    "a.add(z)\n",
    "print(a)\n"
   ]
  },
  {
   "cell_type": "code",
   "execution_count": 30,
   "id": "7f2318e6",
   "metadata": {},
   "outputs": [],
   "source": [
    "# frozen set ka use set ko jodne ke liye hota h kiyuki set mai set add nahi hota "
   ]
  },
  {
   "cell_type": "markdown",
   "id": "be21fdd9",
   "metadata": {},
   "source": [
    "# set default"
   ]
  },
  {
   "cell_type": "markdown",
   "id": "553f6abb",
   "metadata": {},
   "source": [
    "* Set default value if key does not exist in dic.\n",
    "* And the default value of the key is \"None\".\n",
    "* Ye dic data type ka method h.\n",
    "* the value will remain None but we can change the key\n"
   ]
  },
  {
   "cell_type": "code",
   "execution_count": 31,
   "id": "c4ea5cfc",
   "metadata": {},
   "outputs": [
    {
     "name": "stdout",
     "output_type": "stream",
     "text": [
      "{1: 'hello', 2: 'world', 3: None}\n"
     ]
    }
   ],
   "source": [
    "a = {1:\"hello\",2:\"world\"}\n",
    "a.setdefault(3)\n",
    "print(a)"
   ]
  },
  {
   "cell_type": "code",
   "execution_count": 35,
   "id": "c7c1d7a7",
   "metadata": {},
   "outputs": [
    {
     "name": "stdout",
     "output_type": "stream",
     "text": [
      "[1, 2, 3, 4, 5]\n",
      "[1, 2, 3, 4, 5, 6]\n",
      "[1, 2, 3, 4, 5]\n"
     ]
    }
   ],
   "source": [
    "number = [1,2,3,4,5]\n",
    "print(number)\n",
    "print(number+[6])\n",
    "print(number)"
   ]
  },
  {
   "cell_type": "code",
   "execution_count": 36,
   "id": "4583790b",
   "metadata": {},
   "outputs": [],
   "source": [
    "# make a list name number with values 1,2,3,4,5 and print it ,it will print the list number like ([1,2,3,4,5])\n",
    "# , in the second line write number+[6] and print it too , and this will add 6 to your previous list now the output which \n",
    "# will print is like ([1,2,3,4,5,6]) . print the number list again "
   ]
  },
  {
   "cell_type": "code",
   "execution_count": null,
   "id": "6bb16e07",
   "metadata": {},
   "outputs": [],
   "source": []
  }
 ],
 "metadata": {
  "kernelspec": {
   "display_name": "Python 3 (ipykernel)",
   "language": "python",
   "name": "python3"
  },
  "language_info": {
   "codemirror_mode": {
    "name": "ipython",
    "version": 3
   },
   "file_extension": ".py",
   "mimetype": "text/x-python",
   "name": "python",
   "nbconvert_exporter": "python",
   "pygments_lexer": "ipython3",
   "version": "3.10.9"
  }
 },
 "nbformat": 4,
 "nbformat_minor": 5
}
