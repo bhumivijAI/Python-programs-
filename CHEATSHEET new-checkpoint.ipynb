{
 "cells": [
  {
   "cell_type": "markdown",
   "id": "014292f7",
   "metadata": {},
   "source": [
    "# *WHAT IS PYTHON??WHAT IS PYTHON LANGUAGE??WHY WE USE THIS??*\n"
   ]
  },
  {
   "cell_type": "markdown",
   "id": "7416aa1d",
   "metadata": {},
   "source": [
    "Python is a computer programming language developed by ***'GUIDO VAN ROSSUM'*** often used to build websites and softwares, automate takes and conduct data analysis originally released in 1991.\n",
    "\n",
    "Python has a **simple syntax** similar to the English language,designed to be easy as well as fun.\n",
    "\n",
    "Python is easy to understand lauguage that feels like reading simple english.This persue code \n",
    "nature of python makes it **easy to learn and understandable** for beginners.\n",
    "\n",
    "Python is an **HIGH LEVEL general purpose PROGRAMING LANGUAGE** and is **DYNAMICALLY TYPED** , which works with OR in an **IDE(Integrated Development Enviroment)**.\n",
    " \n",
    "**WRITE LESS, DO MORE** : Python has syntax that allows developers to write programs with fewer lines than some other programming languages.That means prototyping can be very quick. \n",
    "\n",
    "Python provides larger developer community, or **open-source community** for strong ,supportand helpful documentation.\n",
    "\n",
    "It offers a **wide range of libraries** that can be used across various applications.For example:Numpy, SciPY , Keras and Seaborn."
   ]
  },
  {
   "cell_type": "markdown",
   "id": "4777affc",
   "metadata": {},
   "source": [
    "## PYTHON IS DYNAMICALLY TYPED AND C++ IS A STATICALLY TYPED WHY ???\n",
    "* IN STATICALLY TYPED WE HAD TO DECLARE AND DEFINE THE VARIABLE, THIS DECLARED AND DIFINED VARIABLE     NEVER CHANGES.\n",
    "  WHEREAS, IN PYTHON WE CAN CHANGE THE VARIABLE WITHOUT DECLARING AND SINCE WE NOT DECLARING THE         VARIABLE SO WE CAN CHANGE\n",
    "  IT AND THIS IS CALLED AS DYNAMICALLY NATURE OF THE PYTHON THEREFORE, IN PYTHON WE CAN DEFINE THE       VARIABLE WITHPOT              DECLARING IT. \n",
    "  (DEFINE = ASSIGNING SOME VALUE TO THE INPUT) \n",
    "  (DECLARE = SPECIFING THE DATA TYPE)"
   ]
  },
  {
   "cell_type": "markdown",
   "id": "b9d7a11f",
   "metadata": {},
   "source": [
    "# *WHAT IS PROGRAMMING???*\n",
    "\n",
    "* Just like we use hindi and english to communicate with each other, we use a progrmming language \n",
    "  like python to communicate witth the computer.\n",
    "  Programming is a way to instruct the computer to perform various tasks. "
   ]
  },
  {
   "cell_type": "markdown",
   "id": "216deaad",
   "metadata": {},
   "source": [
    "# HOW TO WRITE YOUR FIRST PYTHON PROGRAM!!"
   ]
  },
  {
   "cell_type": "markdown",
   "id": "cb348255",
   "metadata": {},
   "source": [
    "* Use the print() funtion and write a message. print function gives an output of the input you give to   the python in its language.\n",
    "* In python,strings are enclosed inside single quotes,double quotes,or triple quotes.\n",
    "  * PROGRAM: print(\"HELLO,world\")\n",
    "  * OUTPUT: HELLO,world"
   ]
  },
  {
   "cell_type": "code",
   "execution_count": 10,
   "id": "25c1d180",
   "metadata": {
    "scrolled": true
   },
   "outputs": [
    {
     "name": "stdout",
     "output_type": "stream",
     "text": [
      "bhumi\n"
     ]
    }
   ],
   "source": [
    "print(\"bhumi\")"
   ]
  },
  {
   "cell_type": "code",
   "execution_count": 1,
   "id": "3740e494",
   "metadata": {},
   "outputs": [
    {
     "name": "stdout",
     "output_type": "stream",
     "text": [
      "rajevv\n"
     ]
    }
   ],
   "source": [
    "print(\"rajevv\")"
   ]
  },
  {
   "cell_type": "code",
   "execution_count": 11,
   "id": "662aedd4",
   "metadata": {
    "scrolled": true
   },
   "outputs": [
    {
     "name": "stdout",
     "output_type": "stream",
     "text": [
      "rajeev\n"
     ]
    }
   ],
   "source": [
    "print(\"rajeev\")"
   ]
  },
  {
   "cell_type": "code",
   "execution_count": 12,
   "id": "bcad2aab",
   "metadata": {},
   "outputs": [
    {
     "name": "stdout",
     "output_type": "stream",
     "text": [
      "reyansh\n"
     ]
    }
   ],
   "source": [
    "print(\"reyansh\")"
   ]
  },
  {
   "cell_type": "markdown",
   "id": "a7d384e9",
   "metadata": {},
   "source": [
    "# SYNTAX\n",
    "\n",
    "* Syntax is a **structure of language** or a set of rules that defines how a python program will be \n",
    "  written and interpreted."
   ]
  },
  {
   "cell_type": "markdown",
   "id": "e22a3e3f",
   "metadata": {},
   "source": [
    "# WHAT IS A STATEMENT IN PYTHON??\n",
    "\n",
    "* A statement is an instrution that a python interpreter can execute. So, in simple words,we \n",
    "  can say anything written in python is a statment.\n",
    "* In python, we can add MULTIPLE statements on a single line seprated by semicolons, as follows:\n",
    "  * TWO STATEMENTS IN A SINGLE LINE:\n",
    "    <br>1 = 2 ; B = 6\n",
    "    <br>print(\"area of rectangle:\" l*b)"
   ]
  },
  {
   "cell_type": "markdown",
   "id": "b1f33df7",
   "metadata": {},
   "source": [
    "# COMMENTS IN PYTHON\n",
    "\n",
    "* Comments are used to write something which the programmer does not want to excute.Comments can be used to mark the author's name, data , etc\n"
   ]
  },
  {
   "cell_type": "code",
   "execution_count": 16,
   "id": "21dca8dc",
   "metadata": {},
   "outputs": [
    {
     "name": "stdout",
     "output_type": "stream",
     "text": [
      "rajeev\n"
     ]
    }
   ],
   "source": [
    "print(\"rajeev\") # my name is rajeev\n",
    "# jhflakh"
   ]
  },
  {
   "cell_type": "code",
   "execution_count": 19,
   "id": "f90303af",
   "metadata": {},
   "outputs": [
    {
     "ename": "SyntaxError",
     "evalue": "invalid syntax (2985144067.py, line 5)",
     "output_type": "error",
     "traceback": [
      "\u001b[1;36m  Cell \u001b[1;32mIn[19], line 5\u001b[1;36m\u001b[0m\n\u001b[1;33m    print(\"rajeev\")  \"\"\"my name is rajeev\"\"\"\u001b[0m\n\u001b[1;37m                     ^\u001b[0m\n\u001b[1;31mSyntaxError\u001b[0m\u001b[1;31m:\u001b[0m invalid syntax\n"
     ]
    }
   ],
   "source": [
    "\"\"\"hello\n",
    "world\n",
    "my name is \n",
    "rajeev\"\"\"\n",
    "print(\"rajeev\")  \"\"\"my name is rajeev\"\"\"\n",
    "\"\"\"my name is rajeev\"\"\""
   ]
  },
  {
   "cell_type": "markdown",
   "id": "b9caf423",
   "metadata": {},
   "source": [
    "# OPERATORS IN PYTHON\n",
    "\n",
    "* Operators are symbols which are used to perform a specific operation between values.\n",
    "\n",
    "* There are some common operators in python :\n",
    "  * ARITHMETRIC OPERATIONS(+,-,*,/)\n",
    "  * ASSIGNMENT OPERATERS(=,+=,=+,==)\n",
    "  * BITWISE OPERATORS\n",
    "  * MEMBERSHIP OPERATORS\n",
    "  * FLOOR DIVISION(//)\n",
    "  * MODULE OPERATION(%)\n",
    "  * POWER(**)\n",
    "  * LOGICAL OPERATERS(help,import,and)\n",
    "  * COMPARISION OPERATORS(==,>=,<=,<,>,!=,etc)"
   ]
  },
  {
   "cell_type": "markdown",
   "id": "cf0790a0",
   "metadata": {},
   "source": [
    "# *DATA TYPES*\n",
    "\n",
    "* There are two types of data: Primitive or Non-Primitive data type.\n",
    "* In which Primitive data has its own three types:(Numbers,String,None)\n",
    "  * NUMBER: <br>1. INTEGER\n",
    "            <br>2. FLOAT\n",
    "            <br>3. COMPLEX\n",
    "            <br>4. BOOLEAN\n",
    "            \n",
    "* In non primitive data types  \n",
    "  * SETS\n",
    "  * LIST\n",
    "  * DICTIONARIES\n",
    "  * TUPLE"
   ]
  },
  {
   "cell_type": "code",
   "execution_count": 1,
   "id": "042856d7",
   "metadata": {},
   "outputs": [
    {
     "data": {
      "text/plain": [
       "7"
      ]
     },
     "execution_count": 1,
     "metadata": {},
     "output_type": "execute_result"
    }
   ],
   "source": [
    "7 # THIS IS AN INTEGERS"
   ]
  },
  {
   "cell_type": "code",
   "execution_count": 2,
   "id": "866754ee",
   "metadata": {},
   "outputs": [
    {
     "data": {
      "text/plain": [
       "7.8"
      ]
     },
     "execution_count": 2,
     "metadata": {},
     "output_type": "execute_result"
    }
   ],
   "source": [
    "7.8 # THIS IS AN FLOAT"
   ]
  },
  {
   "cell_type": "code",
   "execution_count": 3,
   "id": "5ed4fd39",
   "metadata": {},
   "outputs": [
    {
     "data": {
      "text/plain": [
       "78j"
      ]
     },
     "execution_count": 3,
     "metadata": {},
     "output_type": "execute_result"
    }
   ],
   "source": [
    "78j # THIS IS AN COMPLEX"
   ]
  },
  {
   "cell_type": "code",
   "execution_count": 1,
   "id": "d8206924",
   "metadata": {},
   "outputs": [
    {
     "data": {
      "text/plain": [
       "False"
      ]
     },
     "execution_count": 1,
     "metadata": {},
     "output_type": "execute_result"
    }
   ],
   "source": [
    "False # THIS IS AN BOOLEAN"
   ]
  },
  {
   "cell_type": "markdown",
   "id": "2048181f",
   "metadata": {},
   "source": [
    "# TYPE FUNCTION\n",
    "\n",
    "* Type function is used to find the data type of a given variable in python."
   ]
  },
  {
   "cell_type": "code",
   "execution_count": 4,
   "id": "d5fa4805",
   "metadata": {},
   "outputs": [
    {
     "data": {
      "text/plain": [
       "int"
      ]
     },
     "execution_count": 4,
     "metadata": {},
     "output_type": "execute_result"
    }
   ],
   "source": [
    "type(\n",
    "    \n",
    "    9)"
   ]
  },
  {
   "cell_type": "code",
   "execution_count": 3,
   "id": "3f4386a4",
   "metadata": {},
   "outputs": [
    {
     "data": {
      "text/plain": [
       "float"
      ]
     },
     "execution_count": 3,
     "metadata": {},
     "output_type": "execute_result"
    }
   ],
   "source": [
    "type(9.9)"
   ]
  },
  {
   "cell_type": "code",
   "execution_count": 7,
   "id": "9facdebd",
   "metadata": {},
   "outputs": [
    {
     "data": {
      "text/plain": [
       "complex"
      ]
     },
     "execution_count": 7,
     "metadata": {},
     "output_type": "execute_result"
    }
   ],
   "source": [
    "type(99j)"
   ]
  },
  {
   "cell_type": "code",
   "execution_count": 8,
   "id": "2fc5c58e",
   "metadata": {},
   "outputs": [
    {
     "data": {
      "text/plain": [
       "bool"
      ]
     },
     "execution_count": 8,
     "metadata": {},
     "output_type": "execute_result"
    }
   ],
   "source": [
    "type(True)"
   ]
  },
  {
   "cell_type": "markdown",
   "id": "e0858b46",
   "metadata": {},
   "source": [
    "# HOW TO FIND AN CODE ADDRESS(ID)"
   ]
  },
  {
   "cell_type": "markdown",
   "id": "bcc95dab",
   "metadata": {},
   "source": [
    "* LETS UNDERSTAND IT BY AN EXAMPLE:"
   ]
  },
  {
   "cell_type": "code",
   "execution_count": 7,
   "id": "5717561f",
   "metadata": {},
   "outputs": [
    {
     "name": "stdout",
     "output_type": "stream",
     "text": [
      "1941402289264\n",
      "1941402289264\n",
      "1941402289264\n"
     ]
    },
    {
     "data": {
      "text/plain": [
       "'to find the id addresss of the code we use (id()) function to get an code address, therefore,\\nthis denotes that in which container, whrere or in which id the code is stored.'"
      ]
     },
     "execution_count": 7,
     "metadata": {},
     "output_type": "execute_result"
    }
   ],
   "source": [
    "a = 29               # we maked an variable by giving it an value\n",
    "b = 29               # the second variable \n",
    "c = b                # and the third one, which we can also write as (a =b = c),\n",
    "print(id(a))         # cause the values are same.\n",
    "print(id(b))\n",
    "print(id(c))\n",
    "\"\"\"to find the id addresss of the code we use (id()) function to get an code address, therefore,\n",
    "this denotes that in which container, whrere or in which id the code is stored.\"\"\""
   ]
  },
  {
   "cell_type": "code",
   "execution_count": 9,
   "id": "1dd49dc5",
   "metadata": {},
   "outputs": [
    {
     "name": "stdout",
     "output_type": "stream",
     "text": [
      "29\n"
     ]
    }
   ],
   "source": [
    "print(a)"
   ]
  },
  {
   "cell_type": "markdown",
   "id": "c8a37465",
   "metadata": {},
   "source": [
    "# VARIABLES\n",
    "\n",
    "* A VARIABLES IS A CONTAINER THAT STORES DATA IN THE MEMORY OF YOUR COMPUTER./It doesn't stores the data but it acctually points to it.\n",
    "\n",
    "* SYNTAX - variable_name = data_to_be_stored.\n"
   ]
  },
  {
   "cell_type": "markdown",
   "id": "95f2d1c8",
   "metadata": {},
   "source": [
    "## RULES OF VARIABLE IN PYTHON\n",
    "\n",
    "* A variable name must start with an alphabet or an underscore.\n",
    "* A variable name cannot start with a number or any special character (#,@,%,^,&).\n",
    "* A variable name can only contain alphabets, numbers and underscores.\n",
    "* The use of special character is prohibited.\n",
    "* Variable names are case sensitive in python.\n",
    "* Python keywords cannot be used as variable names."
   ]
  },
  {
   "cell_type": "code",
   "execution_count": 11,
   "id": "44dadc19",
   "metadata": {},
   "outputs": [
    {
     "name": "stdout",
     "output_type": "stream",
     "text": [
      "word\n"
     ]
    }
   ],
   "source": [
    "abc = \"word\"\n",
    "print(abc)"
   ]
  },
  {
   "cell_type": "code",
   "execution_count": 22,
   "id": "6a21fb9b",
   "metadata": {},
   "outputs": [
    {
     "ename": "SyntaxError",
     "evalue": "cannot assign to expression here. Maybe you meant '==' instead of '='? (565179728.py, line 1)",
     "output_type": "error",
     "traceback": [
      "\u001b[1;36m  Cell \u001b[1;32mIn[22], line 1\u001b[1;36m\u001b[0m\n\u001b[1;33m    python@gmail = 65 # not a variable because there is an special character.\u001b[0m\n\u001b[1;37m    ^\u001b[0m\n\u001b[1;31mSyntaxError\u001b[0m\u001b[1;31m:\u001b[0m cannot assign to expression here. Maybe you meant '==' instead of '='?\n"
     ]
    }
   ],
   "source": [
    "python@gmail = 65 # not a variable because there is an special character."
   ]
  },
  {
   "cell_type": "code",
   "execution_count": 10,
   "id": "0ce13442",
   "metadata": {},
   "outputs": [],
   "source": [
    "_5njh = 1"
   ]
  },
  {
   "cell_type": "code",
   "execution_count": 11,
   "id": "915d4114",
   "metadata": {},
   "outputs": [
    {
     "ename": "SyntaxError",
     "evalue": "invalid syntax (2619681554.py, line 1)",
     "output_type": "error",
     "traceback": [
      "\u001b[1;36m  Cell \u001b[1;32mIn[11], line 1\u001b[1;36m\u001b[0m\n\u001b[1;33m    xyz@ = 1\u001b[0m\n\u001b[1;37m         ^\u001b[0m\n\u001b[1;31mSyntaxError\u001b[0m\u001b[1;31m:\u001b[0m invalid syntax\n"
     ]
    }
   ],
   "source": [
    "xyz@ = 1"
   ]
  },
  {
   "cell_type": "code",
   "execution_count": 13,
   "id": "bf0c8bfb",
   "metadata": {},
   "outputs": [],
   "source": [
    "_vhkj = 7"
   ]
  },
  {
   "cell_type": "code",
   "execution_count": 14,
   "id": "61311235",
   "metadata": {},
   "outputs": [],
   "source": [
    "x = 77\n"
   ]
  },
  {
   "cell_type": "code",
   "execution_count": 15,
   "id": "adc0286d",
   "metadata": {},
   "outputs": [
    {
     "name": "stdout",
     "output_type": "stream",
     "text": [
      "77\n"
     ]
    }
   ],
   "source": [
    "print(x)"
   ]
  },
  {
   "cell_type": "markdown",
   "id": "2e098ab7",
   "metadata": {},
   "source": [
    "# EXPRESSIONS\n",
    "\n",
    "* EXPRESSIONS ARE THE PEICE OF CODES( MUST INCLUDES OPERATER AND OPERANDS)THAT EVALUTES THE VALUES.(+,-,*,=)\n",
    "* print is also an expressions, any value which is given is an expression cause they give an value so ,\\\n",
    "* anything which gaves value is an expression."
   ]
  },
  {
   "cell_type": "code",
   "execution_count": 18,
   "id": "8a251bec",
   "metadata": {},
   "outputs": [
    {
     "data": {
      "text/plain": [
       "'mobilephone'"
      ]
     },
     "execution_count": 18,
     "metadata": {},
     "output_type": "execute_result"
    }
   ],
   "source": [
    "a = \"mobile\"\n",
    "b = \"phone\"\n",
    "a+b"
   ]
  },
  {
   "cell_type": "code",
   "execution_count": 20,
   "id": "96f50699",
   "metadata": {},
   "outputs": [
    {
     "name": "stdout",
     "output_type": "stream",
     "text": [
      "icucpu\n"
     ]
    }
   ],
   "source": [
    "print(\"icu\"+\"cpu\") # the merging of two str is called as cancatenation."
   ]
  },
  {
   "cell_type": "code",
   "execution_count": 21,
   "id": "869f68b0",
   "metadata": {},
   "outputs": [
    {
     "name": "stdout",
     "output_type": "stream",
     "text": [
      "abc\n"
     ]
    }
   ],
   "source": [
    "print('abc') # not an expression because there is no operater"
   ]
  },
  {
   "cell_type": "markdown",
   "id": "eb780be9",
   "metadata": {},
   "source": [
    "# TYPE CASTING\n",
    "\n",
    "* Type casting converts one data to another data type. (int(),float(),complex(),str(),list(),tuple(),dict(),set("
   ]
  },
  {
   "cell_type": "code",
   "execution_count": 23,
   "id": "78a0e3b0",
   "metadata": {},
   "outputs": [
    {
     "data": {
      "text/plain": [
       "10.0"
      ]
     },
     "execution_count": 23,
     "metadata": {},
     "output_type": "execute_result"
    }
   ],
   "source": [
    "a = 10\n",
    "float(a)"
   ]
  },
  {
   "cell_type": "code",
   "execution_count": 24,
   "id": "8bfa5390",
   "metadata": {},
   "outputs": [
    {
     "data": {
      "text/plain": [
       "56"
      ]
     },
     "execution_count": 24,
     "metadata": {},
     "output_type": "execute_result"
    }
   ],
   "source": [
    "x = 56.89\n",
    "int(x)"
   ]
  },
  {
   "cell_type": "code",
   "execution_count": 25,
   "id": "1eccb3cf",
   "metadata": {},
   "outputs": [
    {
     "data": {
      "text/plain": [
       "True"
      ]
     },
     "execution_count": 25,
     "metadata": {},
     "output_type": "execute_result"
    }
   ],
   "source": [
    "p = 8\n",
    "bool(p)"
   ]
  },
  {
   "cell_type": "code",
   "execution_count": 26,
   "id": "a6496c92",
   "metadata": {},
   "outputs": [
    {
     "data": {
      "text/plain": [
       "int"
      ]
     },
     "execution_count": 26,
     "metadata": {},
     "output_type": "execute_result"
    }
   ],
   "source": [
    "type(int(\"1\")) # type is used to find the data type of the given data. "
   ]
  },
  {
   "cell_type": "code",
   "execution_count": 27,
   "id": "83149a32",
   "metadata": {},
   "outputs": [
    {
     "name": "stdout",
     "output_type": "stream",
     "text": [
      "10.0\n"
     ]
    }
   ],
   "source": [
    "print(float(a))"
   ]
  },
  {
   "cell_type": "markdown",
   "id": "f5ddf285",
   "metadata": {},
   "source": [
    "# ESCAPE SEQUENCES\n",
    "\n",
    "- ( \\\\' = SINGLE SLASH )(single quotation)\n",
    "* ( \\n = NEW LINE )\n",
    "* ( \\\\\\ = BACKSLASH )\n",
    "* ( \\b = BACKSPACE )\n",
    "* ( \\t = TAB )\n",
    "* ( \\r = CARRIAGE RETURN )"
   ]
  },
  {
   "cell_type": "code",
   "execution_count": 28,
   "id": "6598a8fd",
   "metadata": {},
   "outputs": [
    {
     "name": "stdout",
     "output_type": "stream",
     "text": [
      "hi, everyone ! 'my name is bhumi'\n"
     ]
    }
   ],
   "source": [
    "print('hi, everyone ! \\'my name is bhumi\\'')"
   ]
  },
  {
   "cell_type": "code",
   "execution_count": 29,
   "id": "86336280",
   "metadata": {},
   "outputs": [
    {
     "name": "stdout",
     "output_type": "stream",
     "text": [
      "'notebook saved'\n"
     ]
    }
   ],
   "source": [
    "print('\\'notebook saved\\'')"
   ]
  },
  {
   "cell_type": "code",
   "execution_count": 30,
   "id": "8bbc47c9",
   "metadata": {},
   "outputs": [
    {
     "name": "stdout",
     "output_type": "stream",
     "text": [
      "'python'\n"
     ]
    }
   ],
   "source": [
    "print('\\'python\\'') # here by using single slash we can print python with an single quoets to get an highlighted output"
   ]
  },
  {
   "cell_type": "code",
   "execution_count": 31,
   "id": "d8a416d6",
   "metadata": {},
   "outputs": [
    {
     "name": "stdout",
     "output_type": "stream",
     "text": [
      "python\n"
     ]
    }
   ],
   "source": [
    "print('''python''') # by putting three single quotation marks it will became an doc strings. "
   ]
  },
  {
   "cell_type": "code",
   "execution_count": 32,
   "id": "9d1b7264",
   "metadata": {},
   "outputs": [
    {
     "name": "stdout",
     "output_type": "stream",
     "text": [
      "PYTHON\n",
      "      Data Science\n"
     ]
    }
   ],
   "source": [
    "print(\"\"\"PYTHON\n",
    "      Data Science\"\"\")"
   ]
  },
  {
   "cell_type": "code",
   "execution_count": 33,
   "id": "535afd3e",
   "metadata": {},
   "outputs": [
    {
     "name": "stdout",
     "output_type": "stream",
     "text": [
      "\n",
      "\n"
     ]
    }
   ],
   "source": [
    "print(\"\\n\") # by printing \\n we have the output with the space given by \\n ."
   ]
  },
  {
   "cell_type": "code",
   "execution_count": 34,
   "id": "08b2fd28",
   "metadata": {},
   "outputs": [
    {
     "name": "stdout",
     "output_type": "stream",
     "text": [
      "\\n\n"
     ]
    }
   ],
   "source": [
    "print(\"\\\\n\") # to print \\n we have to use backslash "
   ]
  },
  {
   "cell_type": "code",
   "execution_count": 35,
   "id": "7e490cd6",
   "metadata": {},
   "outputs": [
    {
     "name": "stdout",
     "output_type": "stream",
     "text": [
      "\n",
      "abc\n"
     ]
    }
   ],
   "source": [
    "print(\"\\nabc\")"
   ]
  },
  {
   "cell_type": "code",
   "execution_count": 36,
   "id": "a4d1b3b1",
   "metadata": {},
   "outputs": [
    {
     "name": "stdout",
     "output_type": "stream",
     "text": [
      "'\n",
      "'\n"
     ]
    }
   ],
   "source": [
    "print('\\'\\n\\'')"
   ]
  },
  {
   "cell_type": "code",
   "execution_count": 37,
   "id": "a8c537e0",
   "metadata": {},
   "outputs": [
    {
     "name": "stdout",
     "output_type": "stream",
     "text": [
      "\\b\n"
     ]
    }
   ],
   "source": [
    "print(\"\\\\b\")"
   ]
  },
  {
   "cell_type": "code",
   "execution_count": 38,
   "id": "4c2bc9e9",
   "metadata": {},
   "outputs": [
    {
     "name": "stdout",
     "output_type": "stream",
     "text": [
      "myself :\tbhumi\n"
     ]
    }
   ],
   "source": [
    "print(\"myself :\\tbhumi\") # using tab escape sequence"
   ]
  },
  {
   "cell_type": "code",
   "execution_count": 39,
   "id": "a6555e6a",
   "metadata": {},
   "outputs": [
    {
     "name": "stdout",
     "output_type": "stream",
     "text": [
      "\tcar \tbrands\t = \tsupraa\t\n"
     ]
    }
   ],
   "source": [
    "print('\\tcar \\tbrands\\t = \\tsupraa\\t')"
   ]
  },
  {
   "cell_type": "code",
   "execution_count": 40,
   "id": "f89b20ce",
   "metadata": {},
   "outputs": [
    {
     "name": "stdout",
     "output_type": "stream",
     "text": [
      "helloo\b\n"
     ]
    }
   ],
   "source": [
    "print(\"helloo\\b\")"
   ]
  },
  {
   "cell_type": "code",
   "execution_count": 2,
   "id": "204e3b83",
   "metadata": {},
   "outputs": [
    {
     "name": "stdout",
     "output_type": "stream",
     "text": [
      "namee\b\n"
     ]
    }
   ],
   "source": [
    "print(\"namee\\b\")"
   ]
  },
  {
   "cell_type": "code",
   "execution_count": 2,
   "id": "f666e86a",
   "metadata": {},
   "outputs": [
    {
     "name": "stdout",
     "output_type": "stream",
     "text": [
      "my name is moon\r",
      " my name is bhumi\n"
     ]
    }
   ],
   "source": [
    "print(\"my name is moon\\r my name is bhumi\")"
   ]
  },
  {
   "cell_type": "code",
   "execution_count": 4,
   "id": "6c4508e4",
   "metadata": {},
   "outputs": [
    {
     "name": "stdout",
     "output_type": "stream",
     "text": [
      "my name is rohit\r",
      "my name is mohit\n"
     ]
    }
   ],
   "source": [
    "print(\"my name is rohit\\rmy name is mohit\")"
   ]
  },
  {
   "cell_type": "code",
   "execution_count": 42,
   "id": "5e6d684f",
   "metadata": {},
   "outputs": [
    {
     "name": "stdout",
     "output_type": "stream",
     "text": [
      " my name is \\     \n",
      "bhumi\n"
     ]
    }
   ],
   "source": [
    "x = \"\"\" my name is \\     \n",
    "bhumi\"\"\"\n",
    "print(x)"
   ]
  },
  {
   "cell_type": "code",
   "execution_count": 43,
   "id": "419d3047",
   "metadata": {},
   "outputs": [
    {
     "name": "stdout",
     "output_type": "stream",
     "text": [
      "the topic is about 'type castings'\b,\t'escape sequences'\n"
     ]
    }
   ],
   "source": [
    "print(\"the topic is about \\'type castings\\'\\b,\\t\\'escape sequences\\'\")"
   ]
  },
  {
   "cell_type": "markdown",
   "id": "d6a1f6e2",
   "metadata": {},
   "source": [
    "# INPUT IN PYTHON\n",
    " \n",
    "*  In python using the input() function, we take input from the user and using the print() function ,we display the output on the screen . (Any data given in input is string.)"
   ]
  },
  {
   "cell_type": "code",
   "execution_count": 7,
   "id": "4d89f5ab",
   "metadata": {},
   "outputs": [
    {
     "name": "stdout",
     "output_type": "stream",
     "text": [
      "aura name : bhni\n"
     ]
    }
   ],
   "source": [
    "name = input(\"aura name : \")"
   ]
  },
  {
   "cell_type": "code",
   "execution_count": 45,
   "id": "b2e3c020",
   "metadata": {},
   "outputs": [
    {
     "name": "stdout",
     "output_type": "stream",
     "text": [
      " enter your name : BHUMI\n",
      "hello,BHUMI! nice to meet you\n"
     ]
    }
   ],
   "source": [
    "name = input(\" enter your name : \")\n",
    "print(\"hello,\" + name + \"! nice to meet you\")"
   ]
  },
  {
   "cell_type": "code",
   "execution_count": 1,
   "id": "110183b4",
   "metadata": {},
   "outputs": [
    {
     "name": "stdout",
     "output_type": "stream",
     "text": [
      " total no. of students : 56\n",
      " science students 56 in the class \n"
     ]
    }
   ],
   "source": [
    "name = input(\" total no. of students : \")\n",
    "print(\" science students \" + name + \" in the class \")"
   ]
  },
  {
   "cell_type": "code",
   "execution_count": 2,
   "id": "59eb0eef",
   "metadata": {},
   "outputs": [
    {
     "name": "stdout",
     "output_type": "stream",
     "text": [
      "student name :REYANSH \n",
      "student age :5\n",
      "student address :HALDWANI\n",
      "father's name :MR,RAJEEV SHARMA\n",
      "student stream :COMMERCE\n",
      "\n",
      "\n",
      "name REYANSH \n",
      "age 5\n",
      "address HALDWANI\n",
      "parents MR,RAJEEV SHARMA\n",
      "feild COMMERCE\n",
      "REYANSH  5 HALDWANI MR,RAJEEV SHARMA COMMERCE\n"
     ]
    }
   ],
   "source": [
    "name = input(\"student name :\")\n",
    "age = input(\"student age :\")\n",
    "address = input(\"student address :\")\n",
    "parents = input(\"father's name :\")\n",
    "feild = input(\"student stream :\")\n",
    "\n",
    "print(\"\\n\")\n",
    "print(\"name\",name)\n",
    "print(\"age\", age)\n",
    "print(\"address\" , address)\n",
    "print(\"parents\" , parents)\n",
    "print(\"feild\", feild)\n",
    "print(name,age,address,parents,feild)"
   ]
  },
  {
   "cell_type": "code",
   "execution_count": 3,
   "id": "ec1044de",
   "metadata": {},
   "outputs": [
    {
     "name": "stdout",
     "output_type": "stream",
     "text": [
      "even number :2\n",
      "odd number :1\n",
      "21\n"
     ]
    }
   ],
   "source": [
    "x  = input(\"even number :\") # the output which is givem here is an the part of concatination.\n",
    "y = input(\"odd number :\")\n",
    "z = x+y # HERE THE INPUT GIVEN BY THE USER IS AN STRING SO THE OPERATER WILL OPERATE AS AN CONCATINATION.\n",
    "print(z)"
   ]
  },
  {
   "cell_type": "code",
   "execution_count": 4,
   "id": "6542be7d",
   "metadata": {},
   "outputs": [
    {
     "name": "stdout",
     "output_type": "stream",
     "text": [
      "values given : 67\n",
      "<class 'float'> <class 'int'> <class 'complex'>\n"
     ]
    }
   ],
   "source": [
    "q = input(\"values given : \")\n",
    "print(type(float(q)),type(int(q)),type(complex(q)))"
   ]
  },
  {
   "cell_type": "code",
   "execution_count": 5,
   "id": "ac48e16b",
   "metadata": {},
   "outputs": [
    {
     "name": "stdout",
     "output_type": "stream",
     "text": [
      "no. of products sold77544\n",
      "type is : <class 'float'>\n"
     ]
    }
   ],
   "source": [
    "h = float(input(\"no. of products sold\"))\n",
    "print(\"type is :\" , type(h))"
   ]
  },
  {
   "cell_type": "code",
   "execution_count": 6,
   "id": "131007dd",
   "metadata": {},
   "outputs": [
    {
     "name": "stdout",
     "output_type": "stream",
     "text": [
      " name of flowers : tulip\n"
     ]
    },
    {
     "ename": "ValueError",
     "evalue": "complex() arg is a malformed string",
     "output_type": "error",
     "traceback": [
      "\u001b[1;31m---------------------------------------------------------------------------\u001b[0m",
      "\u001b[1;31mValueError\u001b[0m                                Traceback (most recent call last)",
      "Cell \u001b[1;32mIn[6], line 1\u001b[0m\n\u001b[1;32m----> 1\u001b[0m flowers \u001b[38;5;241m=\u001b[39m \u001b[38;5;28;43mcomplex\u001b[39;49m\u001b[43m(\u001b[49m\u001b[38;5;28;43minput\u001b[39;49m\u001b[43m(\u001b[49m\u001b[38;5;124;43m\"\u001b[39;49m\u001b[38;5;124;43m name of flowers : \u001b[39;49m\u001b[38;5;124;43m\"\u001b[39;49m\u001b[43m)\u001b[49m\u001b[43m)\u001b[49m\n\u001b[0;32m      2\u001b[0m \u001b[38;5;28mprint\u001b[39m(\u001b[38;5;124m\"\u001b[39m\u001b[38;5;130;01m\\n\u001b[39;00m\u001b[38;5;124m\"\u001b[39m)\n\u001b[0;32m      3\u001b[0m \u001b[38;5;28mprint\u001b[39m(\u001b[38;5;124m\"\u001b[39m\u001b[38;5;124mname of flower :\u001b[39m\u001b[38;5;124m\"\u001b[39m , name )\n",
      "\u001b[1;31mValueError\u001b[0m: complex() arg is a malformed string"
     ]
    }
   ],
   "source": [
    "flowers = complex(input(\" name of flowers : \"))\n",
    "print(\"\\n\")\n",
    "print(\"name of flower :\" , name )\n",
    "                  "
   ]
  },
  {
   "cell_type": "code",
   "execution_count": 8,
   "id": "7b8f50e4",
   "metadata": {},
   "outputs": [
    {
     "name": "stdout",
     "output_type": "stream",
     "text": [
      " name of flowers : 67\n",
      "\n",
      "\n"
     ]
    },
    {
     "ename": "NameError",
     "evalue": "name 'flower' is not defined",
     "output_type": "error",
     "traceback": [
      "\u001b[1;31m---------------------------------------------------------------------------\u001b[0m",
      "\u001b[1;31mNameError\u001b[0m                                 Traceback (most recent call last)",
      "Cell \u001b[1;32mIn[8], line 3\u001b[0m\n\u001b[0;32m      1\u001b[0m flowers \u001b[38;5;241m=\u001b[39m \u001b[38;5;28mcomplex\u001b[39m(\u001b[38;5;28minput\u001b[39m(\u001b[38;5;124m\"\u001b[39m\u001b[38;5;124m name of flowers : \u001b[39m\u001b[38;5;124m\"\u001b[39m))\n\u001b[0;32m      2\u001b[0m \u001b[38;5;28mprint\u001b[39m(\u001b[38;5;124m\"\u001b[39m\u001b[38;5;130;01m\\n\u001b[39;00m\u001b[38;5;124m\"\u001b[39m)\n\u001b[1;32m----> 3\u001b[0m \u001b[38;5;28mprint\u001b[39m(\u001b[38;5;124m\"\u001b[39m\u001b[38;5;124mname of flower :\u001b[39m\u001b[38;5;124m\"\u001b[39m , \u001b[43mflower\u001b[49m )\n",
      "\u001b[1;31mNameError\u001b[0m: name 'flower' is not defined"
     ]
    }
   ],
   "source": [
    "flowers = complex(input(\" name of flowers : \"))\n",
    "print(\"\\n\")\n",
    "print(\"name of flower :\" , flower )\n",
    "                  "
   ]
  },
  {
   "cell_type": "code",
   "execution_count": 11,
   "id": "66d17134",
   "metadata": {},
   "outputs": [
    {
     "ename": "SyntaxError",
     "evalue": "invalid syntax (476155978.py, line 3)",
     "output_type": "error",
     "traceback": [
      "\u001b[1;36m  Cell \u001b[1;32mIn[11], line 3\u001b[1;36m\u001b[0m\n\u001b[1;33m    class : a\u001b[0m\n\u001b[1;37m          ^\u001b[0m\n\u001b[1;31mSyntaxError\u001b[0m\u001b[1;31m:\u001b[0m invalid syntax\n"
     ]
    }
   ],
   "source": [
    "a = (float(input(\"user id:\")))\n",
    "print(\"\\n\"), print(\"user id:\", a )\n",
    "class : a"
   ]
  },
  {
   "attachments": {
    "image.png": {
     "image/png": "[encoded data removed]"
    }
   },
   "cell_type": "markdown",
   "id": "9a6b8cb9",
   "metadata": {},
   "source": [
    "# WHAT IS INDEXING???\n",
    "\n",
    "* Indexing means **assessing individual characters(elements)** of a string by its position within the \n",
    "  string. \n",
    "* Indexing is of two types: POSIVITE OR NEGITIVE INDEXING.\n",
    "* Positive indexing starts with 0 or starts from the left side.\n",
    "* Space is also an character.\n",
    "* Negitive indexing starts from right hand side,and starts with -1\n",
    "  \n",
    "  \n",
    "  ![image.png](attachment:image.png)\n",
    "  "
   ]
  },
  {
   "cell_type": "code",
   "execution_count": 2,
   "id": "259cab88",
   "metadata": {},
   "outputs": [
    {
     "name": "stdout",
     "output_type": "stream",
     "text": [
      "P\n"
     ]
    }
   ],
   "source": [
    "example = \"PYTHON IS EASY\"\n",
    "print(example[0])"
   ]
  },
  {
   "cell_type": "code",
   "execution_count": 5,
   "id": "752e8c56",
   "metadata": {
    "scrolled": true
   },
   "outputs": [
    {
     "ename": "IndexError",
     "evalue": "string index out of range",
     "output_type": "error",
     "traceback": [
      "\u001b[1;31m---------------------------------------------------------------------------\u001b[0m",
      "\u001b[1;31mIndexError\u001b[0m                                Traceback (most recent call last)",
      "Cell \u001b[1;32mIn[5], line 2\u001b[0m\n\u001b[0;32m      1\u001b[0m bhumi \u001b[38;5;241m=\u001b[39m \u001b[38;5;124m\"\u001b[39m\u001b[38;5;124mmy name is bhumika sharma\u001b[39m\u001b[38;5;124m\"\u001b[39m\n\u001b[1;32m----> 2\u001b[0m \u001b[38;5;28mprint\u001b[39m(\u001b[43mexample\u001b[49m\u001b[43m[\u001b[49m\u001b[38;5;241;43m14\u001b[39;49m\u001b[43m]\u001b[49m)\n",
      "\u001b[1;31mIndexError\u001b[0m: string index out of range"
     ]
    }
   ],
   "source": [
    "bhumi = \"my name is bhumika sharma \"\n",
    "print(example[14])"
   ]
  },
  {
   "cell_type": "code",
   "execution_count": 1,
   "id": "f0e98374",
   "metadata": {},
   "outputs": [
    {
     "name": "stdout",
     "output_type": "stream",
     "text": [
      "m\n"
     ]
    }
   ],
   "source": [
    "x = \"i am happy\"\n",
    "print(x[3])"
   ]
  },
  {
   "cell_type": "code",
   "execution_count": null,
   "id": "f29fc6d4",
   "metadata": {},
   "outputs": [],
   "source": []
  },
  {
   "cell_type": "code",
   "execution_count": 6,
   "id": "4a77d4ff",
   "metadata": {},
   "outputs": [
    {
     "data": {
      "text/plain": [
       "' '"
      ]
     },
     "execution_count": 6,
     "metadata": {},
     "output_type": "execute_result"
    }
   ],
   "source": [
    "example[6]"
   ]
  },
  {
   "cell_type": "code",
   "execution_count": 7,
   "id": "1d73f223",
   "metadata": {},
   "outputs": [
    {
     "data": {
      "text/plain": [
       "'E'"
      ]
     },
     "execution_count": 7,
     "metadata": {},
     "output_type": "execute_result"
    }
   ],
   "source": [
    "example[10]"
   ]
  },
  {
   "cell_type": "code",
   "execution_count": 16,
   "id": "7ef53c70",
   "metadata": {},
   "outputs": [
    {
     "name": "stdout",
     "output_type": "stream",
     "text": [
      " \n",
      "f\n"
     ]
    }
   ],
   "source": [
    "moon = \"moon is beautiful\"\n",
    "print(moon[4])\n",
    "print(moon[-3])"
   ]
  },
  {
   "cell_type": "code",
   "execution_count": 18,
   "id": "22f7ea75",
   "metadata": {},
   "outputs": [
    {
     "name": "stdout",
     "output_type": "stream",
     "text": [
      "i\n"
     ]
    },
    {
     "data": {
      "text/plain": [
       "(None, 'g')"
      ]
     },
     "execution_count": 18,
     "metadata": {},
     "output_type": "execute_result"
    }
   ],
   "source": [
    "error = \"string index out of range\"\n",
    "print(error[3]),(error[-2])"
   ]
  },
  {
   "cell_type": "code",
   "execution_count": 19,
   "id": "4c76d7ea",
   "metadata": {},
   "outputs": [
    {
     "name": "stdout",
     "output_type": "stream",
     "text": [
      "s i\n"
     ]
    }
   ],
   "source": [
    "animals = \"dogs are the pet animals\"\n",
    "print(animals[3],animals[-5])"
   ]
  },
  {
   "cell_type": "markdown",
   "id": "2999b0df",
   "metadata": {},
   "source": [
    "# WHAT IS SLICING????\n",
    "\n",
    "* Slicing means accessing a subset of a string based on its indices.\n",
    "* Again there is two types of slicing : PoSITIVE AND NEGETIVE"
   ]
  },
  {
   "cell_type": "code",
   "execution_count": 1,
   "id": "524f9551",
   "metadata": {},
   "outputs": [
    {
     "data": {
      "text/plain": [
       "' PYTH'"
      ]
     },
     "execution_count": 1,
     "metadata": {},
     "output_type": "execute_result"
    }
   ],
   "source": [
    "# string syntax [start index : stop index]\n",
    "example = \" PYTHON IS EASY\"\n",
    "example[0:5] # printing pyth cause the stop index value that is coming its getted exclusive so,\n",
    "             # to print it we have to write one more index number."
   ]
  },
  {
   "cell_type": "code",
   "execution_count": 28,
   "id": "69220d80",
   "metadata": {},
   "outputs": [
    {
     "data": {
      "text/plain": [
       "' easy'"
      ]
     },
     "execution_count": 28,
     "metadata": {},
     "output_type": "execute_result"
    }
   ],
   "source": [
    "example = \" python is easy\"\n",
    "example[10:15]"
   ]
  },
  {
   "cell_type": "code",
   "execution_count": 43,
   "id": "24e7d77a",
   "metadata": {},
   "outputs": [
    {
     "data": {
      "text/plain": [
       "'s '"
      ]
     },
     "execution_count": 43,
     "metadata": {},
     "output_type": "execute_result"
    }
   ],
   "source": [
    "example = \"python is easy\"\n",
    "example[-6:-4]"
   ]
  },
  {
   "cell_type": "code",
   "execution_count": 55,
   "id": "576ce3c8",
   "metadata": {},
   "outputs": [
    {
     "data": {
      "text/plain": [
       "'is'"
      ]
     },
     "execution_count": 55,
     "metadata": {},
     "output_type": "execute_result"
    }
   ],
   "source": [
    "example = \"python is easy\"\n",
    "example[7:-5]"
   ]
  },
  {
   "cell_type": "code",
   "execution_count": null,
   "id": "cc891e5a",
   "metadata": {},
   "outputs": [],
   "source": []
  },
  {
   "cell_type": "code",
   "execution_count": 48,
   "id": "246a69f9",
   "metadata": {},
   "outputs": [
    {
     "name": "stdout",
     "output_type": "stream",
     "text": [
      " is \n",
      "s \n"
     ]
    }
   ],
   "source": [
    "example = \"python is easy\"\n",
    "print(example[-8:-4])\n",
    "print(example[-6:-4])"
   ]
  },
  {
   "cell_type": "code",
   "execution_count": 49,
   "id": "f65b2465",
   "metadata": {},
   "outputs": [
    {
     "data": {
      "text/plain": [
       "'e'"
      ]
     },
     "execution_count": 49,
     "metadata": {},
     "output_type": "execute_result"
    }
   ],
   "source": [
    "example[10:-3]"
   ]
  },
  {
   "cell_type": "code",
   "execution_count": 53,
   "id": "61ca9196",
   "metadata": {},
   "outputs": [
    {
     "data": {
      "text/plain": [
       "'i'"
      ]
     },
     "execution_count": 53,
     "metadata": {},
     "output_type": "execute_result"
    }
   ],
   "source": [
    "example[7:-6]"
   ]
  },
  {
   "cell_type": "code",
   "execution_count": 31,
   "id": "7055b623",
   "metadata": {},
   "outputs": [
    {
     "data": {
      "text/plain": [
       "' is easy'"
      ]
     },
     "execution_count": 31,
     "metadata": {},
     "output_type": "execute_result"
    }
   ],
   "source": [
    "example[7:]"
   ]
  },
  {
   "cell_type": "code",
   "execution_count": 32,
   "id": "151184e9",
   "metadata": {},
   "outputs": [
    {
     "data": {
      "text/plain": [
       "' easy'"
      ]
     },
     "execution_count": 32,
     "metadata": {},
     "output_type": "execute_result"
    }
   ],
   "source": [
    "example[10:20]"
   ]
  },
  {
   "cell_type": "code",
   "execution_count": 36,
   "id": "91f68824",
   "metadata": {},
   "outputs": [
    {
     "data": {
      "text/plain": [
       "'ython is easy'"
      ]
     },
     "execution_count": 36,
     "metadata": {},
     "output_type": "execute_result"
    }
   ],
   "source": [
    "example[2:200]"
   ]
  },
  {
   "cell_type": "code",
   "execution_count": 37,
   "id": "009da977",
   "metadata": {},
   "outputs": [
    {
     "data": {
      "text/plain": [
       "''"
      ]
     },
     "execution_count": 37,
     "metadata": {},
     "output_type": "execute_result"
    }
   ],
   "source": []
  },
  {
   "cell_type": "code",
   "execution_count": 39,
   "id": "8a0a043c",
   "metadata": {},
   "outputs": [
    {
     "data": {
      "text/plain": [
       "' python '"
      ]
     },
     "execution_count": 39,
     "metadata": {},
     "output_type": "execute_result"
    }
   ],
   "source": [
    "example[:8]"
   ]
  },
  {
   "cell_type": "code",
   "execution_count": 41,
   "id": "3b5dba37",
   "metadata": {},
   "outputs": [
    {
     "data": {
      "text/plain": [
       "' python is easy'"
      ]
     },
     "execution_count": 41,
     "metadata": {},
     "output_type": "execute_result"
    }
   ],
   "source": [
    "example[:]"
   ]
  },
  {
   "cell_type": "code",
   "execution_count": 22,
   "id": "ee1af8da",
   "metadata": {},
   "outputs": [
    {
     "name": "stdout",
     "output_type": "stream",
     "text": [
      "my watch\n"
     ]
    }
   ],
   "source": [
    "example2 = \"my watch is not working\"\n",
    "print(example2[0:8])"
   ]
  },
  {
   "cell_type": "code",
   "execution_count": 23,
   "id": "2e5c9466",
   "metadata": {},
   "outputs": [
    {
     "name": "stdout",
     "output_type": "stream",
     "text": [
      " is\n"
     ]
    }
   ],
   "source": [
    "example3 = \"my watch is not working\"\n",
    "print(example3[8:11])"
   ]
  },
  {
   "cell_type": "code",
   "execution_count": 2,
   "id": "4271612a",
   "metadata": {},
   "outputs": [],
   "source": [
    "# by clicking A \n"
   ]
  },
  {
   "cell_type": "code",
   "execution_count": 2,
   "id": "2b0e828b",
   "metadata": {},
   "outputs": [
    {
     "name": "stdout",
     "output_type": "stream",
     "text": [
      "\n"
     ]
    }
   ],
   "source": [
    "example4 = \"my watch is not working\"\n",
    "print(example4[-2:-5])"
   ]
  },
  {
   "cell_type": "markdown",
   "id": "7c6a8f04",
   "metadata": {},
   "source": [
    "#  WHAT IS STRIDE???\n",
    "\n",
    "* String slicing cn also accept a third parameter, the stride , which refers to how maany steps you want to take from the first character of the string."
   ]
  },
  {
   "cell_type": "code",
   "execution_count": 3,
   "id": "3585c446",
   "metadata": {},
   "outputs": [
    {
     "name": "stdout",
     "output_type": "stream",
     "text": [
      "PYTHON IS EASY\n"
     ]
    }
   ],
   "source": [
    "# string[start index : stop index : stride/stepvalue]\n",
    "x = \"PYTHON IS EASY\"\n",
    "print(x[0:15:1])"
   ]
  },
  {
   "cell_type": "code",
   "execution_count": 4,
   "id": "761a7ca5",
   "metadata": {},
   "outputs": [
    {
     "ename": "ValueError",
     "evalue": "slice step cannot be zero",
     "output_type": "error",
     "traceback": [
      "\u001b[1;31m---------------------------------------------------------------------------\u001b[0m",
      "\u001b[1;31mValueError\u001b[0m                                Traceback (most recent call last)",
      "Cell \u001b[1;32mIn[4], line 2\u001b[0m\n\u001b[0;32m      1\u001b[0m x \u001b[38;5;241m=\u001b[39m \u001b[38;5;124m\"\u001b[39m\u001b[38;5;124mPYTHON IS EASY\u001b[39m\u001b[38;5;124m\"\u001b[39m       \u001b[38;5;66;03m# slice step cannot be zero\u001b[39;00m\n\u001b[1;32m----> 2\u001b[0m \u001b[43mx\u001b[49m\u001b[43m[\u001b[49m\u001b[43m:\u001b[49m\u001b[43m:\u001b[49m\u001b[38;5;241;43m0\u001b[39;49m\u001b[43m]\u001b[49m\n",
      "\u001b[1;31mValueError\u001b[0m: slice step cannot be zero"
     ]
    }
   ],
   "source": [
    "x = \"PYTHON IS EASY\"       # slice step cannot be zero\n",
    "x[::0]           "
   ]
  },
  {
   "cell_type": "code",
   "execution_count": 5,
   "id": "38d9310b",
   "metadata": {},
   "outputs": [
    {
     "data": {
      "text/plain": [
       "' NOHTY'"
      ]
     },
     "execution_count": 5,
     "metadata": {},
     "output_type": "execute_result"
    }
   ],
   "source": [
    "x = \"PYTHON IS EASY \"\n",
    "x[-9:-15:-1]"
   ]
  },
  {
   "cell_type": "code",
   "execution_count": 6,
   "id": "e3cafdda",
   "metadata": {},
   "outputs": [
    {
     "data": {
      "text/plain": [
       "' NOHTY'"
      ]
     },
     "execution_count": 6,
     "metadata": {},
     "output_type": "execute_result"
    }
   ],
   "source": [
    "x = \"PYTHON IS EASY \"\n",
    "x[-9:-15:-1]"
   ]
  },
  {
   "cell_type": "code",
   "execution_count": 7,
   "id": "a9c065c9",
   "metadata": {},
   "outputs": [
    {
     "name": "stdout",
     "output_type": "stream",
     "text": [
      "NOHTYP\n"
     ]
    }
   ],
   "source": [
    "x = \"PYTHON IS EASY\" # negetive stride\n",
    "print(x[-9::-1])"
   ]
  },
  {
   "cell_type": "code",
   "execution_count": 8,
   "id": "ba7a3b73",
   "metadata": {},
   "outputs": [
    {
     "name": "stdout",
     "output_type": "stream",
     "text": [
      "HLO\n"
     ]
    }
   ],
   "source": [
    "y = \"HELLO WORLD\"\n",
    "print(y[0:5:2])"
   ]
  },
  {
   "cell_type": "markdown",
   "id": "0ff8b0bc",
   "metadata": {},
   "source": [
    "# STRING OPERATIONS\n",
    "\n",
    "* strings methods and functions\n",
    "* concatenation of strings"
   ]
  },
  {
   "cell_type": "markdown",
   "id": "7a8f8026",
   "metadata": {},
   "source": [
    "## METHODS IN STRING\n",
    "\n",
    "* .upper()\n",
    "* .lower()\n",
    "* .replace()\n",
    "* .count()\n",
    "* .find()\n",
    "* .endswith()\n",
    "* .startswith()\n",
    "* .split()"
   ]
  },
  {
   "cell_type": "code",
   "execution_count": 2,
   "id": "6bde6de9",
   "metadata": {},
   "outputs": [
    {
     "data": {
      "text/plain": [
       "'WELCOME TO JUPYTER NOTEBOOK'"
      ]
     },
     "execution_count": 2,
     "metadata": {},
     "output_type": "execute_result"
    }
   ],
   "source": [
    "# .upper() --- this method helps to upper case the given argument given in the string.\n",
    "x = \"welcome to jupyter notebook\"\n",
    "x.upper()"
   ]
  },
  {
   "cell_type": "code",
   "execution_count": 10,
   "id": "fc0e9c68",
   "metadata": {},
   "outputs": [
    {
     "data": {
      "text/plain": [
       "'welcome to jupyter notebook'"
      ]
     },
     "execution_count": 10,
     "metadata": {},
     "output_type": "execute_result"
    }
   ],
   "source": [
    "# lower() --- this method helps to lower case the given argument given in the string.\n",
    "x.lower()"
   ]
  },
  {
   "cell_type": "code",
   "execution_count": 11,
   "id": "ecf140c7",
   "metadata": {},
   "outputs": [
    {
     "data": {
      "text/plain": [
       "'welczme tz jupyter nztebzzk'"
      ]
     },
     "execution_count": 11,
     "metadata": {},
     "output_type": "execute_result"
    }
   ],
   "source": [
    "# .replace() --- this method replaces any value to the given value the user gives.\n",
    "x.replace(\"o\",\"z\")"
   ]
  },
  {
   "cell_type": "code",
   "execution_count": 12,
   "id": "e9a01a04",
   "metadata": {},
   "outputs": [
    {
     "data": {
      "text/plain": [
       "5"
      ]
     },
     "execution_count": 12,
     "metadata": {},
     "output_type": "execute_result"
    }
   ],
   "source": [
    "# .count() --- this method counts the number(how many times the letter is there in the string) of the given letter form the string.\n",
    "x.count(\"o\")"
   ]
  },
  {
   "cell_type": "code",
   "execution_count": 13,
   "id": "4140f14b",
   "metadata": {},
   "outputs": [
    {
     "data": {
      "text/plain": [
       "True"
      ]
     },
     "execution_count": 13,
     "metadata": {},
     "output_type": "execute_result"
    }
   ],
   "source": [
    "# .endswith() --- this method helps to find out whether the statement endswith .\n",
    "x.endswith(\"book\")"
   ]
  },
  {
   "cell_type": "code",
   "execution_count": 17,
   "id": "26f4ef33",
   "metadata": {},
   "outputs": [
    {
     "data": {
      "text/plain": [
       "5"
      ]
     },
     "execution_count": 17,
     "metadata": {},
     "output_type": "execute_result"
    }
   ],
   "source": [
    "# .find() --- finds the index number of the given letter. index at which 'm'occors for the first time.\n",
    "# finds the occurance of the specified value.\n",
    "x.find(\"m\")"
   ]
  },
  {
   "cell_type": "code",
   "execution_count": 3,
   "id": "f1f9cfb9",
   "metadata": {},
   "outputs": [
    {
     "data": {
      "text/plain": [
       "['welcome', 'to', 'jupyter', 'notebook']"
      ]
     },
     "execution_count": 3,
     "metadata": {},
     "output_type": "execute_result"
    }
   ],
   "source": [
    "# .split() --- if you want to divide or to break the string data type to make the smaller groups\n",
    "# we use split method .\n",
    "x.split(\" \")"
   ]
  },
  {
   "cell_type": "markdown",
   "id": "a78b0f7c",
   "metadata": {},
   "source": [
    "# ***FUNCTIONS OF STRING***\n",
    "# <br> * length()"
   ]
  },
  {
   "cell_type": "code",
   "execution_count": 19,
   "id": "7bd2baf1",
   "metadata": {},
   "outputs": [
    {
     "data": {
      "text/plain": [
       "1"
      ]
     },
     "execution_count": 19,
     "metadata": {},
     "output_type": "execute_result"
    }
   ],
   "source": [
    "# len() --check the length of the string or the sentence.\n",
    "x = \"o\"                        \n",
    "len(x)"
   ]
  },
  {
   "cell_type": "code",
   "execution_count": 20,
   "id": "111716ae",
   "metadata": {
    "scrolled": true
   },
   "outputs": [
    {
     "data": {
      "text/plain": [
       "26"
      ]
     },
     "execution_count": 20,
     "metadata": {},
     "output_type": "execute_result"
    }
   ],
   "source": [
    "len(\"                    python\")"
   ]
  },
  {
   "cell_type": "code",
   "execution_count": 21,
   "id": "8ecc119b",
   "metadata": {},
   "outputs": [
    {
     "data": {
      "text/plain": [
       "40"
      ]
     },
     "execution_count": 21,
     "metadata": {},
     "output_type": "execute_result"
    }
   ],
   "source": [
    "len(\"                pyhton                  \")"
   ]
  },
  {
   "cell_type": "markdown",
   "id": "ab6b8a81",
   "metadata": {},
   "source": [
    "# TOKENS\n",
    "\n",
    "* A TOKEN IS THE **SMALLEST INDIVIDUAL UNIT IN A PTHON PROGRAM** . ALL STATEMENTS AND INSTRUCTIONS IN A PROGRAM ARE BUILD WITH TOKENS.\n",
    "\n",
    "* KEYWORDS--- **are special words which have a unique meaning and purpose in python.\n",
    "  Keywords cannot be used as variable names , variable names,function names etc.**\n",
    "\n",
    "* IDENTIFIERS -- **names given to any variable classs,function, method etc.**\n",
    "\n",
    "* LITERALS---  **Literals are simply the raw data that is assigned into the variables.**\n",
    "\n",
    "* OPERATORS--- **The arithmatic symbols (+,-,*,%,)**\n",
    "\n",
    "* PUNCTUATORS--- **are symbols that we used to structure the statements. Some commonly used          \n",
    "  punctuators are : \"\",\\,@,{},[],(),#,:,; etc**"
   ]
  },
  {
   "cell_type": "code",
   "execution_count": 22,
   "id": "ebca440c",
   "metadata": {},
   "outputs": [
    {
     "name": "stdout",
     "output_type": "stream",
     "text": [
      "\n",
      "Here is a list of the Python keywords.  Enter any keyword to get more help.\n",
      "\n",
      "False               class               from                or\n",
      "None                continue            global              pass\n",
      "True                def                 if                  raise\n",
      "and                 del                 import              return\n",
      "as                  elif                in                  try\n",
      "assert              else                is                  while\n",
      "async               except              lambda              with\n",
      "await               finally             nonlocal            yield\n",
      "break               for                 not                 \n",
      "\n"
     ]
    }
   ],
   "source": [
    "help(\"keywords\")"
   ]
  },
  {
   "cell_type": "markdown",
   "id": "bfa0ecc4",
   "metadata": {},
   "source": [
    "###  LITERALS\n",
    "1. Strring literals\n",
    "\n",
    "2. Numeric literals\n",
    "  * a.integer\n",
    "  * b.float\n",
    "  * c.complex\n",
    "   \n",
    "3. Boolean literals\n",
    "\n",
    "4. Special literals(none)\n",
    "\n",
    "5. Literal collections\n",
    "  * a.list literal\n",
    "  * b.tuple literal\n",
    "  * c.dictionary literal\n",
    "  * d.set literal"
   ]
  },
  {
   "cell_type": "markdown",
   "id": "9aa45506",
   "metadata": {},
   "source": [
    "***escape sequences are the string literal***"
   ]
  },
  {
   "cell_type": "markdown",
   "id": "1ec265a2",
   "metadata": {},
   "source": [
    "# OPERATORS IN PYTHON\n",
    "\n",
    "* Operators are symbols which are used to perform a specific operation between values.\n",
    "\n",
    "* There are some common operators in python :\n",
    "  * ARITHMETRIC OPERATIONS(+,-,*,/)\n",
    "  * ASSIGNMENT OPERATERS(=,+=,=+,==)\n",
    "  * BITWISE OPERATORS\n",
    "  * MEMBERSHIP OPERATOR\n",
    "  * IDENTIFY OPERATORS\n",
    "  * FLOOR DIVISION(//)\n",
    "  * MODULE OPERATION(%)\n",
    "  * POWER(**)\n",
    "  * LOGICAL OPERATERS(not,or,and)\n",
    "  * COMPARISION OPERATORS(==,>=,<=,<,>,!=,etc)"
   ]
  },
  {
   "cell_type": "markdown",
   "id": "24ed035d",
   "metadata": {},
   "source": [
    "# *comparision operators*\n",
    "* (==) its cheack wheather it is equals to or not.\n",
    "* (!=)---equals not ---\n",
    "* (>) ---greater than\n",
    "* (>) ---less than\n",
    "* (<=) ----less than or equals to\n",
    "* (>=)----greater than or equals to"
   ]
  },
  {
   "cell_type": "code",
   "execution_count": 3,
   "id": "8f9b613e",
   "metadata": {},
   "outputs": [
    {
     "name": "stdout",
     "output_type": "stream",
     "text": [
      "False\n"
     ]
    }
   ],
   "source": [
    "x = 8\n",
    "y = 10\n",
    "print(x==y)"
   ]
  },
  {
   "cell_type": "code",
   "execution_count": 4,
   "id": "1ef86abd",
   "metadata": {},
   "outputs": [
    {
     "name": "stdout",
     "output_type": "stream",
     "text": [
      "True\n"
     ]
    }
   ],
   "source": [
    "print(x<y)"
   ]
  },
  {
   "cell_type": "markdown",
   "id": "d343b4d4",
   "metadata": {},
   "source": [
    "**in logical operator(and) it combines the comparisions.<br>\n",
    "the output can true if both the comparisions came true.<br>\n",
    "if one of the condition is false it will give me false.<br>\n",
    "TRUE and FALSE : FALSE<br>\n",
    "TRUE and TRUE : TRUE<br>\n",
    "FALSE and FALSE : FALSE<br>\n",
    "FALSE and TRUE : FALSE<br>**\n",
    "\n",
    "**in logiacl operator(Or): it requries only one to satisfy as true.if one of the condition is true then <br>\n",
    "it will give true.\n",
    "TRUE or FALSE : TRUE<br>\n",
    "TRUE or TRUE : TRUE<br>\n",
    "FALSE or FALSE : FALSE<br>\n",
    "FALSE or TRUE : TRUE<br>**\n",
    "\n",
    "\n",
    "**in logical operater(not):it will reverse the answer for True or false<br>   \n",
    "likewise : if we are writting not true it will the output as falsse.<br>**\n",
    "\n",
    "\n",
    "\n",
    "\n",
    "\n"
   ]
  },
  {
   "cell_type": "code",
   "execution_count": 2,
   "id": "108e9874",
   "metadata": {},
   "outputs": [
    {
     "data": {
      "text/plain": [
       "True"
      ]
     },
     "execution_count": 2,
     "metadata": {},
     "output_type": "execute_result"
    }
   ],
   "source": [
    "True and False or True and True or False and False# its giving true because in this python will execute and first and the or"
   ]
  },
  {
   "cell_type": "code",
   "execution_count": 3,
   "id": "9904c4b4",
   "metadata": {},
   "outputs": [
    {
     "data": {
      "text/plain": [
       "True"
      ]
     },
     "execution_count": 3,
     "metadata": {},
     "output_type": "execute_result"
    }
   ],
   "source": [
    "True or False and True or True and False or False"
   ]
  },
  {
   "cell_type": "code",
   "execution_count": 7,
   "id": "a097cd3a",
   "metadata": {},
   "outputs": [
    {
     "data": {
      "text/plain": [
       "True"
      ]
     },
     "execution_count": 7,
     "metadata": {},
     "output_type": "execute_result"
    }
   ],
   "source": [
    "True and False or True and True or not False and True"
   ]
  },
  {
   "cell_type": "code",
   "execution_count": 5,
   "id": "136d66d2",
   "metadata": {},
   "outputs": [
    {
     "data": {
      "text/plain": [
       "True"
      ]
     },
     "execution_count": 5,
     "metadata": {},
     "output_type": "execute_result"
    }
   ],
   "source": [
    "True and False or True and True or not True and False"
   ]
  },
  {
   "cell_type": "code",
   "execution_count": 16,
   "id": "99f741df",
   "metadata": {},
   "outputs": [
    {
     "ename": "SyntaxError",
     "evalue": "invalid syntax (2493357238.py, line 3)",
     "output_type": "error",
     "traceback": [
      "\u001b[1;36m  Cell \u001b[1;32mIn[16], line 3\u001b[1;36m\u001b[0m\n\u001b[1;33m    b>7  and d!=b or b==d not b==d\u001b[0m\n\u001b[1;37m                              ^\u001b[0m\n\u001b[1;31mSyntaxError\u001b[0m\u001b[1;31m:\u001b[0m invalid syntax\n"
     ]
    }
   ],
   "source": [
    "b = 3\n",
    "d = 7\n",
    "b>7  and d!=b or b==d not b==d\n"
   ]
  },
  {
   "cell_type": "code",
   "execution_count": 6,
   "id": "64f4c250",
   "metadata": {},
   "outputs": [
    {
     "data": {
      "text/plain": [
       "True"
      ]
     },
     "execution_count": 6,
     "metadata": {},
     "output_type": "execute_result"
    }
   ],
   "source": [
    "b<7 or d!=b"
   ]
  },
  {
   "cell_type": "code",
   "execution_count": 7,
   "id": "f2286cf7",
   "metadata": {},
   "outputs": [
    {
     "data": {
      "text/plain": [
       "True"
      ]
     },
     "execution_count": 7,
     "metadata": {},
     "output_type": "execute_result"
    }
   ],
   "source": [
    "b<=7 and d!=b"
   ]
  },
  {
   "cell_type": "code",
   "execution_count": 8,
   "id": "f19d83ae",
   "metadata": {},
   "outputs": [
    {
     "data": {
      "text/plain": [
       "True"
      ]
     },
     "execution_count": 8,
     "metadata": {},
     "output_type": "execute_result"
    }
   ],
   "source": [
    "b>=7 or d!=b"
   ]
  },
  {
   "cell_type": "code",
   "execution_count": 9,
   "id": "0392fa8c",
   "metadata": {},
   "outputs": [
    {
     "data": {
      "text/plain": [
       "True"
      ]
     },
     "execution_count": 9,
     "metadata": {},
     "output_type": "execute_result"
    }
   ],
   "source": [
    "not b>7"
   ]
  },
  {
   "cell_type": "code",
   "execution_count": 10,
   "id": "d115d83e",
   "metadata": {},
   "outputs": [
    {
     "data": {
      "text/plain": [
       "False"
      ]
     },
     "execution_count": 10,
     "metadata": {},
     "output_type": "execute_result"
    }
   ],
   "source": [
    "not b<7"
   ]
  },
  {
   "cell_type": "code",
   "execution_count": 11,
   "id": "0f8b51df",
   "metadata": {},
   "outputs": [
    {
     "data": {
      "text/plain": [
       "True"
      ]
     },
     "execution_count": 11,
     "metadata": {},
     "output_type": "execute_result"
    }
   ],
   "source": [
    "not d!=7"
   ]
  },
  {
   "cell_type": "code",
   "execution_count": 12,
   "id": "4051110b",
   "metadata": {},
   "outputs": [
    {
     "data": {
      "text/plain": [
       "True"
      ]
     },
     "execution_count": 12,
     "metadata": {},
     "output_type": "execute_result"
    }
   ],
   "source": [
    "False or True"
   ]
  },
  {
   "cell_type": "code",
   "execution_count": 13,
   "id": "2fb5846a",
   "metadata": {},
   "outputs": [
    {
     "data": {
      "text/plain": [
       "False"
      ]
     },
     "execution_count": 13,
     "metadata": {},
     "output_type": "execute_result"
    }
   ],
   "source": [
    "True and False"
   ]
  },
  {
   "cell_type": "code",
   "execution_count": 14,
   "id": "9bf5c097",
   "metadata": {},
   "outputs": [
    {
     "ename": "SyntaxError",
     "evalue": "invalid syntax (427692260.py, line 1)",
     "output_type": "error",
     "traceback": [
      "\u001b[1;36m  Cell \u001b[1;32mIn[14], line 1\u001b[1;36m\u001b[0m\n\u001b[1;33m    True not False\u001b[0m\n\u001b[1;37m             ^\u001b[0m\n\u001b[1;31mSyntaxError\u001b[0m\u001b[1;31m:\u001b[0m invalid syntax\n"
     ]
    }
   ],
   "source": [
    "True not False"
   ]
  },
  {
   "cell_type": "code",
   "execution_count": 1,
   "id": "c5af4dda",
   "metadata": {},
   "outputs": [
    {
     "data": {
      "text/plain": [
       "True"
      ]
     },
     "execution_count": 1,
     "metadata": {},
     "output_type": "execute_result"
    }
   ],
   "source": [
    "True and False or True and False or True "
   ]
  },
  {
   "cell_type": "markdown",
   "id": "c7be7abf",
   "metadata": {},
   "source": [
    "### IDENTITY OPERATORS "
   ]
  },
  {
   "cell_type": "code",
   "execution_count": 2,
   "id": "5723a24e",
   "metadata": {},
   "outputs": [
    {
     "name": "stdout",
     "output_type": "stream",
     "text": [
      "1715563463248\n",
      "1715563463280\n",
      "False\n"
     ]
    }
   ],
   "source": [
    "# identify operators  ----- is    , is not \n",
    "# check whether two variable or objects share the same memory location or not.\n",
    "x = 12\n",
    "y = 13\n",
    "print(id(x))\n",
    "print(id(y))\n",
    "print(x is y)"
   ]
  },
  {
   "cell_type": "code",
   "execution_count": 3,
   "id": "e19dcd4f",
   "metadata": {},
   "outputs": [
    {
     "name": "stdout",
     "output_type": "stream",
     "text": [
      "True\n"
     ]
    }
   ],
   "source": [
    "print(x is not y)"
   ]
  },
  {
   "cell_type": "code",
   "execution_count": 4,
   "id": "ce37d9aa",
   "metadata": {},
   "outputs": [
    {
     "data": {
      "text/plain": [
       "True"
      ]
     },
     "execution_count": 4,
     "metadata": {},
     "output_type": "execute_result"
    }
   ],
   "source": [
    "a = [12]\n",
    "b = [12]\n",
    "a is not b"
   ]
  },
  {
   "cell_type": "code",
   "execution_count": 5,
   "id": "44e10ade",
   "metadata": {},
   "outputs": [
    {
     "data": {
      "text/plain": [
       "False"
      ]
     },
     "execution_count": 5,
     "metadata": {},
     "output_type": "execute_result"
    }
   ],
   "source": [
    "a is b"
   ]
  },
  {
   "cell_type": "code",
   "execution_count": 11,
   "id": "861402fb",
   "metadata": {},
   "outputs": [
    {
     "name": "stdout",
     "output_type": "stream",
     "text": [
      "1715563463216 1715563463216 1715563463216 1715563463216\n",
      "True\n",
      "False\n"
     ]
    }
   ],
   "source": [
    "c = 11\n",
    "v = 11\n",
    "j = 11\n",
    "o = 11\n",
    "print(id(c),id(v),id(j),id(o))\n",
    "print(c is v is j is o is c )\n",
    "print(c is not v is not j is not o)"
   ]
  },
  {
   "cell_type": "code",
   "execution_count": 12,
   "id": "ec46938c",
   "metadata": {},
   "outputs": [
    {
     "name": "stdout",
     "output_type": "stream",
     "text": [
      "False\n",
      "True\n",
      "1715643768512\n",
      "1715642836736\n"
     ]
    }
   ],
   "source": [
    "a = [12]\n",
    "b = [12]\n",
    "print( a is b )\n",
    "print(a ==b )\n",
    "print(id(a))\n",
    "print(id(b))"
   ]
  },
  {
   "cell_type": "markdown",
   "id": "06b900c5",
   "metadata": {},
   "source": [
    "### MEMBERSHIP OPERATORS"
   ]
  },
  {
   "cell_type": "code",
   "execution_count": 13,
   "id": "84da975d",
   "metadata": {},
   "outputs": [
    {
     "data": {
      "text/plain": [
       "True"
      ]
     },
     "execution_count": 13,
     "metadata": {},
     "output_type": "execute_result"
    }
   ],
   "source": [
    "# Membership Operators ----in  , not in \n",
    "# Membership operators check wheater a value is present in a sequences of values \n",
    "# Sequences - strings , lists, tuples , sets , dictionaries\n",
    "a = \"data science\"\n",
    "b = \"data\"\n",
    "b in a "
   ]
  },
  {
   "cell_type": "code",
   "execution_count": 3,
   "id": "623cae5c",
   "metadata": {},
   "outputs": [
    {
     "data": {
      "text/plain": [
       "True"
      ]
     },
     "execution_count": 3,
     "metadata": {},
     "output_type": "execute_result"
    }
   ],
   "source": [
    "c = [1,2,3,4]\n",
    "d = 4 \n",
    "d in  c "
   ]
  },
  {
   "cell_type": "code",
   "execution_count": 4,
   "id": "c244ab91",
   "metadata": {},
   "outputs": [
    {
     "data": {
      "text/plain": [
       "False"
      ]
     },
     "execution_count": 4,
     "metadata": {},
     "output_type": "execute_result"
    }
   ],
   "source": [
    "c = [1,2,3,4]\n",
    "d = 4 \n",
    "d not in  c "
   ]
  },
  {
   "cell_type": "code",
   "execution_count": 5,
   "id": "36a84ded",
   "metadata": {},
   "outputs": [
    {
     "data": {
      "text/plain": [
       "True"
      ]
     },
     "execution_count": 5,
     "metadata": {},
     "output_type": "execute_result"
    }
   ],
   "source": [
    "c = [1,2,3,[4]]\n",
    "d = [4]\n",
    "d in  c "
   ]
  },
  {
   "cell_type": "code",
   "execution_count": 6,
   "id": "4c575413",
   "metadata": {},
   "outputs": [
    {
     "data": {
      "text/plain": [
       "False"
      ]
     },
     "execution_count": 6,
     "metadata": {},
     "output_type": "execute_result"
    }
   ],
   "source": [
    "c = [1,2,3,4]\n",
    "d = [4]\n",
    "d in  c "
   ]
  },
  {
   "cell_type": "code",
   "execution_count": 7,
   "id": "c92b5df9",
   "metadata": {},
   "outputs": [
    {
     "data": {
      "text/plain": [
       "False"
      ]
     },
     "execution_count": 7,
     "metadata": {},
     "output_type": "execute_result"
    }
   ],
   "source": [
    "a = \"hello world\"\n",
    "b =\" world\"\n",
    "\"string\"in a"
   ]
  },
  {
   "cell_type": "code",
   "execution_count": 8,
   "id": "3cc22842",
   "metadata": {},
   "outputs": [
    {
     "data": {
      "text/plain": [
       "False"
      ]
     },
     "execution_count": 8,
     "metadata": {},
     "output_type": "execute_result"
    }
   ],
   "source": [
    "a = \" hello world\"\n",
    "b = \"world\"\n",
    "a in b "
   ]
  },
  {
   "cell_type": "code",
   "execution_count": 11,
   "id": "6733908b",
   "metadata": {},
   "outputs": [
    {
     "data": {
      "text/plain": [
       "True"
      ]
     },
     "execution_count": 11,
     "metadata": {},
     "output_type": "execute_result"
    }
   ],
   "source": [
    "a = \" hello world\"\n",
    "b = \"world\"\n",
    "b in a"
   ]
  },
  {
   "cell_type": "code",
   "execution_count": 9,
   "id": "d5b0695f",
   "metadata": {},
   "outputs": [
    {
     "data": {
      "text/plain": [
       "False"
      ]
     },
     "execution_count": 9,
     "metadata": {},
     "output_type": "execute_result"
    }
   ],
   "source": [
    "v = \"bitwissse wise \"\n",
    "n = \"wise \"\n",
    "n not in v"
   ]
  },
  {
   "cell_type": "code",
   "execution_count": 12,
   "id": "de5b239b",
   "metadata": {},
   "outputs": [],
   "source": [
    "# Bitwise Operators    &  ^  |  ~  <<  >>  \n",
    "# & - bitwise and \n",
    "# | - bitwise or \n",
    "# ^ - bitwise xor \n",
    "# ~ - bitwise not \n",
    "# << - bitwise left shift \n",
    "# >> - bitwise right shift "
   ]
  },
  {
   "cell_type": "code",
   "execution_count": 13,
   "id": "d0cf4a20",
   "metadata": {},
   "outputs": [
    {
     "data": {
      "text/plain": [
       "15"
      ]
     },
     "execution_count": 13,
     "metadata": {},
     "output_type": "execute_result"
    }
   ],
   "source": [
    "# Assignment operators = += -= *= /= //= **= %= |= &= ^= >>= <<=\n",
    "x = 8 \n",
    "x += 7\n",
    "x"
   ]
  },
  {
   "cell_type": "code",
   "execution_count": 14,
   "id": "f7827fd6",
   "metadata": {},
   "outputs": [
    {
     "data": {
      "text/plain": [
       "8"
      ]
     },
     "execution_count": 14,
     "metadata": {},
     "output_type": "execute_result"
    }
   ],
   "source": [
    "x -= 7\n",
    "x"
   ]
  },
  {
   "cell_type": "code",
   "execution_count": 15,
   "id": "216b81b5",
   "metadata": {},
   "outputs": [
    {
     "data": {
      "text/plain": [
       "1"
      ]
     },
     "execution_count": 15,
     "metadata": {},
     "output_type": "execute_result"
    }
   ],
   "source": [
    "x = 8\n",
    "x -= 7\n",
    "x"
   ]
  },
  {
   "cell_type": "code",
   "execution_count": 16,
   "id": "75fdc5ca",
   "metadata": {},
   "outputs": [
    {
     "data": {
      "text/plain": [
       "90"
      ]
     },
     "execution_count": 16,
     "metadata": {},
     "output_type": "execute_result"
    }
   ],
   "source": [
    "y = 9\n",
    "y *= 10\n",
    "y"
   ]
  },
  {
   "cell_type": "code",
   "execution_count": 17,
   "id": "f62f42f7",
   "metadata": {},
   "outputs": [
    {
     "data": {
      "text/plain": [
       "1.6"
      ]
     },
     "execution_count": 17,
     "metadata": {},
     "output_type": "execute_result"
    }
   ],
   "source": [
    "j = 8\n",
    "j /= 5\n",
    "j"
   ]
  },
  {
   "cell_type": "markdown",
   "id": "b16ee080",
   "metadata": {},
   "source": [
    "# NON PRIMITIVE DATA TYPES( DATA STructure)\n",
    "\n",
    "* It is also known as data structure \n",
    "\n",
    "* In Data structure primitive and non primitive data types can both be stored in a sequence or structure"
   ]
  },
  {
   "cell_type": "markdown",
   "id": "f6a13750",
   "metadata": {},
   "source": [
    "# *LIST*\n",
    "* Lists are used to store multiple items in a single variable. Lists are one of 4 built-in data types in Python used to store collections of data, the other 3 are Tuple, Set, and Dictionary, all with different qualities and usage. Lists are created using square brackets."
   ]
  },
  {
   "cell_type": "code",
   "execution_count": 1,
   "id": "3daf229a",
   "metadata": {},
   "outputs": [
    {
     "data": {
      "text/plain": [
       "(1, 'hello')"
      ]
     },
     "execution_count": 1,
     "metadata": {},
     "output_type": "execute_result"
    }
   ],
   "source": [
    "x = [\"str\",\"hello\",1,7,67,True,[1,2,3,[6,7]]]\n",
    "x[6][0],x[1]"
   ]
  },
  {
   "cell_type": "code",
   "execution_count": 2,
   "id": "49e87849",
   "metadata": {},
   "outputs": [
    {
     "name": "stdout",
     "output_type": "stream",
     "text": [
      "['5867', '857', '937']\n",
      "['000', '857', '666']\n"
     ]
    }
   ],
   "source": [
    "x = ['5867','857','937']\n",
    "print(x)\n",
    "\n",
    "x[0] = '000'\n",
    "x[-1] = '666'\n",
    "print(x)"
   ]
  },
  {
   "cell_type": "code",
   "execution_count": 3,
   "id": "9774c915",
   "metadata": {},
   "outputs": [
    {
     "name": "stdout",
     "output_type": "stream",
     "text": [
      "using.append ,method = [1, 2, [1, 4, '3214']]\n",
      "using ,extend method= [1, 2, 3, 't', 'r', 'u', 'e']\n",
      "[1, 2, 3, 't', 'r', 'u', 'e', 'hello']\n"
     ]
    }
   ],
   "source": [
    "# list methods \n",
    "\n",
    "# list.append(item) - add a single item at the end of the list .\n",
    "\n",
    "x = [1,2]\n",
    "x.append([1,4,'3214'])# only one argument\n",
    "print('using.append ,method =',x)\n",
    "\n",
    "# .extend(iterable)\n",
    "# iterable - strings,lists,tuples ,set , dictionary\n",
    "\n",
    "lst=[1,2,3]\n",
    "lst.extend('true')# only one argument\n",
    "print('using ,extend method=',lst)\n",
    "lst.extend(['hello'])\n",
    "print(lst)\n",
    "\n",
    "\n",
    "# .remove()\n",
    "\n",
    "\n",
    "# .count()"
   ]
  },
  {
   "cell_type": "code",
   "execution_count": 4,
   "id": "ca3a72ea",
   "metadata": {},
   "outputs": [
    {
     "name": "stdout",
     "output_type": "stream",
     "text": [
      "hello\n"
     ]
    }
   ],
   "source": [
    "x = [\"gaurav\",1,2,2,3,5,6,[1,2,3,4,5,6,[\"hello\",9,3,4]]]\n",
    "a = x[7][6][0]\n",
    "print(a)\n"
   ]
  },
  {
   "cell_type": "code",
   "execution_count": 5,
   "id": "5cc612d1",
   "metadata": {},
   "outputs": [
    {
     "name": "stdout",
     "output_type": "stream",
     "text": [
      "['gaurav', 1, 2, 2, 3, 5, 6, [1, 2, 3, 4, 5, 6, [9, 3, 4]]]\n"
     ]
    }
   ],
   "source": [
    "x = [\"gaurav\",1,2,2,3,5,6,[1,2,3,4,5,6,[\"hello\",9,3,4]]]  # answer \n",
    "del x[7][6][0]\n",
    "print(x)\n"
   ]
  },
  {
   "cell_type": "code",
   "execution_count": 6,
   "id": "c1f18ec9",
   "metadata": {},
   "outputs": [
    {
     "name": "stdout",
     "output_type": "stream",
     "text": [
      "[1, 3]\n"
     ]
    }
   ],
   "source": [
    "# .remove\n",
    "lst = [1,2,3]\n",
    "lst.remove(2)\n",
    "print(lst)"
   ]
  },
  {
   "cell_type": "code",
   "execution_count": 7,
   "id": "30b539cb",
   "metadata": {},
   "outputs": [
    {
     "data": {
      "text/plain": [
       "4"
      ]
     },
     "execution_count": 7,
     "metadata": {},
     "output_type": "execute_result"
    }
   ],
   "source": [
    "# .count\n",
    "s = [1,1,2,3,3,3,5,5,5,5]\n",
    "s.count(5)"
   ]
  },
  {
   "cell_type": "code",
   "execution_count": 8,
   "id": "2bea760e",
   "metadata": {},
   "outputs": [
    {
     "name": "stdout",
     "output_type": "stream",
     "text": [
      "[1, 1, 2, 3, 3, 3, 5, 5, 5, 5]\n"
     ]
    }
   ],
   "source": [
    "# . sort \n",
    "s = [1,1,2,3,3,3,5,5,5,5]\n",
    "s.sort()\n",
    "print(s)  # it will give the output in the asending order"
   ]
  },
  {
   "cell_type": "code",
   "execution_count": 9,
   "id": "ed904960",
   "metadata": {},
   "outputs": [
    {
     "data": {
      "text/plain": [
       "[5, 5, 5, 5, 3, 3, 3, 2, 1, 1]"
      ]
     },
     "execution_count": 9,
     "metadata": {},
     "output_type": "execute_result"
    }
   ],
   "source": [
    "s.sort(reverse=True)\n",
    "s"
   ]
  },
  {
   "cell_type": "code",
   "execution_count": 10,
   "id": "71591738",
   "metadata": {},
   "outputs": [
    {
     "data": {
      "text/plain": [
       "[1, 1, 2, 3, 3, 3, 5, 5, 5, 5]"
      ]
     },
     "execution_count": 10,
     "metadata": {},
     "output_type": "execute_result"
    }
   ],
   "source": [
    "s.sort(reverse=False)\n",
    "s"
   ]
  },
  {
   "cell_type": "code",
   "execution_count": 11,
   "id": "6b51b2fb",
   "metadata": {},
   "outputs": [
    {
     "data": {
      "text/plain": [
       "[1, 1, 2, 3, 3, 3, 5, 5, 5, 5.7]"
      ]
     },
     "execution_count": 11,
     "metadata": {},
     "output_type": "execute_result"
    }
   ],
   "source": [
    "s = [1,1,2,3,3,3,5,5.7,5,5]\n",
    "s.sort()\n",
    "s"
   ]
  },
  {
   "cell_type": "code",
   "execution_count": 12,
   "id": "309dc4ad",
   "metadata": {},
   "outputs": [
    {
     "data": {
      "text/plain": [
       "[3.6, 123, 'def', 'abc']"
      ]
     },
     "execution_count": 12,
     "metadata": {},
     "output_type": "execute_result"
    }
   ],
   "source": [
    "# .reverse()\n",
    "x = [\"abc\",\"def\",123,3.6]\n",
    "x.reverse()\n",
    "x"
   ]
  },
  {
   "cell_type": "markdown",
   "id": "0d5753d5",
   "metadata": {},
   "source": [
    "# *TUPLES*  \n",
    "* Python Tuple is a collection of objects separated by commas. In some ways, a tuple is similar to a list in terms of indexing, nested objects, and repetition but a tuple is immutable, unlike lists which are mutable."
   ]
  },
  {
   "cell_type": "code",
   "execution_count": 13,
   "id": "64a4996a",
   "metadata": {},
   "outputs": [
    {
     "data": {
      "text/plain": [
       "(1, 2, True, 'str')"
      ]
     },
     "execution_count": 13,
     "metadata": {},
     "output_type": "execute_result"
    }
   ],
   "source": [
    "x = (1,2,True,\"str\")\n",
    "x"
   ]
  },
  {
   "cell_type": "code",
   "execution_count": 14,
   "id": "dc6bb17f",
   "metadata": {},
   "outputs": [
    {
     "data": {
      "text/plain": [
       "tuple"
      ]
     },
     "execution_count": 14,
     "metadata": {},
     "output_type": "execute_result"
    }
   ],
   "source": [
    "x = (True,\"str\")\n",
    "type(x)"
   ]
  },
  {
   "cell_type": "code",
   "execution_count": 15,
   "id": "0cee8044",
   "metadata": {},
   "outputs": [
    {
     "data": {
      "text/plain": [
       "tuple"
      ]
     },
     "execution_count": 15,
     "metadata": {},
     "output_type": "execute_result"
    }
   ],
   "source": [
    "x = (\"str\",)\n",
    "type(x)"
   ]
  },
  {
   "cell_type": "code",
   "execution_count": 16,
   "id": "928342ca",
   "metadata": {},
   "outputs": [
    {
     "data": {
      "text/plain": [
       "(1, 2)"
      ]
     },
     "execution_count": 16,
     "metadata": {},
     "output_type": "execute_result"
    }
   ],
   "source": [
    "y = 1,2\n",
    "y       # any data type which is written with comma or seprated with comma is tuple."
   ]
  },
  {
   "cell_type": "code",
   "execution_count": 17,
   "id": "5b02b0da",
   "metadata": {},
   "outputs": [
    {
     "data": {
      "text/plain": [
       "3"
      ]
     },
     "execution_count": 17,
     "metadata": {},
     "output_type": "execute_result"
    }
   ],
   "source": [
    "# .count() \n",
    "tup1 = (3,4,5,5,7,8,5,6,7)\n",
    "tup1.count(5)\n"
   ]
  },
  {
   "cell_type": "code",
   "execution_count": 18,
   "id": "c25a6b2d",
   "metadata": {},
   "outputs": [
    {
     "data": {
      "text/plain": [
       "2"
      ]
     },
     "execution_count": 18,
     "metadata": {},
     "output_type": "execute_result"
    }
   ],
   "source": [
    "# .index()\n",
    "tup1.index(5)"
   ]
  },
  {
   "cell_type": "code",
   "execution_count": 19,
   "id": "323f84bd",
   "metadata": {},
   "outputs": [
    {
     "data": {
      "text/plain": [
       "2758227756032"
      ]
     },
     "execution_count": 19,
     "metadata": {},
     "output_type": "execute_result"
    }
   ],
   "source": [
    "x = [12]\n",
    "id(x)"
   ]
  },
  {
   "cell_type": "code",
   "execution_count": 20,
   "id": "e2f89b8a",
   "metadata": {},
   "outputs": [
    {
     "data": {
      "text/plain": [
       "2758227707520"
      ]
     },
     "execution_count": 20,
     "metadata": {},
     "output_type": "execute_result"
    }
   ],
   "source": [
    "y = [12]\n",
    "id(y)"
   ]
  },
  {
   "cell_type": "markdown",
   "id": "8fb367fb",
   "metadata": {},
   "source": [
    "# OBJECTS\n",
    "* All data in python program is represented by objects.\n",
    "* Every object has an identity, a type or a value.\n",
    "* An objects's type determines the operations that the object supports and also defines the possible \n",
    "  values for objects of that type.\n",
    "* The value of some objects can change. Object whose value can change without changing the identity \n",
    "  are said to be muatable, objects whose value is unchangeable once they are created are called \n",
    "  immutable."
   ]
  },
  {
   "cell_type": "markdown",
   "id": "f3f6be10",
   "metadata": {},
   "source": [
    "# *IMMUTABLE OBJECTS*\n",
    "* An immutable object is a data structure that cannot be changed once it has been created. This means that all of the object’s fields are set when the object is first created.\n",
    "\n",
    "# *MUTABLE OBJECTS* \n",
    "* Objects are mutable if they can be changed after they have been created. This means that all of the object’s fields can change over time as needed."
   ]
  },
  {
   "cell_type": "markdown",
   "id": "b91bf7de",
   "metadata": {},
   "source": [
    "*However, its state can be changed if it is a mutable object. To summarise the difference, mutable objects can change their state or contents and immutable objects can’t change their state or content.*"
   ]
  },
  {
   "cell_type": "markdown",
   "id": "00e044c1",
   "metadata": {},
   "source": [
    "A variable is not an container it just points or refers to the object we created or the value we give\n",
    "to the object."
   ]
  },
  {
   "cell_type": "markdown",
   "id": "f700d082",
   "metadata": {},
   "source": [
    "An objects's type determines(tay krta h) the operations that the object supports and also defines the possible values for objects of that type.\n",
    "--- koi bhi object ka type ye tay krta h ki vo kis operation ko support krta h ya krega or or voii object ka type ye bhi define krta h ki usss object ke data type ke liye kya possible values ho sakti h . jese sare datatypes alag alag operations or operators ko determine or support krta h ."
   ]
  },
  {
   "cell_type": "code",
   "execution_count": 21,
   "id": "9c2f865b",
   "metadata": {},
   "outputs": [
    {
     "name": "stdout",
     "output_type": "stream",
     "text": [
      "2758227515392\n",
      "2758227721664\n"
     ]
    }
   ],
   "source": [
    "y = [12,34]\n",
    "print(id(y))\n",
    "y = [89,56]        # the previous value of 'y' is losted or garbaged.\n",
    "print(id(y))"
   ]
  },
  {
   "cell_type": "code",
   "execution_count": 22,
   "id": "a846e15c",
   "metadata": {},
   "outputs": [
    {
     "name": "stdout",
     "output_type": "stream",
     "text": [
      "2758143611184\n",
      "2758227706864\n"
     ]
    }
   ],
   "source": [
    "x = \"data\"\n",
    "print(id(x))\n",
    "x = \"science\"           # x is pointing towards a location \n",
    "print(id(x))          # A variable is not an container a variable just points towards the given object."
   ]
  },
  {
   "cell_type": "code",
   "execution_count": 23,
   "id": "d84d6b88",
   "metadata": {},
   "outputs": [
    {
     "name": "stdout",
     "output_type": "stream",
     "text": [
      "[8, 7, 6, 5, 4]\n"
     ]
    }
   ],
   "source": [
    "x = [1,2,3,4,5,6,7,8]\n",
    "y = x[3:]\n",
    "y.sort()\n",
    "y.reverse()\n",
    "print(y)"
   ]
  },
  {
   "cell_type": "code",
   "execution_count": 24,
   "id": "010623d5",
   "metadata": {},
   "outputs": [
    {
     "name": "stdout",
     "output_type": "stream",
     "text": [
      "[4, 5, 6, 7, 8]\n"
     ]
    }
   ],
   "source": [
    "x = [1,2,3,4,5,6,7,8]\n",
    "y = x[3:]\n",
    "y.sort()\n",
    "print(y)"
   ]
  },
  {
   "cell_type": "code",
   "execution_count": 25,
   "id": "2edc7fa2",
   "metadata": {},
   "outputs": [
    {
     "name": "stdout",
     "output_type": "stream",
     "text": [
      "[8, 7, 6, 5, 4]\n"
     ]
    }
   ],
   "source": [
    "x = [1,2,3,4,5,6,7,8]\n",
    "y = x[3:]\n",
    "y.reverse()\n",
    "print(y)"
   ]
  },
  {
   "cell_type": "code",
   "execution_count": 26,
   "id": "be7beb18",
   "metadata": {},
   "outputs": [
    {
     "name": "stdout",
     "output_type": "stream",
     "text": [
      "2758227714496\n",
      "[12, 'abc', 67, 89, 0, 65, 5, 'hii  everyone']\n",
      "2758227714496\n"
     ]
    }
   ],
   "source": [
    "# mutable ---the id or location or address\n",
    "list = [12,\"abc\",67,89,000,65,5]\n",
    "print(id(list))\n",
    "list.append(\"hii  everyone\")\n",
    "print(list)\n",
    "print(id(list))"
   ]
  },
  {
   "cell_type": "code",
   "execution_count": 27,
   "id": "e115f38d",
   "metadata": {},
   "outputs": [
    {
     "name": "stdout",
     "output_type": "stream",
     "text": [
      "2758226978304\n",
      "[12, 'abc', 67, 89, 0, 65, 5, 'hii  everyone']\n",
      "None\n",
      "2758226978304\n"
     ]
    }
   ],
   "source": [
    "list = [12,\"abc\",67,89,000,65,5]\n",
    "print(id(list))\n",
    "z = list.append(\"hii  everyone\")\n",
    "print(list)\n",
    "print(z)              # why this none type is coming in the output \n",
    "print(id(list))"
   ]
  },
  {
   "cell_type": "markdown",
   "id": "ecab4011",
   "metadata": {},
   "source": [
    "# SETS \n",
    "\n",
    "1. *UNORDERED* : The items in the sets are unordered ,i.e, it will not maintain the order in which the items are inserted.\n",
    "2. *UNINDEXED* : Set items are unindexed.\n",
    "3. *UNIQUE* : There cannot be two items with the same value in the set so we cannot repeat it .\n",
    "4. *SET ITEMS MUST BE IMMUTABLE.* : We cannot change the set items.\n",
    "5. *SETS ARE MUTABLE*\n",
    "6. *We use curly brackets {}*"
   ]
  },
  {
   "cell_type": "code",
   "execution_count": 28,
   "id": "6f11a171",
   "metadata": {},
   "outputs": [
    {
     "name": "stdout",
     "output_type": "stream",
     "text": [
      "{'string', 1, 2, 45}\n",
      "{1, 2, 't', 'string', 45, 's', 'r'}\n",
      "{1, 2, 't', 'string', 's', 'r'}\n"
     ]
    }
   ],
   "source": [
    "# set methods \n",
    "\n",
    "set = {1,\"string\",2}\n",
    "\n",
    "# .add(item) - this is same as .append() in lists \n",
    "set.add(45)\n",
    "print(set)\n",
    "# .update(iterable) - this is same as .extend () in lists\n",
    "set.update(\"str\")\n",
    "print(set)\n",
    "# .remove()\n",
    "set.remove(45)\n",
    "print(set)\n"
   ]
  },
  {
   "cell_type": "code",
   "execution_count": 3,
   "id": "ee37638d",
   "metadata": {},
   "outputs": [
    {
     "ename": "TypeError",
     "evalue": "unhashable type: 'set'",
     "output_type": "error",
     "traceback": [
      "\u001b[1;31m---------------------------------------------------------------------------\u001b[0m",
      "\u001b[1;31mTypeError\u001b[0m                                 Traceback (most recent call last)",
      "Cell \u001b[1;32mIn[3], line 1\u001b[0m\n\u001b[1;32m----> 1\u001b[0m \u001b[38;5;28mset\u001b[39m \u001b[38;5;241m=\u001b[39m {\u001b[38;5;241m1\u001b[39m,\u001b[38;5;124m\"\u001b[39m\u001b[38;5;124mabc\u001b[39m\u001b[38;5;124m\"\u001b[39m,{\u001b[38;5;241m1\u001b[39m, \u001b[38;5;124m\"\u001b[39m\u001b[38;5;124mstring\u001b[39m\u001b[38;5;124m\"\u001b[39m,\u001b[38;5;241m2\u001b[39m}}\n\u001b[0;32m      2\u001b[0m \u001b[38;5;28mprint\u001b[39m(\u001b[38;5;28mset\u001b[39m)\n",
      "\u001b[1;31mTypeError\u001b[0m: unhashable type: 'set'"
     ]
    }
   ],
   "source": [
    "set = {1,\"abc\",{1, \"string\",2}}\n",
    "print(set)"
   ]
  },
  {
   "cell_type": "code",
   "execution_count": 4,
   "id": "268043a5",
   "metadata": {},
   "outputs": [
    {
     "ename": "TypeError",
     "evalue": "unhashable type: 'list'",
     "output_type": "error",
     "traceback": [
      "\u001b[1;31m---------------------------------------------------------------------------\u001b[0m",
      "\u001b[1;31mTypeError\u001b[0m                                 Traceback (most recent call last)",
      "Cell \u001b[1;32mIn[4], line 1\u001b[0m\n\u001b[1;32m----> 1\u001b[0m \u001b[38;5;28mset\u001b[39m \u001b[38;5;241m=\u001b[39m {\u001b[38;5;241m1\u001b[39m,\u001b[38;5;124m\"\u001b[39m\u001b[38;5;124mabc\u001b[39m\u001b[38;5;124m\"\u001b[39m,[\u001b[38;5;241m2\u001b[39m,\u001b[38;5;241m4\u001b[39m,\u001b[38;5;241m5\u001b[39m]}\n\u001b[0;32m      2\u001b[0m \u001b[38;5;28mprint\u001b[39m(\u001b[38;5;28mset\u001b[39m)\n",
      "\u001b[1;31mTypeError\u001b[0m: unhashable type: 'list'"
     ]
    }
   ],
   "source": [
    "set = {1,\"abc\",[2,4,5]}\n",
    "print(set)"
   ]
  },
  {
   "cell_type": "code",
   "execution_count": 5,
   "id": "3084a4b8",
   "metadata": {},
   "outputs": [
    {
     "name": "stdout",
     "output_type": "stream",
     "text": [
      "{1, 2, 3, 4}\n"
     ]
    }
   ],
   "source": [
    "a = {1,2,3,4,}\n",
    "print(a)"
   ]
  },
  {
   "cell_type": "code",
   "execution_count": 6,
   "id": "ce95d685",
   "metadata": {},
   "outputs": [
    {
     "name": "stdout",
     "output_type": "stream",
     "text": [
      "{1, 2, 3, 4}\n"
     ]
    }
   ],
   "source": [
    "print(a)"
   ]
  },
  {
   "cell_type": "code",
   "execution_count": 9,
   "id": "9498a981",
   "metadata": {},
   "outputs": [
    {
     "name": "stdout",
     "output_type": "stream",
     "text": [
      "{'rishi', 3, 6, 7, 'abc'}\n"
     ]
    }
   ],
   "source": [
    "t = {3,6,'rishi',7,3,'abc'}\n",
    "print(t)"
   ]
  },
  {
   "cell_type": "code",
   "execution_count": 8,
   "id": "b06eb40d",
   "metadata": {},
   "outputs": [
    {
     "name": "stdout",
     "output_type": "stream",
     "text": [
      "{'rishi', 3, 6, 7, 'abc'}\n"
     ]
    }
   ],
   "source": [
    "print(t)"
   ]
  },
  {
   "cell_type": "code",
   "execution_count": 10,
   "id": "d6930a90",
   "metadata": {},
   "outputs": [
    {
     "name": "stdout",
     "output_type": "stream",
     "text": [
      "{8, ' dfg', 6, 7}\n"
     ]
    }
   ],
   "source": [
    "y = {7, \" dfg\",8,7,6}\n",
    "print(y)"
   ]
  },
  {
   "cell_type": "code",
   "execution_count": 20,
   "id": "30446489",
   "metadata": {},
   "outputs": [
    {
     "name": "stdout",
     "output_type": "stream",
     "text": [
      "{1, 'abc', 6.7}\n",
      "2283191482880\n"
     ]
    }
   ],
   "source": [
    "u = {1,\"abc\",6.7}\n",
    "print(u)\n",
    "print(id(u))"
   ]
  },
  {
   "cell_type": "code",
   "execution_count": 18,
   "id": "651d5114",
   "metadata": {},
   "outputs": [
    {
     "name": "stdout",
     "output_type": "stream",
     "text": [
      "{1, 2, 3, 'abc'}\n",
      "2283191484000\n"
     ]
    }
   ],
   "source": [
    "u = {1,\"abc\",2}\n",
    "u.add(3)\n",
    "print(u)\n",
    "print(id(u))"
   ]
  },
  {
   "cell_type": "code",
   "execution_count": 21,
   "id": "3d4a1eda",
   "metadata": {},
   "outputs": [
    {
     "name": "stdout",
     "output_type": "stream",
     "text": [
      "{1, 'abc', 6.7}\n",
      "2283191482880\n"
     ]
    }
   ],
   "source": [
    "p = {2,4,'rishi',9}\n",
    "print(u)\n",
    "print(id(u))"
   ]
  },
  {
   "cell_type": "code",
   "execution_count": 22,
   "id": "512cbd44",
   "metadata": {},
   "outputs": [
    {
     "name": "stdout",
     "output_type": "stream",
     "text": [
      "2283191484000\n"
     ]
    }
   ],
   "source": [
    "p.add(6)\n",
    "print(id(p))"
   ]
  },
  {
   "cell_type": "code",
   "execution_count": 23,
   "id": "1f2e7b6b",
   "metadata": {},
   "outputs": [
    {
     "name": "stdout",
     "output_type": "stream",
     "text": [
      "2283220235584\n"
     ]
    }
   ],
   "source": [
    "x = [10]\n",
    "print(id(x))"
   ]
  },
  {
   "cell_type": "code",
   "execution_count": 26,
   "id": "5defe3de",
   "metadata": {},
   "outputs": [
    {
     "name": "stdout",
     "output_type": "stream",
     "text": [
      "[10, 67, 67, 67]\n",
      "2283220235584\n"
     ]
    }
   ],
   "source": [
    "x.append(67)\n",
    "print(x)\n",
    "print(id(x))"
   ]
  },
  {
   "cell_type": "code",
   "execution_count": 27,
   "id": "71713a44",
   "metadata": {},
   "outputs": [
    {
     "name": "stdout",
     "output_type": "stream",
     "text": [
      "2283191482208\n"
     ]
    }
   ],
   "source": [
    "f = {3,5,7}\n",
    "print(id(f))"
   ]
  },
  {
   "cell_type": "code",
   "execution_count": 28,
   "id": "6a3e7fa7",
   "metadata": {},
   "outputs": [
    {
     "name": "stdout",
     "output_type": "stream",
     "text": [
      "{3, 4, 5, 7}\n",
      "2283191482208\n"
     ]
    }
   ],
   "source": [
    "f.add(4)\n",
    "print(f)\n",
    "print(id(f))"
   ]
  },
  {
   "cell_type": "code",
   "execution_count": 29,
   "id": "276399c0",
   "metadata": {},
   "outputs": [
    {
     "name": "stdout",
     "output_type": "stream",
     "text": [
      "{3, 4, 5, 7}\n"
     ]
    }
   ],
   "source": [
    "print(f)"
   ]
  },
  {
   "cell_type": "code",
   "execution_count": 30,
   "id": "e4eb01d4",
   "metadata": {},
   "outputs": [
    {
     "name": "stdout",
     "output_type": "stream",
     "text": [
      "2283220468000\n"
     ]
    }
   ],
   "source": [
    "b = {\"abc\",5,6,7,8}\n",
    "print(id(b))"
   ]
  },
  {
   "cell_type": "code",
   "execution_count": 33,
   "id": "c7904773",
   "metadata": {},
   "outputs": [
    {
     "name": "stdout",
     "output_type": "stream",
     "text": [
      "2283220468000\n"
     ]
    }
   ],
   "source": [
    "b.update(\"ghj\")\n",
    "print(id(b))\n"
   ]
  },
  {
   "cell_type": "code",
   "execution_count": 35,
   "id": "cbf5932c",
   "metadata": {},
   "outputs": [
    {
     "name": "stdout",
     "output_type": "stream",
     "text": [
      "Union method has been used  {1, 2, 3, 4, 5}\n",
      "Update method has been used {1, 2, 3, 4, 5}\n",
      "{1, 2, 3}\n",
      "{'hello'}\n",
      "{2, 3, 'Hello', 'hello'}\n"
     ]
    }
   ],
   "source": [
    "# Union\n",
    "a = {1,2,3}\n",
    "b = {1,2,3,4,5}\n",
    "print(\"Union method has been used \",a.union(b))\n",
    "a.update(b)\n",
    "print(\"Update method has been used\",a)\n",
    "\n",
    "# Intersection\n",
    "a = {1,2,3}\n",
    "b = {1,2,3,4}\n",
    "a.intersection(b) # this will not apply the changes to a\n",
    "a.intersection_update(b) # this will apply changes to a \n",
    "print(a)\n",
    "\n",
    "# Difference\n",
    "x = {\"str\",\"hello\",True,1}\n",
    "y = {1,2,3,\"Hello\",\"str\"}\n",
    "x.difference(y)\n",
    "x.difference_update(y)\n",
    "print(x)\n",
    "\n",
    "# Symmetric Difference\n",
    "x = {\"str\",\"hello\",True,1}\n",
    "y = {1,2,3,\"Hello\",\"str\"}\n",
    "x.symmetric_difference(y)\n",
    "x.symmetric_difference_update(y)\n",
    "print(x)"
   ]
  },
  {
   "cell_type": "code",
   "execution_count": 37,
   "id": "2690091d",
   "metadata": {},
   "outputs": [
    {
     "name": "stdout",
     "output_type": "stream",
     "text": [
      "{1, 2, 3}\n",
      "2283220472032\n"
     ]
    }
   ],
   "source": [
    "a = {1,2,3}\n",
    "b = {1,2,3,4}\n",
    "x = a.intersection(b) # this will not apply the changes to a\n",
    "y = a.intersection_update(b) # this will apply changes to a \n",
    "print(a)\n",
    "print(id(a))"
   ]
  },
  {
   "cell_type": "code",
   "execution_count": 38,
   "id": "3fea560e",
   "metadata": {},
   "outputs": [
    {
     "name": "stdout",
     "output_type": "stream",
     "text": [
      "2283220471808\n"
     ]
    }
   ],
   "source": [
    "print(id(x))"
   ]
  },
  {
   "cell_type": "code",
   "execution_count": 39,
   "id": "729345f7",
   "metadata": {},
   "outputs": [
    {
     "name": "stdout",
     "output_type": "stream",
     "text": [
      "140726682545856\n"
     ]
    }
   ],
   "source": [
    "print(id(y))"
   ]
  },
  {
   "cell_type": "code",
   "execution_count": 40,
   "id": "b05e7bb2",
   "metadata": {},
   "outputs": [
    {
     "name": "stdout",
     "output_type": "stream",
     "text": [
      "{1, 2, 3}\n",
      "{1, 2, 3}\n",
      "None\n"
     ]
    }
   ],
   "source": [
    "a = {1,2,3}\n",
    "b = {1,2,3,4}\n",
    "k =  a.intersection(b) # this will not apply the changes to a\n",
    "z = a.intersection_update(b) # this will apply changes to a \n",
    "print(a)\n",
    "print(k)\n",
    "print(z)"
   ]
  },
  {
   "cell_type": "markdown",
   "id": "d33877e8",
   "metadata": {},
   "source": [
    "# *Subset and superset*\n",
    "\n",
    "* Superset must have all the values of subset"
   ]
  },
  {
   "cell_type": "code",
   "execution_count": 46,
   "id": "b34ac789",
   "metadata": {},
   "outputs": [
    {
     "name": "stdout",
     "output_type": "stream",
     "text": [
      "False\n",
      "True\n",
      "True\n"
     ]
    }
   ],
   "source": [
    "p = {1,2,3,4,5}\n",
    "q = {1,2,3}\n",
    "print(p.issubset(q))\n",
    "print(p.issubset(p))\n",
    "print(q.issubset(p))"
   ]
  },
  {
   "cell_type": "code",
   "execution_count": 42,
   "id": "cf3c41b0",
   "metadata": {},
   "outputs": [
    {
     "ename": "AttributeError",
     "evalue": "'set' object has no attribute 'issubject'",
     "output_type": "error",
     "traceback": [
      "\u001b[1;31m---------------------------------------------------------------------------\u001b[0m",
      "\u001b[1;31mAttributeError\u001b[0m                            Traceback (most recent call last)",
      "Cell \u001b[1;32mIn[42], line 3\u001b[0m\n\u001b[0;32m      1\u001b[0m p \u001b[38;5;241m=\u001b[39m {\u001b[38;5;241m1\u001b[39m,\u001b[38;5;241m2\u001b[39m,\u001b[38;5;241m3\u001b[39m,\u001b[38;5;241m4\u001b[39m,\u001b[38;5;241m5\u001b[39m}\n\u001b[0;32m      2\u001b[0m q \u001b[38;5;241m=\u001b[39m {\u001b[38;5;241m1\u001b[39m,\u001b[38;5;241m2\u001b[39m,\u001b[38;5;241m3\u001b[39m}\n\u001b[1;32m----> 3\u001b[0m a \u001b[38;5;241m=\u001b[39m (\u001b[43mp\u001b[49m\u001b[38;5;241;43m.\u001b[39;49m\u001b[43missubject\u001b[49m(q))\n\u001b[0;32m      4\u001b[0m b \u001b[38;5;241m=\u001b[39m (q\u001b[38;5;241m.\u001b[39missubject(p))\n\u001b[0;32m      5\u001b[0m \u001b[38;5;28mprint\u001b[39m(a)\n",
      "\u001b[1;31mAttributeError\u001b[0m: 'set' object has no attribute 'issubject'"
     ]
    }
   ],
   "source": [
    "p = {1,2,3,4,5}\n",
    "q = {1,2,3}\n",
    "a = (p.issubject(q))\n",
    "b = (q.issubject(p))\n",
    "print(a)\n",
    "print(b)"
   ]
  },
  {
   "cell_type": "code",
   "execution_count": 44,
   "id": "c7466f2d",
   "metadata": {},
   "outputs": [
    {
     "ename": "AttributeError",
     "evalue": "'set' object has no attribute 'issubject'",
     "output_type": "error",
     "traceback": [
      "\u001b[1;31m---------------------------------------------------------------------------\u001b[0m",
      "\u001b[1;31mAttributeError\u001b[0m                            Traceback (most recent call last)",
      "Cell \u001b[1;32mIn[44], line 3\u001b[0m\n\u001b[0;32m      1\u001b[0m p \u001b[38;5;241m=\u001b[39m {\u001b[38;5;241m1\u001b[39m,\u001b[38;5;241m2\u001b[39m,\u001b[38;5;241m3\u001b[39m,\u001b[38;5;241m4\u001b[39m,\u001b[38;5;241m5\u001b[39m}\n\u001b[0;32m      2\u001b[0m q \u001b[38;5;241m=\u001b[39m {\u001b[38;5;241m1\u001b[39m,\u001b[38;5;241m2\u001b[39m,\u001b[38;5;241m3\u001b[39m}\n\u001b[1;32m----> 3\u001b[0m \u001b[43mp\u001b[49m\u001b[38;5;241;43m.\u001b[39;49m\u001b[43missubject\u001b[49m(q)\n\u001b[0;32m      4\u001b[0m q\u001b[38;5;241m.\u001b[39missubject(p)\n",
      "\u001b[1;31mAttributeError\u001b[0m: 'set' object has no attribute 'issubject'"
     ]
    }
   ],
   "source": [
    "p = {1,2,3,4,5}\n",
    "q = {1,2,3}\n",
    "p.issubject(q)\n",
    "q.issubject(p)"
   ]
  },
  {
   "cell_type": "code",
   "execution_count": 45,
   "id": "0451df6f",
   "metadata": {},
   "outputs": [
    {
     "name": "stdout",
     "output_type": "stream",
     "text": [
      "False\n",
      "True\n"
     ]
    }
   ],
   "source": [
    "p = {1,2,3,4,5}\n",
    "q = {1,2,3}\n",
    "a = (p.issubset(q))\n",
    "b = (q.issubset(p))\n",
    "print(a)\n",
    "print(b)"
   ]
  },
  {
   "cell_type": "markdown",
   "id": "db0f0622",
   "metadata": {},
   "source": [
    "# *Disjoint Sets*"
   ]
  },
  {
   "cell_type": "code",
   "execution_count": 48,
   "id": "b5e2ac85",
   "metadata": {},
   "outputs": [
    {
     "data": {
      "text/plain": [
       "True"
      ]
     },
     "execution_count": 48,
     "metadata": {},
     "output_type": "execute_result"
    }
   ],
   "source": [
    "p = {1,2,3,4,5}\n",
    "q = {6,7,8,9}\n",
    "p.isdisjoint(q)"
   ]
  },
  {
   "cell_type": "markdown",
   "id": "199005cb",
   "metadata": {},
   "source": [
    "# *Functions for sets*"
   ]
  },
  {
   "cell_type": "code",
   "execution_count": 1,
   "id": "366dc08d",
   "metadata": {},
   "outputs": [
    {
     "data": {
      "text/plain": [
       "3"
      ]
     },
     "execution_count": 1,
     "metadata": {},
     "output_type": "execute_result"
    }
   ],
   "source": [
    "# finding lenght of the set --- len()\n",
    "a = {1,2,3}\n",
    "len(a)"
   ]
  },
  {
   "cell_type": "code",
   "execution_count": 2,
   "id": "b6464cf4",
   "metadata": {},
   "outputs": [
    {
     "name": "stdout",
     "output_type": "stream",
     "text": [
      "1\n",
      "78\n"
     ]
    }
   ],
   "source": [
    "# Minimum and maximum values\n",
    "a = {1,2,3,4,5,78}\n",
    "print(min(a))\n",
    "print(max(a))\n"
   ]
  },
  {
   "cell_type": "code",
   "execution_count": 7,
   "id": "f8486d3f",
   "metadata": {},
   "outputs": [
    {
     "data": {
      "text/plain": [
       "'A'"
      ]
     },
     "execution_count": 7,
     "metadata": {},
     "output_type": "execute_result"
    }
   ],
   "source": [
    "min({\"a\",\"A\"})"
   ]
  },
  {
   "cell_type": "code",
   "execution_count": 8,
   "id": "5f31b170",
   "metadata": {},
   "outputs": [
    {
     "data": {
      "text/plain": [
       "'a'"
      ]
     },
     "execution_count": 8,
     "metadata": {},
     "output_type": "execute_result"
    }
   ],
   "source": [
    "max({\"A\",\"a\"})"
   ]
  },
  {
   "cell_type": "code",
   "execution_count": 9,
   "id": "c05b566f",
   "metadata": {},
   "outputs": [
    {
     "data": {
      "text/plain": [
       "'pine'"
      ]
     },
     "execution_count": 9,
     "metadata": {},
     "output_type": "execute_result"
    }
   ],
   "source": [
    "max({\"apple\",\"pine\"})"
   ]
  },
  {
   "cell_type": "code",
   "execution_count": 10,
   "id": "18ccfc7f",
   "metadata": {},
   "outputs": [
    {
     "data": {
      "text/plain": [
       "'a'"
      ]
     },
     "execution_count": 10,
     "metadata": {},
     "output_type": "execute_result"
    }
   ],
   "source": [
    "min({\"a\",\"b\"})"
   ]
  },
  {
   "cell_type": "code",
   "execution_count": 11,
   "id": "3fb28e59",
   "metadata": {},
   "outputs": [
    {
     "data": {
      "text/plain": [
       "'b'"
      ]
     },
     "execution_count": 11,
     "metadata": {},
     "output_type": "execute_result"
    }
   ],
   "source": [
    "max({\"B\",\"b\"})"
   ]
  },
  {
   "cell_type": "code",
   "execution_count": 1,
   "id": "bf284f63",
   "metadata": {},
   "outputs": [
    {
     "name": "stdout",
     "output_type": "stream",
     "text": [
      "1001\n"
     ]
    }
   ],
   "source": [
    "# Adding all the vakues inside a set \n",
    "x = {True,233,556,67,85,56,3}\n",
    "print(sum(x))"
   ]
  },
  {
   "cell_type": "code",
   "execution_count": 6,
   "id": "cd87b9ac",
   "metadata": {},
   "outputs": [
    {
     "name": "stdout",
     "output_type": "stream",
     "text": [
      "{True, 3, 85, 56, 233, 556}\n"
     ]
    }
   ],
   "source": [
    "x = {True,233,556,67,85,56,3}\n",
    "x.discard(67)\n",
    "print(x)"
   ]
  },
  {
   "cell_type": "markdown",
   "id": "f4d8c5e6",
   "metadata": {},
   "source": [
    "## *Dictionaries*\n",
    "\n",
    "* Dictionaries are ordered collections of unique items stored in (Key- Value)(immutable-mutable)       pairs.\n",
    "\n",
    "1. **Ordered** - Dictionaries are ordered , which means that the items have a defiened order, and that \n",
    "   order will not change.\n",
    "2. **Unique** - The keys in Dictionaries should be unique. If we store any value with a Key that already\n",
    "    exists,then the most recent value will replace the old one.\n",
    "3. *Keys* must be of immutable data type.\n",
    "4. *Mutable*"
   ]
  },
  {
   "cell_type": "code",
   "execution_count": null,
   "id": "ab5b96d1",
   "metadata": {},
   "outputs": [],
   "source": [
    "# the key value pair is the one item in the dict.\n",
    "# key - word ; value - meaning "
   ]
  },
  {
   "cell_type": "code",
   "execution_count": 14,
   "id": "947abb81",
   "metadata": {},
   "outputs": [
    {
     "name": "stdout",
     "output_type": "stream",
     "text": [
      "{'apple': 12, 'banana': 45}\n"
     ]
    }
   ],
   "source": [
    "x = {\"apple\":12,\"banana\":45}\n",
    "print(x)"
   ]
  },
  {
   "cell_type": "code",
   "execution_count": 15,
   "id": "455b9297",
   "metadata": {},
   "outputs": [
    {
     "name": "stdout",
     "output_type": "stream",
     "text": [
      "{'apple': 45, 56: True, 'tuple': (1, 2, 3)}\n"
     ]
    }
   ],
   "source": [
    "x = {\"apple\":45,56:True,\"tuple\":(1,2,3)}\n",
    "print(x)"
   ]
  },
  {
   "cell_type": "code",
   "execution_count": 16,
   "id": "2b1e45e3",
   "metadata": {},
   "outputs": [
    {
     "name": "stdout",
     "output_type": "stream",
     "text": [
      "{'apple': [1, 2, 3, 'abc'], 1.4: 'moon'}\n"
     ]
    }
   ],
   "source": [
    "x = {\"apple\":[1,2,3,\"abc\"],1.4:\"moon\"}\n",
    "print(x)"
   ]
  },
  {
   "cell_type": "code",
   "execution_count": 18,
   "id": "466cc7f2",
   "metadata": {},
   "outputs": [
    {
     "data": {
      "text/plain": [
       "{'moon': {456}, 5.6: 6.5}"
      ]
     },
     "execution_count": 18,
     "metadata": {},
     "output_type": "execute_result"
    }
   ],
   "source": [
    "x = {\"moon\":{456},5.6:6.5}\n",
    "x"
   ]
  },
  {
   "cell_type": "code",
   "execution_count": 19,
   "id": "c6af792e",
   "metadata": {},
   "outputs": [
    {
     "data": {
      "text/plain": [
       "{'moon': {67}, 5.6: 6.5}"
      ]
     },
     "execution_count": 19,
     "metadata": {},
     "output_type": "execute_result"
    }
   ],
   "source": [
    "x = {\"moon\":{456},5.6:6.5,\"moon\":{67}}\n",
    "x"
   ]
  },
  {
   "cell_type": "code",
   "execution_count": 20,
   "id": "86e4884d",
   "metadata": {},
   "outputs": [
    {
     "data": {
      "text/plain": [
       "{'moon': 3, 5.6: 6.5}"
      ]
     },
     "execution_count": 20,
     "metadata": {},
     "output_type": "execute_result"
    }
   ],
   "source": [
    "x = {\"moon\":{456},5.6:6.5,\"moon\":{67},\"moon\":3}\n",
    "x"
   ]
  },
  {
   "cell_type": "code",
   "execution_count": 1,
   "id": "414c530b",
   "metadata": {},
   "outputs": [
    {
     "data": {
      "text/plain": [
       "{'mango': 56, 'banana': 47}"
      ]
     },
     "execution_count": 1,
     "metadata": {},
     "output_type": "execute_result"
    }
   ],
   "source": [
    "d = {\"mango\":56,\"banana\":47}\n",
    "d"
   ]
  },
  {
   "cell_type": "code",
   "execution_count": 6,
   "id": "6e4235d4",
   "metadata": {},
   "outputs": [
    {
     "data": {
      "text/plain": [
       "{'mango': 68, 'banana': 47}"
      ]
     },
     "execution_count": 6,
     "metadata": {},
     "output_type": "execute_result"
    }
   ],
   "source": [
    "d[\"mango\"]=68\n",
    "d"
   ]
  },
  {
   "cell_type": "code",
   "execution_count": 7,
   "id": "b063c6fe",
   "metadata": {},
   "outputs": [
    {
     "name": "stdout",
     "output_type": "stream",
     "text": [
      "{7373: 'moon', 8787: 'moon'}\n"
     ]
    }
   ],
   "source": [
    "dict = {7373:\"bhumi\",8787:\"moon\",7373:\"bhumi\",7373:\"nitin\",7373:\"moon\"}\n",
    "print(dict)"
   ]
  },
  {
   "cell_type": "code",
   "execution_count": 10,
   "id": "bae90955",
   "metadata": {},
   "outputs": [
    {
     "data": {
      "text/plain": [
       "'moon'"
      ]
     },
     "execution_count": 10,
     "metadata": {},
     "output_type": "execute_result"
    }
   ],
   "source": [
    "dict[8787]"
   ]
  },
  {
   "cell_type": "markdown",
   "id": "55867975",
   "metadata": {},
   "source": [
    "# *Accesing items,keys,or values in a dictionary*"
   ]
  },
  {
   "cell_type": "code",
   "execution_count": 17,
   "id": "29a17c8f",
   "metadata": {},
   "outputs": [
    {
     "name": "stdout",
     "output_type": "stream",
     "text": [
      "{'india': 'new delhi', 'US': 'washington'}\n",
      "<class 'dict'>\n"
     ]
    }
   ],
   "source": [
    "a = {\"india\":\"new delhi\",\"US\":\"washington\"}\n",
    "print(a)\n",
    "print(type(a))"
   ]
  },
  {
   "cell_type": "code",
   "execution_count": 12,
   "id": "3d9a5466",
   "metadata": {},
   "outputs": [
    {
     "data": {
      "text/plain": [
       "'washington'"
      ]
     },
     "execution_count": 12,
     "metadata": {},
     "output_type": "execute_result"
    }
   ],
   "source": [
    "a = {\"india\":\"new delhi\",\"US\":\"washington\"}\n",
    "a[\"US\"]  # in dictionarys we doesn't do indexing we find out values by keys"
   ]
  },
  {
   "cell_type": "code",
   "execution_count": 64,
   "id": "5f1a451d",
   "metadata": {},
   "outputs": [
    {
     "name": "stdout",
     "output_type": "stream",
     "text": [
      "dict_keys(['india'])\n",
      "<class 'dict_keys'>\n",
      "2115638067648\n",
      "dict_values(['new delhi'])\n",
      "<class 'dict_values'>\n",
      "2115638081712\n",
      "dict_items([('india', 'new delhi')])\n",
      "<class 'dict_items'>\n",
      "2115638067648\n"
     ]
    }
   ],
   "source": [
    "# keys\n",
    "print(a.keys())\n",
    "print(type(a.keys()))\n",
    "print(id(a.keys()))\n",
    "\n",
    "# values\n",
    "print(a.values())\n",
    "print(type(a.values()))\n",
    "print(id(a.values()))\n",
    "\n",
    "# items\n",
    "print(a.items())\n",
    "print(type(a.items()))\n",
    "print(id(a.items()))             # convert this data type to another \n",
    "# these only changes to list and tuple"
   ]
  },
  {
   "cell_type": "markdown",
   "id": "865beef0",
   "metadata": {},
   "source": [
    "# *Adding new items to a dictionary*"
   ]
  },
  {
   "cell_type": "code",
   "execution_count": 20,
   "id": "ac8d3da0",
   "metadata": {},
   "outputs": [
    {
     "name": "stdout",
     "output_type": "stream",
     "text": [
      "{'india': 'new delhi', 'US': 'washington'}\n"
     ]
    }
   ],
   "source": [
    "# Key - value assignment\n",
    "print(a)"
   ]
  },
  {
   "cell_type": "code",
   "execution_count": 21,
   "id": "dc3abe4c",
   "metadata": {},
   "outputs": [
    {
     "data": {
      "text/plain": [
       "'new delhi'"
      ]
     },
     "execution_count": 21,
     "metadata": {},
     "output_type": "execute_result"
    }
   ],
   "source": [
    "a[\"india\"]"
   ]
  },
  {
   "cell_type": "code",
   "execution_count": 22,
   "id": "6b280018",
   "metadata": {},
   "outputs": [
    {
     "name": "stdout",
     "output_type": "stream",
     "text": [
      "{'india': 'new delhi', 'US': 'washington', 'rajasthan': 'Jaipur'}\n"
     ]
    }
   ],
   "source": [
    "a[\"rajasthan\"] = \"Jaipur\"\n",
    "print(a)"
   ]
  },
  {
   "cell_type": "code",
   "execution_count": 24,
   "id": "f3dc1d0b",
   "metadata": {},
   "outputs": [
    {
     "name": "stdout",
     "output_type": "stream",
     "text": [
      "{'india': 'new delhi', 'US': 'washington', 'rajasthan': 'Jaipur', 'England': 'London'}\n"
     ]
    }
   ],
   "source": [
    "# .update()\n",
    "a.update({\"England\":\"London\"})\n",
    "print(a)"
   ]
  },
  {
   "cell_type": "code",
   "execution_count": 25,
   "id": "080f6944",
   "metadata": {},
   "outputs": [],
   "source": [
    "# every method will give an output"
   ]
  },
  {
   "cell_type": "markdown",
   "id": "f5fb4a22",
   "metadata": {},
   "source": [
    "# *Removing items from a dictionary*"
   ]
  },
  {
   "cell_type": "code",
   "execution_count": 56,
   "id": "b50fbbdb",
   "metadata": {},
   "outputs": [],
   "source": [
    "# .popitem()- Returns and Removes the last inserted item from the dictionary.\n",
    "a = {'india': 'new delhi', 'US': 'washington', 'rajasthan': 'Jaipur', 'England': 'London'}\n",
    "x= a.popitem()"
   ]
  },
  {
   "cell_type": "code",
   "execution_count": 63,
   "id": "6cf0fbc8",
   "metadata": {},
   "outputs": [
    {
     "ename": "SyntaxError",
     "evalue": "':' expected after dictionary key (2734622646.py, line 1)",
     "output_type": "error",
     "traceback": [
      "\u001b[1;36m  Cell \u001b[1;32mIn[63], line 1\u001b[1;36m\u001b[0m\n\u001b[1;33m    a = {'india': 'new delhi', 'US': 'washington', 'rajasthan': 'Jaipur', {'England': 'London'}}\u001b[0m\n\u001b[1;37m                                                                                              ^\u001b[0m\n\u001b[1;31mSyntaxError\u001b[0m\u001b[1;31m:\u001b[0m ':' expected after dictionary key\n"
     ]
    }
   ],
   "source": [
    "a = {'india': 'new delhi', 'US': 'washington', 'rajasthan': 'Jaipur', {'England': 'London'}}\n",
    "print(a)"
   ]
  },
  {
   "cell_type": "code",
   "execution_count": 57,
   "id": "43d819c5",
   "metadata": {},
   "outputs": [
    {
     "name": "stdout",
     "output_type": "stream",
     "text": [
      "{'india': 'new delhi', 'US': 'washington', 'rajasthan': 'Jaipur'}\n",
      "2115635970112\n",
      "('England', 'London')\n",
      "2115670860352\n"
     ]
    }
   ],
   "source": [
    "print(a)\n",
    "print(id(a))\n",
    "print(x)\n",
    "print(id(x))"
   ]
  },
  {
   "cell_type": "code",
   "execution_count": 58,
   "id": "855895a6",
   "metadata": {},
   "outputs": [
    {
     "data": {
      "text/plain": [
       "'washington'"
      ]
     },
     "execution_count": 58,
     "metadata": {},
     "output_type": "execute_result"
    }
   ],
   "source": [
    "# .pop()- Removes the item with the key and return its value\n",
    "a.pop(\"US\")\n"
   ]
  },
  {
   "cell_type": "code",
   "execution_count": 59,
   "id": "b7aa480d",
   "metadata": {},
   "outputs": [
    {
     "data": {
      "text/plain": [
       "{'india': 'new delhi', 'rajasthan': 'Jaipur'}"
      ]
     },
     "execution_count": 59,
     "metadata": {},
     "output_type": "execute_result"
    }
   ],
   "source": [
    "a"
   ]
  },
  {
   "cell_type": "code",
   "execution_count": 60,
   "id": "438f307c",
   "metadata": {},
   "outputs": [
    {
     "name": "stdout",
     "output_type": "stream",
     "text": [
      "{'india': 'new delhi'}\n"
     ]
    }
   ],
   "source": [
    "del a[\"rajasthan\"]\n",
    "print(a)"
   ]
  },
  {
   "cell_type": "code",
   "execution_count": 65,
   "id": "9f0db544",
   "metadata": {},
   "outputs": [
    {
     "ename": "SyntaxError",
     "evalue": "':' expected after dictionary key (1181388185.py, line 1)",
     "output_type": "error",
     "traceback": [
      "\u001b[1;36m  Cell \u001b[1;32mIn[65], line 1\u001b[1;36m\u001b[0m\n\u001b[1;33m    c = {\"india\":\"delhi\",{\"rajasthan\":\"jaipur\"}}\u001b[0m\n\u001b[1;37m                                              ^\u001b[0m\n\u001b[1;31mSyntaxError\u001b[0m\u001b[1;31m:\u001b[0m ':' expected after dictionary key\n"
     ]
    }
   ],
   "source": [
    "c = {\"india\":\"delhi\",{\"rajasthan\":\"jaipur\"}}\n",
    "print(c)\n",
    "print(id(c))\n",
    "print(type(c))\n",
    "print(type({45}))             # make an dict inside the dict"
   ]
  },
  {
   "cell_type": "markdown",
   "id": "52a6d2b3",
   "metadata": {},
   "source": [
    "# *RANGE*\n",
    "* Range object(or range data type) is an immutable sequence of integers starting from the given start integer to the stop integer.\n",
    "* It was same as string operations.\n",
    "* it will be use as the loop\n"
   ]
  },
  {
   "cell_type": "code",
   "execution_count": 4,
   "id": "33fb0ff1",
   "metadata": {},
   "outputs": [
    {
     "data": {
      "text/plain": [
       "range(1, 11, 2)"
      ]
     },
     "execution_count": 4,
     "metadata": {},
     "output_type": "execute_result"
    }
   ],
   "source": [
    "# range(start,stop,step)\n",
    "x = range(1,11,2)\n",
    "x"
   ]
  },
  {
   "cell_type": "code",
   "execution_count": 2,
   "id": "db2209e2",
   "metadata": {},
   "outputs": [
    {
     "data": {
      "text/plain": [
       "range"
      ]
     },
     "execution_count": 2,
     "metadata": {},
     "output_type": "execute_result"
    }
   ],
   "source": [
    "# let us check te data type of the range object\n",
    "type(range(1,10))"
   ]
  },
  {
   "cell_type": "code",
   "execution_count": 5,
   "id": "69d7310e",
   "metadata": {},
   "outputs": [
    {
     "data": {
      "text/plain": [
       "1"
      ]
     },
     "execution_count": 5,
     "metadata": {},
     "output_type": "execute_result"
    }
   ],
   "source": [
    "# range indexing \n",
    "range_x = range(1,10)\n",
    "range_x[0]"
   ]
  },
  {
   "cell_type": "code",
   "execution_count": 7,
   "id": "e438e22f",
   "metadata": {},
   "outputs": [
    {
     "data": {
      "text/plain": [
       "range(0, 12, 2)"
      ]
     },
     "execution_count": 7,
     "metadata": {},
     "output_type": "execute_result"
    }
   ],
   "source": [
    "y = range(0,12,2)\n",
    "y"
   ]
  },
  {
   "cell_type": "code",
   "execution_count": 9,
   "id": "87d2738b",
   "metadata": {},
   "outputs": [
    {
     "data": {
      "text/plain": [
       "(1, 2, 3, 4, 5, 6, 7, 8, 9)"
      ]
     },
     "execution_count": 9,
     "metadata": {},
     "output_type": "execute_result"
    }
   ],
   "source": [
    "# typecasting\n",
    "tuple(range(1,10))"
   ]
  },
  {
   "cell_type": "code",
   "execution_count": 10,
   "id": "2f2b14c6",
   "metadata": {},
   "outputs": [
    {
     "data": {
      "text/plain": [
       "[0, 1, 2, 3, 4, 5, 6, 7, 8, 9]"
      ]
     },
     "execution_count": 10,
     "metadata": {},
     "output_type": "execute_result"
    }
   ],
   "source": [
    "list(range(10)) #"
   ]
  },
  {
   "cell_type": "code",
   "execution_count": 12,
   "id": "1e17f0b5",
   "metadata": {},
   "outputs": [
    {
     "data": {
      "text/plain": [
       "[0, 2, 4, 6, 8]"
      ]
     },
     "execution_count": 12,
     "metadata": {},
     "output_type": "execute_result"
    }
   ],
   "source": [
    "list(range(0,10,2))"
   ]
  },
  {
   "cell_type": "code",
   "execution_count": 13,
   "id": "bf83dace",
   "metadata": {},
   "outputs": [
    {
     "data": {
      "text/plain": [
       "[-1, -3, -5, -7, -9]"
      ]
     },
     "execution_count": 13,
     "metadata": {},
     "output_type": "execute_result"
    }
   ],
   "source": [
    "list(range(-1,-10,-2))"
   ]
  },
  {
   "cell_type": "code",
   "execution_count": 14,
   "id": "2a585500",
   "metadata": {},
   "outputs": [
    {
     "data": {
      "text/plain": [
       "[-1, -2, -3, -4, -5, -6, -7, -8, -9, -10]"
      ]
     },
     "execution_count": 14,
     "metadata": {},
     "output_type": "execute_result"
    }
   ],
   "source": [
    "list(range(-1,-11,-1))"
   ]
  },
  {
   "cell_type": "code",
   "execution_count": 15,
   "id": "db97e427",
   "metadata": {},
   "outputs": [
    {
     "data": {
      "text/plain": [
       "'range(0, 10)'"
      ]
     },
     "execution_count": 15,
     "metadata": {},
     "output_type": "execute_result"
    }
   ],
   "source": [
    "str(range(10)) # in output it will giving that  "
   ]
  },
  {
   "cell_type": "code",
   "execution_count": 16,
   "id": "6cebb92b",
   "metadata": {},
   "outputs": [
    {
     "ename": "TypeError",
     "evalue": "float() argument must be a string or a real number, not 'range'",
     "output_type": "error",
     "traceback": [
      "\u001b[1;31m---------------------------------------------------------------------------\u001b[0m",
      "\u001b[1;31mTypeError\u001b[0m                                 Traceback (most recent call last)",
      "Cell \u001b[1;32mIn[16], line 1\u001b[0m\n\u001b[1;32m----> 1\u001b[0m \u001b[38;5;28;43mfloat\u001b[39;49m\u001b[43m(\u001b[49m\u001b[38;5;28;43mrange\u001b[39;49m\u001b[43m(\u001b[49m\u001b[38;5;241;43m10\u001b[39;49m\u001b[43m)\u001b[49m\u001b[43m)\u001b[49m\n",
      "\u001b[1;31mTypeError\u001b[0m: float() argument must be a string or a real number, not 'range'"
     ]
    }
   ],
   "source": [
    "float(range(10))"
   ]
  },
  {
   "cell_type": "code",
   "execution_count": 17,
   "id": "f965b723",
   "metadata": {
    "scrolled": true
   },
   "outputs": [
    {
     "ename": "TypeError",
     "evalue": "complex() first argument must be a string or a number, not 'range'",
     "output_type": "error",
     "traceback": [
      "\u001b[1;31m---------------------------------------------------------------------------\u001b[0m",
      "\u001b[1;31mTypeError\u001b[0m                                 Traceback (most recent call last)",
      "Cell \u001b[1;32mIn[17], line 1\u001b[0m\n\u001b[1;32m----> 1\u001b[0m \u001b[38;5;28;43mcomplex\u001b[39;49m\u001b[43m(\u001b[49m\u001b[38;5;28;43mrange\u001b[39;49m\u001b[43m(\u001b[49m\u001b[38;5;241;43m10\u001b[39;49m\u001b[43m)\u001b[49m\u001b[43m)\u001b[49m\n",
      "\u001b[1;31mTypeError\u001b[0m: complex() first argument must be a string or a number, not 'range'"
     ]
    }
   ],
   "source": [
    "complex(range(10))"
   ]
  },
  {
   "cell_type": "markdown",
   "id": "f120d723",
   "metadata": {},
   "source": [
    "# CASH FLOW STATEMENT"
   ]
  },
  {
   "cell_type": "markdown",
   "id": "6246e89f",
   "metadata": {},
   "source": [
    "## *Pyhton Progrmming Fundamentals*\n",
    "1. Control flow statements\n",
    "2. Functions"
   ]
  },
  {
   "cell_type": "markdown",
   "id": "3dd2f873",
   "metadata": {},
   "source": [
    "# CONTROL FLOW STATEMENTS\n",
    "In pyhton programming ,control flow is the order in which statements or blocks of code are executed at runtime."
   ]
  },
  {
   "cell_type": "markdown",
   "id": "743f108b",
   "metadata": {},
   "source": [
    "# Iterative - reapeatable"
   ]
  },
  {
   "cell_type": "code",
   "execution_count": 1,
   "id": "6685fc7c",
   "metadata": {},
   "outputs": [
    {
     "name": "stdout",
     "output_type": "stream",
     "text": [
      "x is  8\n"
     ]
    }
   ],
   "source": [
    "# conditional statements\n",
    "x = 8 \n",
    "if x==8:    # we use comparision operators\n",
    "    print(\"x is \",x)# here it was giving an output cause the condition was true,and giving else is not imp.\n"
   ]
  },
  {
   "cell_type": "code",
   "execution_count": null,
   "id": "53c23ba1",
   "metadata": {},
   "outputs": [],
   "source": []
  }
 ],
 "metadata": {
  "kernelspec": {
   "display_name": "Python 3 (ipykernel)",
   "language": "python",
   "name": "python3"
  },
  "language_info": {
   "codemirror_mode": {
    "name": "ipython",
    "version": 3
   },
   "file_extension": ".py",
   "mimetype": "text/x-python",
   "name": "python",
   "nbconvert_exporter": "python",
   "pygments_lexer": "ipython3",
   "version": "3.10.9"
  }
 },
 "nbformat": 4,
 "nbformat_minor": 5
}
