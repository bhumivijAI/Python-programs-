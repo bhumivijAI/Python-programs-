{
 "cells": [
  {
   "cell_type": "markdown",
   "id": "d4f6383d",
   "metadata": {},
   "source": [
    "**Functions** are a block of code defined with a name.\n",
    "functions provide reuseability of code."
   ]
  },
  {
   "cell_type": "markdown",
   "id": "0d820cc8",
   "metadata": {},
   "source": [
    "**DRY** -- Do not repeat yourself"
   ]
  },
  {
   "cell_type": "markdown",
   "id": "aaac0381",
   "metadata": {},
   "source": [
    "# Types of Functions"
   ]
  },
  {
   "cell_type": "markdown",
   "id": "c8b42990",
   "metadata": {},
   "source": [
    "1. Build-in Functions or Predefined functions.\n",
    "2. User defined functions."
   ]
  },
  {
   "cell_type": "markdown",
   "id": "9be864db",
   "metadata": {},
   "source": [
    "# Creating a Function"
   ]
  },
  {
   "cell_type": "code",
   "execution_count": 4,
   "id": "e44ec620",
   "metadata": {},
   "outputs": [
    {
     "name": "stdout",
     "output_type": "stream",
     "text": [
      "data science is amazing\n"
     ]
    }
   ],
   "source": [
    "def first_function(): # name of the block of code\n",
    "    print(\"data science is amazing\")\n",
    "    \n",
    "    \n",
    "first_function()    # function is called"
   ]
  },
  {
   "cell_type": "code",
   "execution_count": 6,
   "id": "58b657de",
   "metadata": {},
   "outputs": [
    {
     "name": "stdout",
     "output_type": "stream",
     "text": [
      "today i got an pen\n",
      "today total expenses: 647\n"
     ]
    }
   ],
   "source": [
    "def bhumi():\n",
    "    print(\"today i got an pen\")\n",
    "    print(\"today total expenses:\",80+567)\n",
    "bhumi()    \n",
    "    "
   ]
  },
  {
   "cell_type": "markdown",
   "id": "398530bb",
   "metadata": {},
   "source": [
    "# Creating a Functions with parameters"
   ]
  },
  {
   "cell_type": "code",
   "execution_count": 7,
   "id": "6bca6b82",
   "metadata": {},
   "outputs": [
    {
     "name": "stdout",
     "output_type": "stream",
     "text": [
      "data science is amazing\n",
      "12\n"
     ]
    }
   ],
   "source": [
    "def first_function(x):\n",
    "    print(\"data science is amazing\")\n",
    "    print(x)\n",
    "first_function(12) # function is called and a value is passed    "
   ]
  },
  {
   "cell_type": "code",
   "execution_count": 8,
   "id": "af34f2f8",
   "metadata": {},
   "outputs": [
    {
     "name": "stdout",
     "output_type": "stream",
     "text": [
      "123\n",
      "67\n"
     ]
    }
   ],
   "source": [
    "def second_function(x,y):\n",
    "    print(x)\n",
    "    print(y)\n",
    "second_function(123,67)    "
   ]
  },
  {
   "cell_type": "code",
   "execution_count": 9,
   "id": "aa59572d",
   "metadata": {},
   "outputs": [
    {
     "name": "stdout",
     "output_type": "stream",
     "text": [
      "154\n"
     ]
    }
   ],
   "source": [
    "def second(x,y):\n",
    "    print(x+y)\n",
    "second(98,56)    "
   ]
  },
  {
   "cell_type": "code",
   "execution_count": 10,
   "id": "2ad2e85d",
   "metadata": {},
   "outputs": [
    {
     "ename": "SyntaxError",
     "evalue": "invalid syntax (841630433.py, line 1)",
     "output_type": "error",
     "traceback": [
      "\u001b[1;36m  Cell \u001b[1;32mIn[10], line 1\u001b[1;36m\u001b[0m\n\u001b[1;33m    def second(range(1,30)):\u001b[0m\n\u001b[1;37m                    ^\u001b[0m\n\u001b[1;31mSyntaxError\u001b[0m\u001b[1;31m:\u001b[0m invalid syntax\n"
     ]
    }
   ],
   "source": [
    "def second(range(1,30)):\n",
    "    print(\"range\")\n",
    "second()    "
   ]
  },
  {
   "cell_type": "code",
   "execution_count": 17,
   "id": "ee60fc20",
   "metadata": {},
   "outputs": [
    {
     "name": "stdout",
     "output_type": "stream",
     "text": [
      "gkjgj\n"
     ]
    }
   ],
   "source": [
    "def moon(x,y,z):\n",
    "    print(\"gkjgj\")\n",
    "moon(range(1,3),range(1,2),range(2,5))    "
   ]
  },
  {
   "cell_type": "code",
   "execution_count": 26,
   "id": "99dac25f",
   "metadata": {},
   "outputs": [
    {
     "name": "stdout",
     "output_type": "stream",
     "text": [
      "range(1, 10)\n"
     ]
    }
   ],
   "source": [
    "def moon(x,y,z):\n",
    "    print(range(1,10))\n",
    "moon(1,2,3)   "
   ]
  },
  {
   "cell_type": "code",
   "execution_count": 27,
   "id": "d6c7ae88",
   "metadata": {},
   "outputs": [
    {
     "name": "stdout",
     "output_type": "stream",
     "text": [
      "str\n",
      "5\n",
      "True\n",
      "[12]\n"
     ]
    }
   ],
   "source": [
    "def moon(x,y,z,i):\n",
    "    print(x)\n",
    "    print(y)\n",
    "    print(z)\n",
    "    print(i)\n",
    "moon(\"str\",(2+3),True,[12])    "
   ]
  },
  {
   "cell_type": "code",
   "execution_count": 1,
   "id": "327fc9ca",
   "metadata": {},
   "outputs": [
    {
     "ename": "SyntaxError",
     "evalue": "duplicate argument 'v' in function definition (2282364696.py, line 1)",
     "output_type": "error",
     "traceback": [
      "\u001b[1;36m  Cell \u001b[1;32mIn[1], line 1\u001b[1;36m\u001b[0m\n\u001b[1;33m    def moon(v,v,v,v,v,v,v,v,v,v,v,v,v,v,v,v,v,v,v,v,v):\u001b[0m\n\u001b[1;37m               ^\u001b[0m\n\u001b[1;31mSyntaxError\u001b[0m\u001b[1;31m:\u001b[0m duplicate argument 'v' in function definition\n"
     ]
    }
   ],
   "source": [
    "def moon(v,v,v,v,v,v,v,v,v,v,v,v,v,v,v,v,v,v,v,v,v):\n",
    "    print(v)\n",
    "moon(56)    "
   ]
  },
  {
   "cell_type": "code",
   "execution_count": 3,
   "id": "71792350",
   "metadata": {},
   "outputs": [
    {
     "ename": "SyntaxError",
     "evalue": "duplicate argument 'v' in function definition (2537233882.py, line 1)",
     "output_type": "error",
     "traceback": [
      "\u001b[1;36m  Cell \u001b[1;32mIn[3], line 1\u001b[1;36m\u001b[0m\n\u001b[1;33m    def moon(v,x,y,v):\u001b[0m\n\u001b[1;37m                   ^\u001b[0m\n\u001b[1;31mSyntaxError\u001b[0m\u001b[1;31m:\u001b[0m duplicate argument 'v' in function definition\n"
     ]
    }
   ],
   "source": [
    "def moon(v,x,y,v):\n",
    "    print(v)\n",
    "    print(x)\n",
    "    print(y)\n",
    "    print(v)\n",
    "moon(4,5,6,7)    "
   ]
  },
  {
   "cell_type": "code",
   "execution_count": 4,
   "id": "f0b7732e",
   "metadata": {},
   "outputs": [
    {
     "name": "stdout",
     "output_type": "stream",
     "text": [
      "6\n",
      "0.6666666666666666\n",
      "-1\n",
      "5\n"
     ]
    }
   ],
   "source": [
    "def calculate(x,y):\n",
    "    print(x*y)\n",
    "    print(x/y)\n",
    "    print(x-y)\n",
    "    print(x+y)\n",
    "calculate(2,3)    "
   ]
  },
  {
   "cell_type": "markdown",
   "id": "88d180b4",
   "metadata": {},
   "source": [
    "# Returning value from a function "
   ]
  },
  {
   "cell_type": "code",
   "execution_count": null,
   "id": "204ba4c4",
   "metadata": {},
   "outputs": [],
   "source": []
  },
  {
   "cell_type": "code",
   "execution_count": 24,
   "id": "cd5ef8b0",
   "metadata": {},
   "outputs": [
    {
     "data": {
      "text/plain": [
       "90"
      ]
     },
     "execution_count": 24,
     "metadata": {},
     "output_type": "execute_result"
    }
   ],
   "source": [
    "def calculator(x,y):\n",
    "    a = x+y\n",
    "    return a        # returning the values of the function\n",
    "calculator(23,67)"
   ]
  },
  {
   "cell_type": "code",
   "execution_count": 18,
   "id": "26f807c1",
   "metadata": {},
   "outputs": [
    {
     "name": "stdout",
     "output_type": "stream",
     "text": [
      "90\n"
     ]
    }
   ],
   "source": [
    "def calculator(x,y):\n",
    "    a = x+y\n",
    "    return a\n",
    "b = calculator(23,67)\n",
    "print(b)"
   ]
  },
  {
   "cell_type": "code",
   "execution_count": 19,
   "id": "c5e38679",
   "metadata": {},
   "outputs": [
    {
     "name": "stdout",
     "output_type": "stream",
     "text": [
      "157\n"
     ]
    }
   ],
   "source": [
    "def calculator(x,y):\n",
    "    a = x+y\n",
    "    return a\n",
    "b = calculator(23,67) + 67\n",
    "print(b)"
   ]
  },
  {
   "cell_type": "code",
   "execution_count": 23,
   "id": "957dc821",
   "metadata": {},
   "outputs": [],
   "source": [
    "def calculator(x,y):\n",
    "    a = x+y\n",
    "    \n",
    "    return a \n",
    "x = calculator(23,67) # it will not give any output because now values are pass in x "
   ]
  },
  {
   "cell_type": "code",
   "execution_count": 25,
   "id": "74c2b9ce",
   "metadata": {},
   "outputs": [
    {
     "name": "stdout",
     "output_type": "stream",
     "text": [
      "90\n"
     ]
    }
   ],
   "source": [
    "def calculator(x,y):\n",
    "    a = x+y\n",
    "    return a \n",
    "x = calculator(23,67)\n",
    "print(x)"
   ]
  },
  {
   "cell_type": "code",
   "execution_count": 30,
   "id": "9a85ddb5",
   "metadata": {},
   "outputs": [
    {
     "name": "stdout",
     "output_type": "stream",
     "text": [
      "We are adding numbers\n"
     ]
    },
    {
     "data": {
      "text/plain": [
       "101"
      ]
     },
     "execution_count": 30,
     "metadata": {},
     "output_type": "execute_result"
    }
   ],
   "source": [
    "def my_fuc(x,y):\n",
    "    print(\"We are adding numbers\")\n",
    "    a = x+y\n",
    "    return a\n",
    "    print(\"hello world\") # this will be not printed cause after return function anything written in it will not be printed \n",
    "my_fuc(23,78)    "
   ]
  },
  {
   "cell_type": "code",
   "execution_count": 4,
   "id": "c138f213",
   "metadata": {},
   "outputs": [
    {
     "name": "stdout",
     "output_type": "stream",
     "text": [
      "xyz\n",
      "the value of x is None\n"
     ]
    }
   ],
   "source": [
    "def func():\n",
    "    print(\"xyz\")\n",
    "    return \n",
    "x = func()\n",
    "print('the value of x is',x)"
   ]
  },
  {
   "cell_type": "code",
   "execution_count": 40,
   "id": "5a488871",
   "metadata": {},
   "outputs": [
    {
     "name": "stdout",
     "output_type": "stream",
     "text": [
      "xyz\n",
      "78\n",
      "the value of x 78\n"
     ]
    }
   ],
   "source": [
    "def func(a):\n",
    "    print(\"xyz\")\n",
    "    print(a)\n",
    "    return a\n",
    "x = func(78)\n",
    "print(\"the value of x\",x)"
   ]
  },
  {
   "cell_type": "code",
   "execution_count": 39,
   "id": "a49760ae",
   "metadata": {},
   "outputs": [
    {
     "name": "stdout",
     "output_type": "stream",
     "text": [
      "xyz\n",
      "78\n",
      "the value of x None\n"
     ]
    }
   ],
   "source": [
    "def func(a):\n",
    "    print(\"xyz\")\n",
    "    print(a)\n",
    "    return None\n",
    "x = func(78)\n",
    "print(\"the value of x\",x)"
   ]
  },
  {
   "cell_type": "code",
   "execution_count": 38,
   "id": "419a01c7",
   "metadata": {},
   "outputs": [
    {
     "name": "stdout",
     "output_type": "stream",
     "text": [
      "xyz\n",
      "78\n",
      "the value of x True\n"
     ]
    }
   ],
   "source": [
    "def func(a):\n",
    "    print(\"xyz\")\n",
    "    print(a)\n",
    "    return True\n",
    "x = func(78)\n",
    "print(\"the value of x\",x)"
   ]
  },
  {
   "cell_type": "code",
   "execution_count": 41,
   "id": "8b98c512",
   "metadata": {},
   "outputs": [
    {
     "name": "stdout",
     "output_type": "stream",
     "text": [
      "hello\n",
      "None\n"
     ]
    }
   ],
   "source": [
    "print(print(\"hello\")) # it was still returning none"
   ]
  },
  {
   "cell_type": "code",
   "execution_count": 45,
   "id": "fc5f9f50",
   "metadata": {},
   "outputs": [
    {
     "name": "stdout",
     "output_type": "stream",
     "text": [
      "hello\n"
     ]
    }
   ],
   "source": [
    "print(\"hello\") # it was still returning none but not showing it because where it has been formed they have formed the code \n",
    "               #in that way so that the output which we want is coming ."
   ]
  },
  {
   "cell_type": "code",
   "execution_count": 46,
   "id": "7206031f",
   "metadata": {},
   "outputs": [
    {
     "name": "stdout",
     "output_type": "stream",
     "text": [
      "None\n"
     ]
    }
   ],
   "source": [
    "print(None)"
   ]
  },
  {
   "cell_type": "code",
   "execution_count": 47,
   "id": "35358a3c",
   "metadata": {},
   "outputs": [],
   "source": [
    "None"
   ]
  },
  {
   "cell_type": "code",
   "execution_count": 3,
   "id": "2e9702fb",
   "metadata": {},
   "outputs": [
    {
     "name": "stdout",
     "output_type": "stream",
     "text": [
      "None\n"
     ]
    }
   ],
   "source": [
    "print(None)"
   ]
  },
  {
   "cell_type": "code",
   "execution_count": 4,
   "id": "b86e2891",
   "metadata": {},
   "outputs": [
    {
     "name": "stdout",
     "output_type": "stream",
     "text": [
      "h\n",
      "None\n",
      "None\n"
     ]
    }
   ],
   "source": [
    "print(print(print(\"h\")))"
   ]
  },
  {
   "cell_type": "code",
   "execution_count": 1,
   "id": "cace97ff",
   "metadata": {},
   "outputs": [
    {
     "name": "stdout",
     "output_type": "stream",
     "text": [
      "<class 'str'>\n"
     ]
    }
   ],
   "source": [
    "print(type(\"h\"))\n"
   ]
  },
  {
   "cell_type": "code",
   "execution_count": 2,
   "id": "4bf15bdd",
   "metadata": {},
   "outputs": [
    {
     "name": "stdout",
     "output_type": "stream",
     "text": [
      "h\n"
     ]
    },
    {
     "data": {
      "text/plain": [
       "NoneType"
      ]
     },
     "execution_count": 2,
     "metadata": {},
     "output_type": "execute_result"
    }
   ],
   "source": [
    "type(print(\"h\"))"
   ]
  },
  {
   "cell_type": "code",
   "execution_count": 6,
   "id": "25df33dd",
   "metadata": {},
   "outputs": [
    {
     "data": {
      "text/plain": [
       "str"
      ]
     },
     "execution_count": 6,
     "metadata": {},
     "output_type": "execute_result"
    }
   ],
   "source": [
    "type(\"bhumi\")"
   ]
  },
  {
   "cell_type": "code",
   "execution_count": 5,
   "id": "be027a9b",
   "metadata": {},
   "outputs": [
    {
     "data": {
      "text/plain": [
       "'bhumi'"
      ]
     },
     "execution_count": 5,
     "metadata": {},
     "output_type": "execute_result"
    }
   ],
   "source": [
    "type(\"bhumi\")\n",
    "'bhumi'"
   ]
  },
  {
   "cell_type": "code",
   "execution_count": 5,
   "id": "d984f5d6",
   "metadata": {},
   "outputs": [
    {
     "data": {
      "text/plain": [
       "123"
      ]
     },
     "execution_count": 5,
     "metadata": {},
     "output_type": "execute_result"
    }
   ],
   "source": [
    "def add(a,b):\n",
    "    sum = a+b\n",
    "    return sum  \n",
    "add(45,78)"
   ]
  },
  {
   "cell_type": "code",
   "execution_count": 9,
   "id": "88b88737",
   "metadata": {},
   "outputs": [
    {
     "name": "stdout",
     "output_type": "stream",
     "text": [
      "123\n"
     ]
    }
   ],
   "source": [
    "def add(a,b):\n",
    "    sum = a+b\n",
    "    print(sum)  # yeha bhi value return hori h by default return none hori h add(45,78) ki jgha ,or print command diya h humne\n",
    "add(45,78)      # isliye hi vo 123 result mai de raha h"
   ]
  },
  {
   "cell_type": "code",
   "execution_count": 7,
   "id": "553b198b",
   "metadata": {},
   "outputs": [],
   "source": [
    "def add(a,b):\n",
    "    sum = a+b\n",
    "    return None\n",
    "add(45,78)"
   ]
  },
  {
   "cell_type": "code",
   "execution_count": 8,
   "id": "894b7a56",
   "metadata": {},
   "outputs": [
    {
     "name": "stdout",
     "output_type": "stream",
     "text": [
      "None\n"
     ]
    }
   ],
   "source": [
    "def add(a,b):\n",
    "    sum = a+b\n",
    "    return None\n",
    "print(add(45,78))"
   ]
  },
  {
   "cell_type": "code",
   "execution_count": 6,
   "id": "272b4a3f",
   "metadata": {},
   "outputs": [
    {
     "name": "stdout",
     "output_type": "stream",
     "text": [
      "123\n"
     ]
    },
    {
     "data": {
      "text/plain": [
       "123"
      ]
     },
     "execution_count": 6,
     "metadata": {},
     "output_type": "execute_result"
    }
   ],
   "source": [
    "def add(a,b):\n",
    "    sum = a+b\n",
    "    print(sum)\n",
    "    return 123\n",
    "add(45,78)"
   ]
  },
  {
   "cell_type": "code",
   "execution_count": null,
   "id": "0b9b0538",
   "metadata": {},
   "outputs": [],
   "source": []
  },
  {
   "cell_type": "code",
   "execution_count": null,
   "id": "1669d898",
   "metadata": {},
   "outputs": [],
   "source": []
  },
  {
   "cell_type": "code",
   "execution_count": null,
   "id": "0be09ff0",
   "metadata": {},
   "outputs": [],
   "source": []
  },
  {
   "cell_type": "code",
   "execution_count": null,
   "id": "e5b60410",
   "metadata": {},
   "outputs": [],
   "source": []
  },
  {
   "cell_type": "code",
   "execution_count": null,
   "id": "d22ccb08",
   "metadata": {},
   "outputs": [],
   "source": []
  },
  {
   "cell_type": "code",
   "execution_count": 1,
   "id": "7011c97b",
   "metadata": {},
   "outputs": [
    {
     "name": "stdout",
     "output_type": "stream",
     "text": [
      "xyz\n",
      "45\n",
      "22\n",
      "the value of x is None\n"
     ]
    }
   ],
   "source": [
    "def func(a):\n",
    "    print(\"xyz\")\n",
    "    print(a)\n",
    "    print(a-23)\n",
    "x = func(45)\n",
    "print(\"the value of x is\",x) # its returning none because x has no vaalue before returning its value"
   ]
  },
  {
   "cell_type": "code",
   "execution_count": 3,
   "id": "bc82f59d",
   "metadata": {},
   "outputs": [
    {
     "name": "stdout",
     "output_type": "stream",
     "text": [
      "xyz\n",
      "45\n",
      "22\n",
      "the value of x is 45\n"
     ]
    }
   ],
   "source": [
    "def func(a):\n",
    "    print(\"xyz\")\n",
    "    print(a)\n",
    "    print(a-23)\n",
    "    return a # we have returned the value of x because we have given the command of return to return the value \n",
    "x = func(45)\n",
    "print(\"the value of x is\",x)"
   ]
  },
  {
   "cell_type": "code",
   "execution_count": 1,
   "id": "6559f10a",
   "metadata": {},
   "outputs": [],
   "source": [
    "# Returning multiple values frm a function"
   ]
  },
  {
   "cell_type": "code",
   "execution_count": 2,
   "id": "12c98135",
   "metadata": {},
   "outputs": [
    {
     "name": "stdout",
     "output_type": "stream",
     "text": [
      "hello\n",
      "67\n"
     ]
    }
   ],
   "source": [
    "a,b=(\"hello\",67)\n",
    "print(a)\n",
    "print(b)"
   ]
  },
  {
   "cell_type": "code",
   "execution_count": 3,
   "id": "97f68e67",
   "metadata": {},
   "outputs": [
    {
     "name": "stdout",
     "output_type": "stream",
     "text": [
      "(12, 8, 20, 5.0)\n"
     ]
    }
   ],
   "source": [
    "def calculator(a,b):\n",
    "    sum = a+b\n",
    "    diff = a-b\n",
    "    product = a*b\n",
    "    div = a/b\n",
    "    return sum,diff,product,div  # returns the value in the from of tuple\n",
    "x = calculator(10,2)\n",
    "print(x)"
   ]
  },
  {
   "cell_type": "code",
   "execution_count": 4,
   "id": "51d7bf6e",
   "metadata": {},
   "outputs": [
    {
     "name": "stdout",
     "output_type": "stream",
     "text": [
      "12 8 20 5.0\n"
     ]
    }
   ],
   "source": [
    "def calculator(a,b):\n",
    "    sum = a+b\n",
    "    diff = a-b\n",
    "    product = a*b\n",
    "    div = a/b\n",
    "    return sum,diff,product,div  # returns the value in the from of tuple\n",
    "a,b,c,d = calculator(10,2)\n",
    "print(a,b,c,d)"
   ]
  },
  {
   "cell_type": "code",
   "execution_count": 5,
   "id": "43a815bb",
   "metadata": {},
   "outputs": [
    {
     "name": "stdout",
     "output_type": "stream",
     "text": [
      "12 8 20 5.0\n"
     ]
    }
   ],
   "source": [
    "def calculator(a,b):\n",
    "    sum = a+b\n",
    "    diff = a-b\n",
    "    product = a*b\n",
    "    div = a/b\n",
    "    return sum,diff,product,div  # returns the value in the from of tuple\n",
    "p,q,r,s = calculator(10,2)\n",
    "print(p,q,r,s)"
   ]
  },
  {
   "cell_type": "code",
   "execution_count": 13,
   "id": "4110ba04",
   "metadata": {},
   "outputs": [
    {
     "name": "stdout",
     "output_type": "stream",
     "text": [
      "32\n"
     ]
    }
   ],
   "source": [
    "y,c,b,a = calculator(8,4)   # problem\n",
    "print(b)"
   ]
  },
  {
   "cell_type": "code",
   "execution_count": 12,
   "id": "fa8b2e37",
   "metadata": {},
   "outputs": [
    {
     "name": "stdout",
     "output_type": "stream",
     "text": [
      "(12, 4, 32, 2.0)\n"
     ]
    }
   ],
   "source": [
    "y = calculator(8,4)\n",
    "print(y)"
   ]
  },
  {
   "cell_type": "markdown",
   "id": "62b6b4d4",
   "metadata": {},
   "source": [
    "# Using docstrings in Functions"
   ]
  },
  {
   "cell_type": "code",
   "execution_count": 14,
   "id": "3bdec795",
   "metadata": {},
   "outputs": [],
   "source": [
    "# Single-line docstrings\n",
    "def show_result():\n",
    "    \"\"\"Let us understand docstrings\"\"\"\n",
    "    print(\"This is a test program\")"
   ]
  },
  {
   "cell_type": "code",
   "execution_count": 15,
   "id": "25e43505",
   "metadata": {},
   "outputs": [
    {
     "data": {
      "text/plain": [
       "'Let us understand docstrings'"
      ]
     },
     "execution_count": 15,
     "metadata": {},
     "output_type": "execute_result"
    }
   ],
   "source": [
    "show_result.__doc__"
   ]
  },
  {
   "cell_type": "code",
   "execution_count": 16,
   "id": "e67b5f92",
   "metadata": {},
   "outputs": [
    {
     "name": "stdout",
     "output_type": "stream",
     "text": [
      "Help on function show_result in module __main__:\n",
      "\n",
      "show_result()\n",
      "    Let us understand docstrings\n",
      "\n"
     ]
    }
   ],
   "source": [
    "help(show_result)"
   ]
  },
  {
   "cell_type": "code",
   "execution_count": 19,
   "id": "e5874d5d",
   "metadata": {},
   "outputs": [
    {
     "name": "stdout",
     "output_type": "stream",
     "text": [
      "Help on built-in function print in module builtins:\n",
      "\n",
      "print(...)\n",
      "    print(value, ..., sep=' ', end='\\n', file=sys.stdout, flush=False)\n",
      "    \n",
      "    Prints the values to a stream, or to sys.stdout by default.\n",
      "    Optional keyword arguments:\n",
      "    file:  a file-like object (stream); defaults to the current sys.stdout.\n",
      "    sep:   string inserted between values, default a space.\n",
      "    end:   string appended after the last value, default a newline.\n",
      "    flush: whether to forcibly flush the stream.\n",
      "\n"
     ]
    }
   ],
   "source": [
    "help(print)"
   ]
  },
  {
   "cell_type": "code",
   "execution_count": 21,
   "id": "e24d28fa",
   "metadata": {},
   "outputs": [
    {
     "name": "stdout",
     "output_type": "stream",
     "text": [
      "This is a test program\n"
     ]
    }
   ],
   "source": [
    "def show_result():\n",
    "    \"\"\"Let us understand docstrings\n",
    "    \n",
    "    This is about docstrings,when we write  about multiline docstrings\n",
    "    it has to be the single in first and then one empty line nd then start \n",
    "    to give an discripsion\"\"\"\n",
    "    print(\"This is a test program\")\n",
    "show_result()    "
   ]
  },
  {
   "cell_type": "code",
   "execution_count": 32,
   "id": "cd1e7e7e",
   "metadata": {},
   "outputs": [
    {
     "name": "stdout",
     "output_type": "stream",
     "text": [
      "This is a test program\n",
      "moon\n"
     ]
    }
   ],
   "source": [
    "def show_result():\n",
    "        print(\"This is a test program\")\n",
    "        \"\"\"Let us understand docstrings\n",
    "    \n",
    "        This is about docstrings,when we write  about multiline docstrings\n",
    "        it has to be the single in first and then one empty line nd then start \n",
    "        to give an discripsion\"\"\"\n",
    "        print('moon')\n",
    "        \n",
    "show_result()        \n",
    "    "
   ]
  },
  {
   "cell_type": "code",
   "execution_count": 33,
   "id": "f6230e50",
   "metadata": {},
   "outputs": [
    {
     "name": "stdout",
     "output_type": "stream",
     "text": [
      "Help on function show_result in module __main__:\n",
      "\n",
      "show_result()\n",
      "\n"
     ]
    }
   ],
   "source": [
    "help(show_result)"
   ]
  },
  {
   "cell_type": "code",
   "execution_count": 22,
   "id": "ed9acf53",
   "metadata": {},
   "outputs": [
    {
     "name": "stdout",
     "output_type": "stream",
     "text": [
      "Let us understand docstrings\n",
      "    \n",
      "    This is about docstrings,when we write  about multiline docstrings\n",
      "    it has to be the single in first and then one empty line nd then start \n",
      "    to give an discripsion\n"
     ]
    }
   ],
   "source": [
    "print(show_result.__doc__)"
   ]
  },
  {
   "cell_type": "code",
   "execution_count": 23,
   "id": "3c57b889",
   "metadata": {},
   "outputs": [
    {
     "data": {
      "text/plain": [
       "'Let us understand docstrings\\n    \\n    This is about docstrings,when we write  about multiline docstrings\\n    it has to be the single in first and then one empty line nd then start \\n    to give an discripsion'"
      ]
     },
     "execution_count": 23,
     "metadata": {},
     "output_type": "execute_result"
    }
   ],
   "source": [
    "show_result.__doc__"
   ]
  },
  {
   "cell_type": "code",
   "execution_count": 24,
   "id": "01574445",
   "metadata": {},
   "outputs": [
    {
     "name": "stdout",
     "output_type": "stream",
     "text": [
      "Help on function show_result in module __main__:\n",
      "\n",
      "show_result()\n",
      "    Let us understand docstrings\n",
      "    \n",
      "    This is about docstrings,when we write  about multiline docstrings\n",
      "    it has to be the single in first and then one empty line nd then start \n",
      "    to give an discripsion\n",
      "\n"
     ]
    }
   ],
   "source": [
    "help(show_result)"
   ]
  },
  {
   "cell_type": "markdown",
   "id": "99d56e08",
   "metadata": {},
   "source": [
    "# Scope of variables"
   ]
  },
  {
   "cell_type": "code",
   "execution_count": 20,
   "id": "8a729023",
   "metadata": {},
   "outputs": [
    {
     "name": "stdout",
     "output_type": "stream",
     "text": [
      "T is python\n",
      "The value of t is  python\n"
     ]
    },
    {
     "ename": "NameError",
     "evalue": "name 'u' is not defined",
     "output_type": "error",
     "traceback": [
      "\u001b[1;31m---------------------------------------------------------------------------\u001b[0m",
      "\u001b[1;31mNameError\u001b[0m                                 Traceback (most recent call last)",
      "Cell \u001b[1;32mIn[20], line 9\u001b[0m\n\u001b[0;32m      6\u001b[0m scope_var()\n\u001b[0;32m      8\u001b[0m \u001b[38;5;28mprint\u001b[39m(\u001b[38;5;124m\"\u001b[39m\u001b[38;5;124mThe value of t is \u001b[39m\u001b[38;5;124m\"\u001b[39m,t)\n\u001b[1;32m----> 9\u001b[0m \u001b[38;5;28mprint\u001b[39m(\u001b[38;5;124m\"\u001b[39m\u001b[38;5;124mthe value of u is \u001b[39m\u001b[38;5;124m\"\u001b[39m,\u001b[43mu\u001b[49m)\n",
      "\u001b[1;31mNameError\u001b[0m: name 'u' is not defined"
     ]
    }
   ],
   "source": [
    "t = \"python\"         # global variable\n",
    "\n",
    "def scope_var():\n",
    "    u = \"analytics\"  # local variable\n",
    "    print(\"T is\",t)\n",
    "scope_var()\n",
    "\n",
    "print(\"The value of t is \",t)\n",
    "print(\"the value of u is \",u)"
   ]
  },
  {
   "cell_type": "code",
   "execution_count": 21,
   "id": "a4757243",
   "metadata": {},
   "outputs": [
    {
     "name": "stdout",
     "output_type": "stream",
     "text": [
      "data science\n",
      "T is python\n",
      "The value of t is  python\n",
      "the value of u is  analytics\n"
     ]
    }
   ],
   "source": [
    "t = \"python\"  # global variable\n",
    "u = \"analytics\" # global variable u\n",
    "def scope_var():\n",
    "    u = \"data science\"  # local variable u\n",
    "    print(u)\n",
    "    print(\"T is\",t)\n",
    "scope_var()\n",
    "\n",
    "print(\"The value of t is \",t)\n",
    "\n",
    "print(\"the value of u is \",u)  # global variable u "
   ]
  },
  {
   "cell_type": "code",
   "execution_count": 22,
   "id": "0695c0e0",
   "metadata": {},
   "outputs": [
    {
     "ename": "UnboundLocalError",
     "evalue": "local variable 'u' referenced before assignment",
     "output_type": "error",
     "traceback": [
      "\u001b[1;31m---------------------------------------------------------------------------\u001b[0m",
      "\u001b[1;31mUnboundLocalError\u001b[0m                         Traceback (most recent call last)",
      "Cell \u001b[1;32mIn[22], line 8\u001b[0m\n\u001b[0;32m      6\u001b[0m     \u001b[38;5;28mprint\u001b[39m(u)\n\u001b[0;32m      7\u001b[0m     \u001b[38;5;28mprint\u001b[39m(\u001b[38;5;124m\"\u001b[39m\u001b[38;5;124mT is\u001b[39m\u001b[38;5;124m\"\u001b[39m,t)\n\u001b[1;32m----> 8\u001b[0m \u001b[43mscope_var\u001b[49m\u001b[43m(\u001b[49m\u001b[43m)\u001b[49m\n\u001b[0;32m     10\u001b[0m \u001b[38;5;28mprint\u001b[39m(\u001b[38;5;124m\"\u001b[39m\u001b[38;5;124mThe value of t is \u001b[39m\u001b[38;5;124m\"\u001b[39m,t)\n\u001b[0;32m     12\u001b[0m \u001b[38;5;28mprint\u001b[39m(\u001b[38;5;124m\"\u001b[39m\u001b[38;5;124mthe value of u is \u001b[39m\u001b[38;5;124m\"\u001b[39m,u)\n",
      "Cell \u001b[1;32mIn[22], line 4\u001b[0m, in \u001b[0;36mscope_var\u001b[1;34m()\u001b[0m\n\u001b[0;32m      3\u001b[0m \u001b[38;5;28;01mdef\u001b[39;00m \u001b[38;5;21mscope_var\u001b[39m():\n\u001b[1;32m----> 4\u001b[0m     \u001b[38;5;28mprint\u001b[39m(\u001b[38;5;124m\"\u001b[39m\u001b[38;5;124mvalue of u outside function before declaring it as local is\u001b[39m\u001b[38;5;124m\"\u001b[39m,\u001b[43mu\u001b[49m)\n\u001b[0;32m      5\u001b[0m     u \u001b[38;5;241m=\u001b[39m \u001b[38;5;124m\"\u001b[39m\u001b[38;5;124mdata science\u001b[39m\u001b[38;5;124m\"\u001b[39m  \u001b[38;5;66;03m# local variable u\u001b[39;00m\n\u001b[0;32m      6\u001b[0m     \u001b[38;5;28mprint\u001b[39m(u)\n",
      "\u001b[1;31mUnboundLocalError\u001b[0m: local variable 'u' referenced before assignment"
     ]
    }
   ],
   "source": [
    "t = \"python\"  # global variable\n",
    "u = \"analytics\" # global variable u\n",
    "def scope_var():\n",
    "    print(\"value of u outside function before declaring it as local is\",u)\n",
    "    u = \"data science\"  # local variable u\n",
    "    print(u)\n",
    "    print(\"T is\",t)\n",
    "scope_var()\n",
    "\n",
    "print(\"The value of t is \",t)\n",
    "\n",
    "print(\"the value of u is \",u)  # global"
   ]
  },
  {
   "cell_type": "markdown",
   "id": "55495f8c",
   "metadata": {},
   "source": [
    "# Global variables\n",
    "* making global variable inside an funcution"
   ]
  },
  {
   "cell_type": "code",
   "execution_count": 9,
   "id": "3bd06dc2",
   "metadata": {},
   "outputs": [
    {
     "name": "stdout",
     "output_type": "stream",
     "text": [
      "value of x inside function 78\n",
      "value of x outside function 78\n"
     ]
    }
   ],
   "source": [
    "def test_global():\n",
    "    global x \n",
    "    x = 78\n",
    "    print(\"value of x inside function\",x)\n",
    "    \n",
    "test_global()\n",
    "\n",
    "\n",
    "print(\"value of x outside function\",x)"
   ]
  },
  {
   "cell_type": "code",
   "execution_count": 10,
   "id": "a8627f6f",
   "metadata": {},
   "outputs": [
    {
     "ename": "SyntaxError",
     "evalue": "invalid syntax (908741043.py, line 2)",
     "output_type": "error",
     "traceback": [
      "\u001b[1;36m  Cell \u001b[1;32mIn[10], line 2\u001b[1;36m\u001b[0m\n\u001b[1;33m    global x = 78\u001b[0m\n\u001b[1;37m             ^\u001b[0m\n\u001b[1;31mSyntaxError\u001b[0m\u001b[1;31m:\u001b[0m invalid syntax\n"
     ]
    }
   ],
   "source": [
    "def test_global():\n",
    "    global x = 78\n",
    "    print(\"value of x inside function\",x)\n",
    "\n",
    "    \n",
    "test_global()\n",
    "\n",
    "\n",
    "print(\"value of x outside function\",x)"
   ]
  },
  {
   "cell_type": "code",
   "execution_count": 13,
   "id": "a3823d4e",
   "metadata": {},
   "outputs": [
    {
     "name": "stdout",
     "output_type": "stream",
     "text": [
      "Help on built-in function sum in module builtins:\n",
      "\n",
      "sum(iterable, /, start=0)\n",
      "    Return the sum of a 'start' value (default: 0) plus an iterable of numbers\n",
      "    \n",
      "    When the iterable is empty, return the start value.\n",
      "    This function is intended specifically for use with numeric values and may\n",
      "    reject non-numeric types.\n",
      "\n"
     ]
    }
   ],
   "source": [
    "help(sum)"
   ]
  },
  {
   "cell_type": "code",
   "execution_count": 25,
   "id": "54168f6c",
   "metadata": {},
   "outputs": [
    {
     "name": "stdout",
     "output_type": "stream",
     "text": [
      "hello world\n",
      "hello world\n",
      "hi\n",
      "hi\n",
      "hi\n"
     ]
    }
   ],
   "source": [
    "x = 'hello world'\n",
    "\n",
    "def print_result():\n",
    "    global x\n",
    "    x = \"hi\"\n",
    "    print(x)\n",
    "    \n",
    "print(x)\n",
    "print(x)\n",
    "print_result()\n",
    "print(x)\n",
    "print(x)"
   ]
  },
  {
   "cell_type": "code",
   "execution_count": 26,
   "id": "f61daf19",
   "metadata": {},
   "outputs": [
    {
     "data": {
      "text/plain": [
       "'hi'"
      ]
     },
     "execution_count": 26,
     "metadata": {},
     "output_type": "execute_result"
    }
   ],
   "source": [
    "x"
   ]
  },
  {
   "cell_type": "code",
   "execution_count": 6,
   "id": "4fb070fa",
   "metadata": {},
   "outputs": [
    {
     "name": "stdout",
     "output_type": "stream",
     "text": [
      "hi\n",
      "hi\n",
      "hi\n"
     ]
    }
   ],
   "source": [
    "x = 'hello world'\n",
    "\n",
    "def print_result():\n",
    "    global x\n",
    "    x = \"hi\"\n",
    "    print(x)\n",
    "print_result()\n",
    "print(x)\n",
    "print(x)"
   ]
  },
  {
   "cell_type": "code",
   "execution_count": 16,
   "id": "7491e660",
   "metadata": {},
   "outputs": [
    {
     "name": "stdout",
     "output_type": "stream",
     "text": [
      "88\n",
      "10\n"
     ]
    }
   ],
   "source": [
    "def show_result():\n",
    "    global a\n",
    "    a = 10\n",
    "    sum = a+78\n",
    "    print(sum)\n",
    "show_result()\n",
    "print(a)"
   ]
  },
  {
   "cell_type": "code",
   "execution_count": 12,
   "id": "10d95816",
   "metadata": {},
   "outputs": [
    {
     "data": {
      "text/plain": [
       "81"
      ]
     },
     "execution_count": 12,
     "metadata": {},
     "output_type": "execute_result"
    }
   ],
   "source": [
    "def moon(x,y):\n",
    "    sum = x+y\n",
    "    return sum\n",
    "moon(3,78)\n"
   ]
  },
  {
   "cell_type": "code",
   "execution_count": 9,
   "id": "e6cee338",
   "metadata": {},
   "outputs": [
    {
     "name": "stdout",
     "output_type": "stream",
     "text": [
      "6\n",
      "str\n"
     ]
    }
   ],
   "source": [
    "def calc(x,y):\n",
    "    a = x+y\n",
    "    return a\n",
    "a = 'str'  # this is an global variable \n",
    "print(calc(1,5))\n",
    "print(a)"
   ]
  },
  {
   "cell_type": "code",
   "execution_count": 11,
   "id": "86a680ce",
   "metadata": {},
   "outputs": [
    {
     "name": "stdout",
     "output_type": "stream",
     "text": [
      "6\n",
      "str\n"
     ]
    }
   ],
   "source": [
    "def calc(x,y):\n",
    "    a = x+y\n",
    "    return a\n",
    "global a\n",
    "a = 'str' \n",
    "print(calc(1,5))\n",
    "print(a)"
   ]
  },
  {
   "cell_type": "markdown",
   "id": "efb54d2b",
   "metadata": {},
   "source": [
    "# Non-Local Variables"
   ]
  },
  {
   "cell_type": "code",
   "execution_count": 7,
   "id": "3af0a242",
   "metadata": {},
   "outputs": [
    {
     "name": "stdout",
     "output_type": "stream",
     "text": [
      "67\n",
      "89\n"
     ]
    }
   ],
   "source": [
    "def outer():\n",
    "    w = 89\n",
    "    def inner():\n",
    "        w = 67\n",
    "        print(w)\n",
    "    inner()\n",
    "    print(w)\n",
    "outer()    "
   ]
  },
  {
   "cell_type": "code",
   "execution_count": 23,
   "id": "c86fda86",
   "metadata": {},
   "outputs": [
    {
     "data": {
      "text/plain": [
       "\"as if we see this code we made an function when the fun. has been made now at first we have called the outer() '1st' \\n   then as it was called firstly it will start running from outer and in that fun. there is inner() fun. tooo now inside \\n   the outer as we have called the innrr() fun.  the 67 will be printed first nd then we have written print(w) now it will \\n   give the output 89,because it is in the indent of '1st' function.\""
      ]
     },
     "execution_count": 23,
     "metadata": {},
     "output_type": "execute_result"
    }
   ],
   "source": [
    "\"\"\"as if we see this code we made an function when the fun. has been made now at first we have called the outer() '1st' \n",
    "   then as it was called firstly it will start running from outer and in that fun. there is inner() fun. tooo now inside \n",
    "   the outer as we have called the innrr() fun.  the 67 will be printed first nd then we have written print(w) now it will \n",
    "   give the output 89,because it is in the indent of '1st' function.\"\"\""
   ]
  },
  {
   "cell_type": "code",
   "execution_count": 14,
   "id": "0e55aec1",
   "metadata": {},
   "outputs": [
    {
     "name": "stdout",
     "output_type": "stream",
     "text": [
      "89\n",
      "67\n",
      "89\n"
     ]
    }
   ],
   "source": [
    "def outer(w):\n",
    "    print(w)\n",
    "    def inner(w):\n",
    "        print(w)\n",
    "    inner(67)\n",
    "    print(w)\n",
    "outer(89)"
   ]
  },
  {
   "cell_type": "code",
   "execution_count": 1,
   "id": "38c87c2d",
   "metadata": {},
   "outputs": [
    {
     "name": "stdout",
     "output_type": "stream",
     "text": [
      "67\n",
      "67\n"
     ]
    }
   ],
   "source": [
    "def outer():\n",
    "    w = 89\n",
    "    def inner():\n",
    "        nonlocal w #the nonlocal will change the value of those variable which are no local for that function,\n",
    "        w = 67 # like in this (w=67) is an local variable and (w=89) is an global value for it,    \n",
    "        print(w)   # agar hume nonlocal valee mai bhi change lana h tho hum non local ka use krenge,\n",
    "    inner()        # isko use krne ke baad gobal mai jo bhi value hogi vo change ho jaye gi local se.  \n",
    "    print(w)\n",
    "outer()    "
   ]
  },
  {
   "cell_type": "code",
   "execution_count": 3,
   "id": "aecfac77",
   "metadata": {},
   "outputs": [
    {
     "ename": "SyntaxError",
     "evalue": "no binding for nonlocal 'w' found (2443006703.py, line 4)",
     "output_type": "error",
     "traceback": [
      "\u001b[1;36m  Cell \u001b[1;32mIn[3], line 4\u001b[1;36m\u001b[0m\n\u001b[1;33m    nonlocal w\u001b[0m\n\u001b[1;37m    ^\u001b[0m\n\u001b[1;31mSyntaxError\u001b[0m\u001b[1;31m:\u001b[0m no binding for nonlocal 'w' found\n"
     ]
    }
   ],
   "source": [
    "def outer():\n",
    "    # w = 89  # if we did'nt gave here any gloal variable it will gave an error\n",
    "    def inner():\n",
    "        nonlocal w\n",
    "        w = 67\n",
    "        print(w)\n",
    "    inner()\n",
    "    print(w)\n",
    "outer()    "
   ]
  },
  {
   "cell_type": "code",
   "execution_count": 4,
   "id": "76b2a45a",
   "metadata": {},
   "outputs": [
    {
     "data": {
      "text/plain": [
       "123"
      ]
     },
     "execution_count": 4,
     "metadata": {},
     "output_type": "execute_result"
    }
   ],
   "source": [
    "def moon(x,y): # here x,y are parameters\n",
    "    return x+y\n",
    "moon(45,78) # here (45,78) are arguments"
   ]
  },
  {
   "cell_type": "code",
   "execution_count": 5,
   "id": "6d68dfc8",
   "metadata": {},
   "outputs": [],
   "source": [
    "def moon(x,y):\n",
    "    def star(a,b):\n",
    "        def saturn(c,d):\n",
    "            def neptune(e,f):\n",
    "                def mars(g,h):\n",
    "                    return \n",
    "            "
   ]
  },
  {
   "cell_type": "markdown",
   "id": "7498fc83",
   "metadata": {},
   "source": [
    "# Python Functional Arguments\n",
    "\n",
    "* Positional Arguments\n",
    "* Keyword Arguments \n",
    "* Default Arguments\n",
    "* Variable-length Arguments"
   ]
  },
  {
   "cell_type": "code",
   "execution_count": 6,
   "id": "47a14e9a",
   "metadata": {},
   "outputs": [
    {
     "ename": "TypeError",
     "evalue": "my_function() takes 0 positional arguments but 1 was given",
     "output_type": "error",
     "traceback": [
      "\u001b[1;31m---------------------------------------------------------------------------\u001b[0m",
      "\u001b[1;31mTypeError\u001b[0m                                 Traceback (most recent call last)",
      "Cell \u001b[1;32mIn[6], line 3\u001b[0m\n\u001b[0;32m      1\u001b[0m \u001b[38;5;28;01mdef\u001b[39;00m \u001b[38;5;21mmy_function\u001b[39m():\n\u001b[0;32m      2\u001b[0m     \u001b[38;5;28;01mpass\u001b[39;00m\n\u001b[1;32m----> 3\u001b[0m \u001b[43mmy_function\u001b[49m\u001b[43m(\u001b[49m\u001b[38;5;241;43m56\u001b[39;49m\u001b[43m)\u001b[49m\n",
      "\u001b[1;31mTypeError\u001b[0m: my_function() takes 0 positional arguments but 1 was given"
     ]
    }
   ],
   "source": [
    "def my_function():\n",
    "    pass\n",
    "my_function(56)"
   ]
  },
  {
   "cell_type": "markdown",
   "id": "0f125343",
   "metadata": {},
   "source": [
    "<font size =4>1. **Positional Arguments** are arguments that are passed to a function in proper positional order."
   ]
  },
  {
   "cell_type": "code",
   "execution_count": 8,
   "id": "d56be728",
   "metadata": {},
   "outputs": [
    {
     "data": {
      "text/plain": [
       "44"
      ]
     },
     "execution_count": 8,
     "metadata": {},
     "output_type": "execute_result"
    }
   ],
   "source": [
    "def calc(p,q): \n",
    "    diff = p-q\n",
    "    return diff\n",
    "\n",
    "calc(89,45) # p= 89 , q = 98"
   ]
  },
  {
   "cell_type": "code",
   "execution_count": 13,
   "id": "044729ac",
   "metadata": {},
   "outputs": [
    {
     "data": {
      "text/plain": [
       "-44"
      ]
     },
     "execution_count": 13,
     "metadata": {},
     "output_type": "execute_result"
    }
   ],
   "source": [
    "def calc(q,p): \n",
    "    diff = p-q # because of this\n",
    "    return diff\n",
    "\n",
    "calc(89,45) # p= 89 , q = 98"
   ]
  },
  {
   "cell_type": "code",
   "execution_count": 9,
   "id": "b8d69d64",
   "metadata": {},
   "outputs": [
    {
     "data": {
      "text/plain": [
       "-44"
      ]
     },
     "execution_count": 9,
     "metadata": {},
     "output_type": "execute_result"
    }
   ],
   "source": [
    "calc(45,89)"
   ]
  },
  {
   "cell_type": "code",
   "execution_count": 10,
   "id": "2fbd62cc",
   "metadata": {},
   "outputs": [
    {
     "ename": "TypeError",
     "evalue": "calc() takes 2 positional arguments but 3 were given",
     "output_type": "error",
     "traceback": [
      "\u001b[1;31m---------------------------------------------------------------------------\u001b[0m",
      "\u001b[1;31mTypeError\u001b[0m                                 Traceback (most recent call last)",
      "Cell \u001b[1;32mIn[10], line 1\u001b[0m\n\u001b[1;32m----> 1\u001b[0m \u001b[43mcalc\u001b[49m\u001b[43m(\u001b[49m\u001b[38;5;241;43m89\u001b[39;49m\u001b[43m,\u001b[49m\u001b[38;5;241;43m45\u001b[39;49m\u001b[43m,\u001b[49m\u001b[38;5;241;43m56\u001b[39;49m\u001b[43m)\u001b[49m\n",
      "\u001b[1;31mTypeError\u001b[0m: calc() takes 2 positional arguments but 3 were given"
     ]
    }
   ],
   "source": [
    "calc(89,45,56)"
   ]
  },
  {
   "cell_type": "markdown",
   "id": "bafb45d2",
   "metadata": {},
   "source": [
    "<font size =6> # 2. Keyword Arguments-\n",
    "  * Values get assigned to the parameters by their name(keyword)\n",
    "  * here the order of the arguments does not matter.  "
   ]
  },
  {
   "cell_type": "code",
   "execution_count": 14,
   "id": "01bd619d",
   "metadata": {},
   "outputs": [
    {
     "data": {
      "text/plain": [
       "8"
      ]
     },
     "execution_count": 14,
     "metadata": {},
     "output_type": "execute_result"
    }
   ],
   "source": [
    "def calc(p,q):\n",
    "    diff = p-q\n",
    "    return diff\n",
    "calc(p=10,q=2)"
   ]
  },
  {
   "cell_type": "code",
   "execution_count": 15,
   "id": "7f321aef",
   "metadata": {},
   "outputs": [
    {
     "data": {
      "text/plain": [
       "8"
      ]
     },
     "execution_count": 15,
     "metadata": {},
     "output_type": "execute_result"
    }
   ],
   "source": [
    "calc(q=2,p=10)"
   ]
  },
  {
   "cell_type": "code",
   "execution_count": 16,
   "id": "49b3ef4f",
   "metadata": {},
   "outputs": [
    {
     "ename": "TypeError",
     "evalue": "calc() got an unexpected keyword argument 'a'",
     "output_type": "error",
     "traceback": [
      "\u001b[1;31m---------------------------------------------------------------------------\u001b[0m",
      "\u001b[1;31mTypeError\u001b[0m                                 Traceback (most recent call last)",
      "Cell \u001b[1;32mIn[16], line 1\u001b[0m\n\u001b[1;32m----> 1\u001b[0m \u001b[43mcalc\u001b[49m\u001b[43m(\u001b[49m\u001b[43ma\u001b[49m\u001b[38;5;241;43m=\u001b[39;49m\u001b[38;5;241;43m10\u001b[39;49m\u001b[43m,\u001b[49m\u001b[43mb\u001b[49m\u001b[38;5;241;43m=\u001b[39;49m\u001b[38;5;241;43m2\u001b[39;49m\u001b[43m)\u001b[49m\n",
      "\u001b[1;31mTypeError\u001b[0m: calc() got an unexpected keyword argument 'a'"
     ]
    }
   ],
   "source": [
    "calc(a=10,b=2)"
   ]
  },
  {
   "cell_type": "code",
   "execution_count": 24,
   "id": "93a6f1c0",
   "metadata": {},
   "outputs": [
    {
     "name": "stdout",
     "output_type": "stream",
     "text": [
      "Help on built-in function ord in module builtins:\n",
      "\n",
      "ord(c, /)\n",
      "    Return the Unicode code point for a one-character string.\n",
      "\n"
     ]
    }
   ],
   "source": [
    "help(ord)"
   ]
  },
  {
   "cell_type": "markdown",
   "id": "a94489d2",
   "metadata": {},
   "source": [
    "# Default Arguments-\n",
    "<font size = 4> * Takes the default value during the function call if we do not pass any argument"
   ]
  },
  {
   "cell_type": "code",
   "execution_count": 25,
   "id": "c8be3ffc",
   "metadata": {},
   "outputs": [
    {
     "name": "stdout",
     "output_type": "stream",
     "text": [
      "Hi\n"
     ]
    }
   ],
   "source": [
    "def get_message(msg='hello world'):\n",
    "    print(msg)\n",
    "get_message('Hi')"
   ]
  },
  {
   "cell_type": "code",
   "execution_count": 26,
   "id": "eb7e27b3",
   "metadata": {},
   "outputs": [
    {
     "name": "stdout",
     "output_type": "stream",
     "text": [
      "hello world\n"
     ]
    }
   ],
   "source": [
    "get_message()"
   ]
  },
  {
   "cell_type": "code",
   "execution_count": 27,
   "id": "2fa4f998",
   "metadata": {},
   "outputs": [
    {
     "ename": "TypeError",
     "evalue": "get_message() takes from 0 to 1 positional arguments but 2 were given",
     "output_type": "error",
     "traceback": [
      "\u001b[1;31m---------------------------------------------------------------------------\u001b[0m",
      "\u001b[1;31mTypeError\u001b[0m                                 Traceback (most recent call last)",
      "Cell \u001b[1;32mIn[27], line 3\u001b[0m\n\u001b[0;32m      1\u001b[0m \u001b[38;5;28;01mdef\u001b[39;00m \u001b[38;5;21mget_message\u001b[39m(msg\u001b[38;5;241m=\u001b[39m\u001b[38;5;124m'\u001b[39m\u001b[38;5;124mhello world\u001b[39m\u001b[38;5;124m'\u001b[39m):\n\u001b[0;32m      2\u001b[0m     \u001b[38;5;28mprint\u001b[39m(msg)\n\u001b[1;32m----> 3\u001b[0m \u001b[43mget_message\u001b[49m\u001b[43m(\u001b[49m\u001b[38;5;124;43m'\u001b[39;49m\u001b[38;5;124;43mHi\u001b[39;49m\u001b[38;5;124;43m'\u001b[39;49m\u001b[43m,\u001b[49m\u001b[38;5;124;43m'\u001b[39;49m\u001b[38;5;124;43mHello world\u001b[39;49m\u001b[38;5;124;43m'\u001b[39;49m\u001b[43m)\u001b[49m\n",
      "\u001b[1;31mTypeError\u001b[0m: get_message() takes from 0 to 1 positional arguments but 2 were given"
     ]
    }
   ],
   "source": [
    "def get_message(msg='hello world'):\n",
    "    print(msg)\n",
    "get_message('Hi','Hello world')"
   ]
  },
  {
   "cell_type": "code",
   "execution_count": 34,
   "id": "9fc63e8d",
   "metadata": {},
   "outputs": [
    {
     "name": "stdout",
     "output_type": "stream",
     "text": [
      "Hi\n"
     ]
    }
   ],
   "source": [
    "def get_message(msg='hello world',hi='hii'):  # confusing\n",
    "    print(msg)\n",
    "get_message('Hi','Hello world')"
   ]
  },
  {
   "cell_type": "code",
   "execution_count": 36,
   "id": "65a225f7",
   "metadata": {},
   "outputs": [
    {
     "name": "stdout",
     "output_type": "stream",
     "text": [
      "Hi\n"
     ]
    }
   ],
   "source": [
    "def get_message(msg='hello world',hi='hii'):  # confusing\n",
    "    print(msg)\n",
    "get_message('Hi')"
   ]
  },
  {
   "cell_type": "code",
   "execution_count": 37,
   "id": "bcb31f39",
   "metadata": {},
   "outputs": [
    {
     "name": "stdout",
     "output_type": "stream",
     "text": [
      "hello world\n"
     ]
    }
   ],
   "source": [
    "def get_message(msg='hello world',hi='hii'):  # confusing\n",
    "    print(msg)\n",
    "get_message()"
   ]
  },
  {
   "cell_type": "code",
   "execution_count": 38,
   "id": "c12472e1",
   "metadata": {},
   "outputs": [
    {
     "ename": "TypeError",
     "evalue": "get_message() missing 1 required positional argument: 'msg'",
     "output_type": "error",
     "traceback": [
      "\u001b[1;31m---------------------------------------------------------------------------\u001b[0m",
      "\u001b[1;31mTypeError\u001b[0m                                 Traceback (most recent call last)",
      "Cell \u001b[1;32mIn[38], line 3\u001b[0m\n\u001b[0;32m      1\u001b[0m \u001b[38;5;28;01mdef\u001b[39;00m \u001b[38;5;21mget_message\u001b[39m(msg,hi\u001b[38;5;241m=\u001b[39m\u001b[38;5;124m'\u001b[39m\u001b[38;5;124mhii\u001b[39m\u001b[38;5;124m'\u001b[39m):  \u001b[38;5;66;03m# confusing\u001b[39;00m\n\u001b[0;32m      2\u001b[0m     \u001b[38;5;28mprint\u001b[39m(msg)\n\u001b[1;32m----> 3\u001b[0m \u001b[43mget_message\u001b[49m\u001b[43m(\u001b[49m\u001b[43m)\u001b[49m\n",
      "\u001b[1;31mTypeError\u001b[0m: get_message() missing 1 required positional argument: 'msg'"
     ]
    }
   ],
   "source": [
    "def get_message(msg,hi='hii'):  # confusing\n",
    "    print(msg)\n",
    "get_message()"
   ]
  },
  {
   "cell_type": "code",
   "execution_count": 35,
   "id": "81b39ac6",
   "metadata": {},
   "outputs": [
    {
     "ename": "TypeError",
     "evalue": "get_message() missing 1 required positional argument: 'msg'",
     "output_type": "error",
     "traceback": [
      "\u001b[1;31m---------------------------------------------------------------------------\u001b[0m",
      "\u001b[1;31mTypeError\u001b[0m                                 Traceback (most recent call last)",
      "Cell \u001b[1;32mIn[35], line 3\u001b[0m\n\u001b[0;32m      1\u001b[0m \u001b[38;5;28;01mdef\u001b[39;00m \u001b[38;5;21mget_message\u001b[39m(msg):\n\u001b[0;32m      2\u001b[0m     \u001b[38;5;28mprint\u001b[39m(msg)\n\u001b[1;32m----> 3\u001b[0m \u001b[43mget_message\u001b[49m\u001b[43m(\u001b[49m\u001b[43m)\u001b[49m\n",
      "\u001b[1;31mTypeError\u001b[0m: get_message() missing 1 required positional argument: 'msg'"
     ]
    }
   ],
   "source": [
    "def get_message(msg):\n",
    "    print(msg)\n",
    "get_message()    "
   ]
  },
  {
   "cell_type": "code",
   "execution_count": 41,
   "id": "3fec3e0f",
   "metadata": {},
   "outputs": [
    {
     "name": "stdout",
     "output_type": "stream",
     "text": [
      "hi 78\n"
     ]
    }
   ],
   "source": [
    "def get_message(msg,hi='hii'): # (msg=parameter),(hi='hii'=default value)\n",
    "    print(msg,hi)\n",
    "get_message('hi',hi=78)"
   ]
  },
  {
   "cell_type": "markdown",
   "id": "21bfe2a0",
   "metadata": {},
   "source": [
    "# Variable-length arguments or Arbitary Arguments"
   ]
  },
  {
   "cell_type": "markdown",
   "id": "210a1009",
   "metadata": {},
   "source": [
    "<font size= 4>**When we need to pass multiple arguments to the function , we can use variable-length arguments.**"
   ]
  },
  {
   "cell_type": "code",
   "execution_count": 5,
   "id": "c0739dd4",
   "metadata": {},
   "outputs": [
    {
     "name": "stdout",
     "output_type": "stream",
     "text": [
      "(9, 4, 12)\n",
      "17\n"
     ]
    }
   ],
   "source": [
    "# Arbitary positional arguments\n",
    "def average(*numbers):  # numbers is a tuple\n",
    "    print(numbers)\n",
    "    diff=20\n",
    "    for x in numbers:\n",
    "        diff =diff-1\n",
    "    print(diff)\n",
    "average(9,4,12)    "
   ]
  },
  {
   "cell_type": "code",
   "execution_count": 9,
   "id": "1d1403e1",
   "metadata": {},
   "outputs": [
    {
     "name": "stdout",
     "output_type": "stream",
     "text": [
      "(1, 2, 3, 4, 5, 6, 7, 8, 9, 10)\n",
      "5.5\n"
     ]
    }
   ],
   "source": [
    "def average(*numbers):  # when we have to use this arguments we have to write it with its syntax (*)\n",
    "    print(numbers)\n",
    "    sum=0\n",
    "    for x in numbers:\n",
    "        sum = sum+x\n",
    "    print(sum/len(numbers))\n",
    "average(1,2,3,4,5,6,7,8,9,10)    "
   ]
  },
  {
   "cell_type": "code",
   "execution_count": 10,
   "id": "d3acce24",
   "metadata": {},
   "outputs": [
    {
     "name": "stdout",
     "output_type": "stream",
     "text": [
      "{'math': 56, 'english': 61, 'science': 73}\n",
      "math\n",
      "math = 56\n",
      "english\n",
      "english = 61\n",
      "science\n",
      "science = 73\n"
     ]
    }
   ],
   "source": [
    "def my_func(**kwargs):  # kwargs is a dictionary\n",
    "    print(kwargs)\n",
    "    for sub in kwargs:\n",
    "        print(sub)\n",
    "        # get argument value\n",
    "        sub_marks = kwargs[sub]\n",
    "        print(sub, '=' , sub_marks)\n",
    "\n",
    "# pass multiple keyword arguments\n",
    "my_func(math=56, english=61 , science=73)"
   ]
  },
  {
   "cell_type": "code",
   "execution_count": 12,
   "id": "b047552e",
   "metadata": {},
   "outputs": [
    {
     "name": "stdout",
     "output_type": "stream",
     "text": [
      "{'math': 56, 'english': 61, 'science': 73}\n",
      "math = 56\n",
      "18.666666666666668\n",
      "english = 61\n",
      "20.333333333333332\n",
      "science = 73\n",
      "24.333333333333332\n"
     ]
    }
   ],
   "source": [
    "def my_func(**kwargs):  # when we have to use this arguments we have to write it with its syntax (**)\n",
    "    print(kwargs)\n",
    "    for sub in kwargs:\n",
    "        # get argument value\n",
    "        sub_marks = kwargs[sub]  # calling it value by its key and cause of for loop it will iterate over and over.\n",
    "        print(sub, '=' , sub_marks)\n",
    "        print(sub_marks/len(kwargs))\n",
    "\n",
    "# pass multiple keyword arguments\n",
    "my_func(math=56, english=61 , science=73)"
   ]
  },
  {
   "cell_type": "code",
   "execution_count": 13,
   "id": "1b091008",
   "metadata": {},
   "outputs": [
    {
     "data": {
      "text/plain": [
       "'hello world'"
      ]
     },
     "execution_count": 13,
     "metadata": {},
     "output_type": "execute_result"
    }
   ],
   "source": [
    "def testing(x):\n",
    "    if x ==10:\n",
    "        return 'hello world'\n",
    "    return testing(x-1)\n",
    "testing(15)"
   ]
  },
  {
   "cell_type": "code",
   "execution_count": 15,
   "id": "238266cc",
   "metadata": {},
   "outputs": [],
   "source": [
    "def testing(x):\n",
    "    if x ==10:\n",
    "        return 'hello world'\n",
    "testing(15)"
   ]
  },
  {
   "cell_type": "code",
   "execution_count": 17,
   "id": "b9ac41c7",
   "metadata": {},
   "outputs": [
    {
     "name": "stdout",
     "output_type": "stream",
     "text": [
      "hello\n"
     ]
    }
   ],
   "source": [
    "print(\"hello\",sep='hello')"
   ]
  },
  {
   "cell_type": "markdown",
   "id": "831c8f4e",
   "metadata": {},
   "source": [
    "# Recursion"
   ]
  },
  {
   "cell_type": "markdown",
   "id": "ad748d86",
   "metadata": {},
   "source": [
    "* A recursion function is a function taht calls itself, again and again"
   ]
  },
  {
   "cell_type": "code",
   "execution_count": null,
   "id": "b5d39914",
   "metadata": {},
   "outputs": [],
   "source": [
    "def my_func():\n",
    "    my_func()\n",
    "my_func\n"
   ]
  },
  {
   "cell_type": "code",
   "execution_count": 2,
   "id": "7beba230",
   "metadata": {},
   "outputs": [
    {
     "name": "stdout",
     "output_type": "stream",
     "text": [
      "Factorial of number is : 24\n"
     ]
    }
   ],
   "source": [
    "def factorial(no):\n",
    "    if no==0:\n",
    "        return 1\n",
    "    else:\n",
    "        return no*factorial(no-1)\n",
    "    \n",
    "print(\"Factorial of number is :\", factorial(4))    "
   ]
  },
  {
   "cell_type": "markdown",
   "id": "468b7335",
   "metadata": {},
   "source": [
    "# Lambda Function(anonymous)"
   ]
  },
  {
   "cell_type": "code",
   "execution_count": 5,
   "id": "ed69bb01",
   "metadata": {},
   "outputs": [],
   "source": [
    "# used for instant and one-time use\n",
    "# Written in just one time\n"
   ]
  },
  {
   "cell_type": "code",
   "execution_count": 1,
   "id": "bcf6359c",
   "metadata": {},
   "outputs": [],
   "source": [
    "#syntax = lambda : expression\n",
    "         #lambda parameters : expression"
   ]
  },
  {
   "cell_type": "code",
   "execution_count": 14,
   "id": "320fc2a3",
   "metadata": {},
   "outputs": [
    {
     "name": "stdout",
     "output_type": "stream",
     "text": [
      "Hello world\n"
     ]
    }
   ],
   "source": [
    "(lambda: print(\"Hello world\"))()"
   ]
  },
  {
   "cell_type": "code",
   "execution_count": 3,
   "id": "b329dafb",
   "metadata": {},
   "outputs": [
    {
     "name": "stdout",
     "output_type": "stream",
     "text": [
      "15\n"
     ]
    }
   ],
   "source": [
    "# we can make parameters in lambda\n",
    "( lambda x,y : print(x+y))(10,5)"
   ]
  },
  {
   "cell_type": "code",
   "execution_count": 16,
   "id": "9421987b",
   "metadata": {},
   "outputs": [
    {
     "data": {
      "text/plain": [
       "<function __main__.<lambda>(a)>"
      ]
     },
     "execution_count": 16,
     "metadata": {},
     "output_type": "execute_result"
    }
   ],
   "source": [
    "lambda a : print(a+5)(10)"
   ]
  },
  {
   "cell_type": "code",
   "execution_count": 8,
   "id": "2430acf8",
   "metadata": {},
   "outputs": [
    {
     "name": "stdout",
     "output_type": "stream",
     "text": [
      "15\n"
     ]
    }
   ],
   "source": [
    "(lambda a : print(a+5))(10)"
   ]
  },
  {
   "cell_type": "code",
   "execution_count": 15,
   "id": "c1909728",
   "metadata": {},
   "outputs": [
    {
     "ename": "SyntaxError",
     "evalue": "cannot assign to lambda (2786708850.py, line 2)",
     "output_type": "error",
     "traceback": [
      "\u001b[1;36m  Cell \u001b[1;32mIn[15], line 2\u001b[1;36m\u001b[0m\n\u001b[1;33m    lambda a : sum=9\u001b[0m\n\u001b[1;37m    ^\u001b[0m\n\u001b[1;31mSyntaxError\u001b[0m\u001b[1;31m:\u001b[0m cannot assign to lambda\n"
     ]
    }
   ],
   "source": [
    "sum=12\n",
    "lambda a : sum=9# this is not an expression cause it is just assigning it , its not giving any value"
   ]
  },
  {
   "cell_type": "code",
   "execution_count": 17,
   "id": "f7e2cb5d",
   "metadata": {},
   "outputs": [
    {
     "ename": "SyntaxError",
     "evalue": "cannot assign to lambda (3664923169.py, line 2)",
     "output_type": "error",
     "traceback": [
      "\u001b[1;36m  Cell \u001b[1;32mIn[17], line 2\u001b[1;36m\u001b[0m\n\u001b[1;33m    lambda a : sum=9(10)\u001b[0m\n\u001b[1;37m    ^\u001b[0m\n\u001b[1;31mSyntaxError\u001b[0m\u001b[1;31m:\u001b[0m cannot assign to lambda\n"
     ]
    }
   ],
   "source": [
    "sum=12\n",
    "lambda a : sum=9(10)"
   ]
  },
  {
   "cell_type": "code",
   "execution_count": 18,
   "id": "ed23d907",
   "metadata": {},
   "outputs": [],
   "source": [
    "# functions\n",
    "# 1. filter(function,iterable)"
   ]
  },
  {
   "cell_type": "code",
   "execution_count": 21,
   "id": "c4caf73a",
   "metadata": {},
   "outputs": [
    {
     "data": {
      "text/plain": [
       "[2, 4, 6]"
      ]
     },
     "execution_count": 21,
     "metadata": {},
     "output_type": "execute_result"
    }
   ],
   "source": [
    "list(filter(lambda x : x%2==0,(1,2,3,4,5,6)))"
   ]
  },
  {
   "cell_type": "code",
   "execution_count": 22,
   "id": "a7133e91",
   "metadata": {},
   "outputs": [
    {
     "data": {
      "text/plain": [
       "[]"
      ]
     },
     "execution_count": 22,
     "metadata": {},
     "output_type": "execute_result"
    }
   ],
   "source": [
    "list(filter(lambda x : None ,(1,2,3,4,5,6)))"
   ]
  },
  {
   "cell_type": "code",
   "execution_count": 23,
   "id": "d099c106",
   "metadata": {},
   "outputs": [
    {
     "data": {
      "text/plain": [
       "[1, 2, 3, 4, 5, 6]"
      ]
     },
     "execution_count": 23,
     "metadata": {},
     "output_type": "execute_result"
    }
   ],
   "source": [
    "list(filter(lambda x : True ,(1,2,3,4,5,6)))"
   ]
  },
  {
   "cell_type": "code",
   "execution_count": 24,
   "id": "183cdf82",
   "metadata": {},
   "outputs": [
    {
     "data": {
      "text/plain": [
       "[]"
      ]
     },
     "execution_count": 24,
     "metadata": {},
     "output_type": "execute_result"
    }
   ],
   "source": [
    "list(filter(lambda x : 0,(1,2,3,4,5,6)))"
   ]
  },
  {
   "cell_type": "code",
   "execution_count": 25,
   "id": "6ef43c08",
   "metadata": {},
   "outputs": [
    {
     "data": {
      "text/plain": [
       "[1, 2, 3, 4, 5, 6]"
      ]
     },
     "execution_count": 25,
     "metadata": {},
     "output_type": "execute_result"
    }
   ],
   "source": [
    "list(filter(lambda x : 67,(1,2,3,4,5,6)))"
   ]
  },
  {
   "cell_type": "code",
   "execution_count": 26,
   "id": "deccdabd",
   "metadata": {},
   "outputs": [
    {
     "data": {
      "text/plain": [
       "True"
      ]
     },
     "execution_count": 26,
     "metadata": {},
     "output_type": "execute_result"
    }
   ],
   "source": [
    "(lambda x : x%2==0)(8)"
   ]
  },
  {
   "cell_type": "code",
   "execution_count": 31,
   "id": "83fead43",
   "metadata": {},
   "outputs": [
    {
     "data": {
      "text/plain": [
       "<filter at 0x12035c58880>"
      ]
     },
     "execution_count": 31,
     "metadata": {},
     "output_type": "execute_result"
    }
   ],
   "source": [
    "(filter(lambda x : x%2==0,(1,2,3,4,5,6)))"
   ]
  },
  {
   "cell_type": "code",
   "execution_count": 3,
   "id": "d98e9a51",
   "metadata": {},
   "outputs": [
    {
     "ename": "SyntaxError",
     "evalue": "invalid syntax (3823322206.py, line 1)",
     "output_type": "error",
     "traceback": [
      "\u001b[1;36m  Cell \u001b[1;32mIn[3], line 1\u001b[1;36m\u001b[0m\n\u001b[1;33m    (filter(lambda y,x,z : if(y==0)print(y),(0,1,2)))()\u001b[0m\n\u001b[1;37m                           ^\u001b[0m\n\u001b[1;31mSyntaxError\u001b[0m\u001b[1;31m:\u001b[0m invalid syntax\n"
     ]
    }
   ],
   "source": [
    "(filter(lambda y,x,z : if(y==0) else print(y),(0,1,2)))()"
   ]
  },
  {
   "cell_type": "code",
   "execution_count": 34,
   "id": "170c7f0b",
   "metadata": {},
   "outputs": [
    {
     "name": "stdout",
     "output_type": "stream",
     "text": [
      "hello world\n",
      "7\n",
      "65\n",
      "1036\n",
      "1.3214285714285714\n",
      "4\n"
     ]
    }
   ],
   "source": [
    "(lambda : print(\"hello world\"))()\n",
    "def fun_(y,z):\n",
    "    print(1+6)\n",
    "    print(y+z)\n",
    "    print(y*z)\n",
    "    print(y/z)\n",
    "    print(2+2)\n",
    "fun_(37,28)    "
   ]
  },
  {
   "cell_type": "code",
   "execution_count": 36,
   "id": "35b5c7bd",
   "metadata": {},
   "outputs": [
    {
     "name": "stdout",
     "output_type": "stream",
     "text": [
      "7\n",
      "65\n",
      "1036\n",
      "1.3214285714285714\n",
      "4\n",
      "hello world\n",
      "7\n",
      "106\n",
      "2613\n",
      "1.7179487179487178\n",
      "4\n"
     ]
    }
   ],
   "source": [
    "def fun_(y,z):\n",
    "    print(1+6)\n",
    "    print(y+z)\n",
    "    print(y*z)\n",
    "    print(y/z)\n",
    "    print(2+2)\n",
    "fun_(37,28) \n",
    "(lambda : print(\"hello world\"))()\n",
    "fun_(67,39)"
   ]
  },
  {
   "cell_type": "code",
   "execution_count": 37,
   "id": "9c4bbd82",
   "metadata": {},
   "outputs": [
    {
     "ename": "TypeError",
     "evalue": "'str' object is not callable",
     "output_type": "error",
     "traceback": [
      "\u001b[1;31m---------------------------------------------------------------------------\u001b[0m",
      "\u001b[1;31mTypeError\u001b[0m                                 Traceback (most recent call last)",
      "Cell \u001b[1;32mIn[37], line 1\u001b[0m\n\u001b[1;32m----> 1\u001b[0m \u001b[38;5;28;43mstr\u001b[39;49m\u001b[43m(\u001b[49m\u001b[43m(\u001b[49m\u001b[38;5;28;43;01mlambda\u001b[39;49;00m\u001b[43m \u001b[49m\u001b[43m:\u001b[49m\u001b[43m \u001b[49m\u001b[38;5;28;43mprint\u001b[39;49m\u001b[43m(\u001b[49m\u001b[38;5;241;43m27\u001b[39;49m\u001b[38;5;241;43m+\u001b[39;49m\u001b[38;5;241;43m46\u001b[39;49m\u001b[43m)\u001b[49m\u001b[43m)\u001b[49m\u001b[43m)\u001b[49m\u001b[43m(\u001b[49m\u001b[43m)\u001b[49m\n",
      "\u001b[1;31mTypeError\u001b[0m: 'str' object is not callable"
     ]
    }
   ],
   "source": [
    "str((lambda : print(27+46)))()"
   ]
  },
  {
   "cell_type": "code",
   "execution_count": 39,
   "id": "0d301c2b",
   "metadata": {},
   "outputs": [
    {
     "ename": "TypeError",
     "evalue": "'function' object is not iterable",
     "output_type": "error",
     "traceback": [
      "\u001b[1;31m---------------------------------------------------------------------------\u001b[0m",
      "\u001b[1;31mTypeError\u001b[0m                                 Traceback (most recent call last)",
      "Cell \u001b[1;32mIn[39], line 1\u001b[0m\n\u001b[1;32m----> 1\u001b[0m \u001b[38;5;28;43mset\u001b[39;49m\u001b[43m(\u001b[49m\u001b[43m(\u001b[49m\u001b[38;5;28;43;01mlambda\u001b[39;49;00m\u001b[43m \u001b[49m\u001b[43m:\u001b[49m\u001b[43m \u001b[49m\u001b[38;5;28;43mprint\u001b[39;49m\u001b[43m(\u001b[49m\u001b[38;5;241;43m2\u001b[39;49m\u001b[43m,\u001b[49m\u001b[38;5;241;43m3\u001b[39;49m\u001b[43m,\u001b[49m\u001b[38;5;241;43m4\u001b[39;49m\u001b[43m,\u001b[49m\u001b[38;5;241;43m5\u001b[39;49m\u001b[43m,\u001b[49m\u001b[43m)\u001b[49m\u001b[43m)\u001b[49m\u001b[43m)\u001b[49m()\n",
      "\u001b[1;31mTypeError\u001b[0m: 'function' object is not iterable"
     ]
    }
   ],
   "source": [
    "set((lambda : print(2,3,4,5,)))()"
   ]
  },
  {
   "cell_type": "code",
   "execution_count": 40,
   "id": "19c888a7",
   "metadata": {},
   "outputs": [
    {
     "name": "stdout",
     "output_type": "stream",
     "text": [
      "27+46\n"
     ]
    }
   ],
   "source": [
    "(lambda : print(\"27+46\"))()"
   ]
  },
  {
   "cell_type": "code",
   "execution_count": 41,
   "id": "554cc528",
   "metadata": {},
   "outputs": [],
   "source": [
    "# map (function,iterable)\n",
    "# Takes a function as a first argument and applies it to each of the element of the iterable."
   ]
  },
  {
   "cell_type": "code",
   "execution_count": 42,
   "id": "3724d520",
   "metadata": {},
   "outputs": [
    {
     "name": "stdout",
     "output_type": "stream",
     "text": [
      "Result is : [4, 5, 6, 10, 11]\n"
     ]
    }
   ],
   "source": [
    "list1 = [2,3,4,8,9]\n",
    "list2 = list(map(lambda x: x+2 , list1))\n",
    "print(\"Result is :\", list2)"
   ]
  },
  {
   "cell_type": "code",
   "execution_count": 43,
   "id": "8bf461a5",
   "metadata": {},
   "outputs": [
    {
     "name": "stdout",
     "output_type": "stream",
     "text": [
      "Result is : ['data science', 'data science', 'data science', 'data science', 'data science']\n"
     ]
    }
   ],
   "source": [
    "list1 = [2,3,4,8,9]\n",
    "list2 = list(map(lambda x: \"data science\" , list1)) # it will replace the value \n",
    "print(\"Result is :\", list2)"
   ]
  },
  {
   "cell_type": "code",
   "execution_count": 50,
   "id": "97b3606d",
   "metadata": {},
   "outputs": [
    {
     "ename": "SyntaxError",
     "evalue": "invalid syntax (3225412875.py, line 2)",
     "output_type": "error",
     "traceback": [
      "\u001b[1;36m  Cell \u001b[1;32mIn[50], line 2\u001b[1;36m\u001b[0m\n\u001b[1;33m    y = list(map(lambda x[0] : \"R\",x))\u001b[0m\n\u001b[1;37m                         ^\u001b[0m\n\u001b[1;31mSyntaxError\u001b[0m\u001b[1;31m:\u001b[0m invalid syntax\n"
     ]
    }
   ],
   "source": [
    "x = \"rohan\"\n",
    "y = list(map(lambda x[0] : \"R\",x))\n",
    "print(y)"
   ]
  },
  {
   "cell_type": "code",
   "execution_count": 51,
   "id": "ff7710e0",
   "metadata": {},
   "outputs": [
    {
     "name": "stdout",
     "output_type": "stream",
     "text": [
      "[8, 8, 8, 8]\n"
     ]
    }
   ],
   "source": [
    "x = [1,2,3,4]\n",
    "y = list(map(lambda x : 8 ,x))\n",
    "print(y)"
   ]
  },
  {
   "cell_type": "code",
   "execution_count": 55,
   "id": "ed2368f6",
   "metadata": {},
   "outputs": [
    {
     "ename": "OverflowError",
     "evalue": "Python int too large to convert to C ssize_t",
     "output_type": "error",
     "traceback": [
      "\u001b[1;31m---------------------------------------------------------------------------\u001b[0m",
      "\u001b[1;31mOverflowError\u001b[0m                             Traceback (most recent call last)",
      "Cell \u001b[1;32mIn[55], line 2\u001b[0m\n\u001b[0;32m      1\u001b[0m x \u001b[38;5;241m=\u001b[39m [\u001b[38;5;241m1\u001b[39m,\u001b[38;5;241m2\u001b[39m,\u001b[38;5;241m3\u001b[39m,\u001b[38;5;241m4\u001b[39m]\n\u001b[1;32m----> 2\u001b[0m y \u001b[38;5;241m=\u001b[39m \u001b[38;5;28;43mdict\u001b[39;49m\u001b[43m(\u001b[49m\u001b[38;5;28;43mmap\u001b[39;49m\u001b[43m(\u001b[49m\u001b[38;5;28;43;01mlambda\u001b[39;49;00m\u001b[43m \u001b[49m\u001b[43mx\u001b[49m\u001b[43m \u001b[49m\u001b[43m:\u001b[49m\u001b[43m \u001b[49m\u001b[38;5;28;43mrange\u001b[39;49m\u001b[43m(\u001b[49m\u001b[38;5;241;43m1\u001b[39;49m\u001b[43m,\u001b[49m\u001b[38;5;241;43m10000000000000000000000000000\u001b[39;49m\u001b[43m)\u001b[49m\u001b[43m \u001b[49m\u001b[43m,\u001b[49m\u001b[43mx\u001b[49m\u001b[43m)\u001b[49m\u001b[43m)\u001b[49m\n\u001b[0;32m      3\u001b[0m \u001b[38;5;28mlist\u001b[39m \u001b[38;5;241m=\u001b[39m y\n\u001b[0;32m      4\u001b[0m \u001b[38;5;28mprint\u001b[39m(y)\n",
      "\u001b[1;31mOverflowError\u001b[0m: Python int too large to convert to C ssize_t"
     ]
    }
   ],
   "source": [
    "x = [1,2,3,4]\n",
    "y = dict(map(lambda x : range(1,10000000000000000000000000000) ,x))\n",
    "list = y\n",
    "print(y)"
   ]
  },
  {
   "cell_type": "code",
   "execution_count": 58,
   "id": "a43d1641",
   "metadata": {},
   "outputs": [
    {
     "name": "stdout",
     "output_type": "stream",
     "text": [
      "8\n"
     ]
    }
   ],
   "source": [
    "x = 8\n",
    "if(x%2==0) : print(x)"
   ]
  },
  {
   "cell_type": "code",
   "execution_count": 5,
   "id": "edef1cff",
   "metadata": {},
   "outputs": [
    {
     "ename": "TypeError",
     "evalue": "unsupported operand type(s) for %: 'tuple' and 'int'",
     "output_type": "error",
     "traceback": [
      "\u001b[1;31m---------------------------------------------------------------------------\u001b[0m",
      "\u001b[1;31mTypeError\u001b[0m                                 Traceback (most recent call last)",
      "Cell \u001b[1;32mIn[5], line 2\u001b[0m\n\u001b[0;32m      1\u001b[0m x \u001b[38;5;241m=\u001b[39m (\u001b[38;5;241m22\u001b[39m,\u001b[38;5;241m23\u001b[39m,\u001b[38;5;241m24\u001b[39m,\u001b[38;5;241m25\u001b[39m)\n\u001b[1;32m----> 2\u001b[0m \u001b[38;5;28;01mif\u001b[39;00m(x\u001b[38;5;241m%\u001b[39m\u001b[38;5;241m2\u001b[39m\u001b[38;5;241m==\u001b[39m\u001b[38;5;241m0\u001b[39m) : \u001b[38;5;28mprint\u001b[39m(x)\n",
      "\u001b[1;31mTypeError\u001b[0m: unsupported operand type(s) for %: 'tuple' and 'int'"
     ]
    }
   ],
   "source": [
    "\n",
    "if(x%2==0) : print(x)"
   ]
  },
  {
   "cell_type": "code",
   "execution_count": 1,
   "id": "70fc72b5",
   "metadata": {},
   "outputs": [
    {
     "data": {
      "text/plain": [
       "'odd'"
      ]
     },
     "execution_count": 1,
     "metadata": {},
     "output_type": "execute_result"
    }
   ],
   "source": [
    "even_or_odd = lambda x : \"Even\" if x%2==0 else \"Odd\"\n",
    "even_or_odd(4)\n",
    "\"Even\"\n",
    "even_or_odd(5)\n",
    "\"odd\"\n"
   ]
  },
  {
   "cell_type": "code",
   "execution_count": null,
   "id": "6f098148",
   "metadata": {},
   "outputs": [],
   "source": [
    "even_or_odd = lambda x : \"Even\" if x%2==0 else \"Odd\""
   ]
  },
  {
   "cell_type": "code",
   "execution_count": 4,
   "id": "f831cafc",
   "metadata": {},
   "outputs": [
    {
     "name": "stdout",
     "output_type": "stream",
     "text": [
      "Even numbers [2, 4, 6, 8, 10]\n",
      "Odd numbers [1, 3, 5, 7, 9]\n"
     ]
    }
   ],
   "source": [
    "numbers = list(range (1,11))\n",
    "even = list(filter(lambda x : x%2==0 , numbers))\n",
    "odd = list(filter(lambda x : x%2 != 0 , numbers))\n",
    "\n",
    "print(\"Even numbers\", even)\n",
    "print(\"Odd numbers\", odd)"
   ]
  },
  {
   "cell_type": "code",
   "execution_count": 9,
   "id": "00e85f21",
   "metadata": {},
   "outputs": [
    {
     "name": "stdout",
     "output_type": "stream",
     "text": [
      "Even numbers [2, 4, 6, 8, 10]\n",
      "Odd numbers [1, 3, 5, 7, 9]\n"
     ]
    }
   ],
   "source": [
    "numbers = list(range(1,11))\n",
    "even = list(filter(lambda x : \"Even\" if x%2==0 else '',numbers))\n",
    "odd = list(filter(lambda x: \"Odd\" if x%2!=0 else \"\", numbers))\n",
    "\n",
    "print(\"Even numbers\", even)\n",
    "print(\"Odd numbers\" , odd)"
   ]
  },
  {
   "cell_type": "code",
   "execution_count": 13,
   "id": "f22b40b7",
   "metadata": {},
   "outputs": [
    {
     "name": "stdout",
     "output_type": "stream",
     "text": [
      "Even numbers [1, 2, 3, 4, 5, 6, 7, 8, 9, 10]\n",
      "Odd numbers [1, 3, 5, 7, 9]\n"
     ]
    }
   ],
   "source": [
    "numbers = list(range(1,11))\n",
    "even = list(filter(lambda x : x if x%2==0 else x,numbers))\n",
    "odd = list(filter(lambda x: \"Odd\" if x%2!=0 else \"\", numbers))\n",
    "\n",
    "print(\"Even numbers\", even)\n",
    "print(\"Odd numbers\" , odd)"
   ]
  },
  {
   "cell_type": "code",
   "execution_count": null,
   "id": "a2bfa9b9",
   "metadata": {},
   "outputs": [],
   "source": []
  }
 ],
 "metadata": {
  "kernelspec": {
   "display_name": "Python 3 (ipykernel)",
   "language": "python",
   "name": "python3"
  },
  "language_info": {
   "codemirror_mode": {
    "name": "ipython",
    "version": 3
   },
   "file_extension": ".py",
   "mimetype": "text/x-python",
   "name": "python",
   "nbconvert_exporter": "python",
   "pygments_lexer": "ipython3",
   "version": "3.10.9"
  }
 },
 "nbformat": 4,
 "nbformat_minor": 5
}
